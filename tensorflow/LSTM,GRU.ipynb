{
  "nbformat": 4,
  "nbformat_minor": 0,
  "metadata": {
    "colab": {
      "name": "LSTM, GRU(2022_01_28).ipynb",
      "provenance": [],
      "collapsed_sections": [],
      "machine_shape": "hm"
    },
    "kernelspec": {
      "name": "python3",
      "display_name": "Python 3"
    },
    "language_info": {
      "name": "python"
    },
    "accelerator": "GPU"
  },
  "cells": [
    {
      "cell_type": "markdown",
      "source": [
        "# LSTM과 GRU 레이어\n",
        "* gradient의 소실 문제를 보완\n",
        "* 장단기 메모리 알고리즘"
      ],
      "metadata": {
        "id": "02QarEi9tVj0"
      }
    },
    {
      "cell_type": "markdown",
      "source": [
        "## 데이터셋 로드"
      ],
      "metadata": {
        "id": "rGl6MztHuSja"
      }
    },
    {
      "cell_type": "code",
      "execution_count": 4,
      "metadata": {
        "id": "0an33RC2tOV3"
      },
      "outputs": [],
      "source": [
        "from tensorflow.keras.datasets import reuters "
      ]
    },
    {
      "cell_type": "code",
      "source": [
        "num_words = 10000\n",
        "(X_train, y_train), (X_val, y_val) = reuters.load_data(num_words = num_words)\n",
        "\n",
        "print(X_train.shape)\n",
        "\n",
        "print(X_val.shape)"
      ],
      "metadata": {
        "colab": {
          "base_uri": "https://localhost:8080/"
        },
        "id": "TICpUebJt4z7",
        "outputId": "53a4d48b-dbd5-4283-a5a5-98609e25384c"
      },
      "execution_count": 5,
      "outputs": [
        {
          "output_type": "stream",
          "name": "stdout",
          "text": [
            "Downloading data from https://storage.googleapis.com/tensorflow/tf-keras-datasets/reuters.npz\n",
            "2113536/2110848 [==============================] - 0s 0us/step\n",
            "2121728/2110848 [==============================] - 0s 0us/step\n",
            "(8982,)\n",
            "(2246,)\n"
          ]
        }
      ]
    },
    {
      "cell_type": "markdown",
      "source": [
        "## 데이터 전처리 확인"
      ],
      "metadata": {
        "id": "lG7q6xtEuU0_"
      }
    },
    {
      "cell_type": "code",
      "source": [
        "from tensorflow.keras.preprocessing.sequence import pad_sequences"
      ],
      "metadata": {
        "id": "eUN7dGdauEy6"
      },
      "execution_count": 6,
      "outputs": []
    },
    {
      "cell_type": "code",
      "source": [
        "max_len = 500"
      ],
      "metadata": {
        "id": "4M-YehXZuhIb"
      },
      "execution_count": 7,
      "outputs": []
    },
    {
      "cell_type": "code",
      "source": [
        "pad_X_train = pad_sequences(X_train, maxlen = max_len)\n",
        "pad_X_val = pad_sequences(X_val, maxlen = max_len)\n",
        "\n",
        "print(len(pad_X_train[0]))"
      ],
      "metadata": {
        "colab": {
          "base_uri": "https://localhost:8080/"
        },
        "id": "BCHRZxCuunDS",
        "outputId": "39009253-f564-429a-ea56-e93b9fdb7cc9"
      },
      "execution_count": 8,
      "outputs": [
        {
          "output_type": "stream",
          "name": "stdout",
          "text": [
            "500\n"
          ]
        }
      ]
    },
    {
      "cell_type": "code",
      "source": [
        "pad_X_train"
      ],
      "metadata": {
        "colab": {
          "base_uri": "https://localhost:8080/"
        },
        "id": "xNbJNtxqum75",
        "outputId": "b671b8b3-3f5a-4010-df0e-a72c1d3f3eaf"
      },
      "execution_count": 9,
      "outputs": [
        {
          "output_type": "execute_result",
          "data": {
            "text/plain": [
              "array([[  0,   0,   0, ...,  15,  17,  12],\n",
              "       [  0,   0,   0, ..., 505,  17,  12],\n",
              "       [  0,   0,   0, ...,  11,  17,  12],\n",
              "       ...,\n",
              "       [  0,   0,   0, ..., 407,  17,  12],\n",
              "       [  0,   0,   0, ..., 364,  17,  12],\n",
              "       [  0,   0,   0, ..., 113,  17,  12]], dtype=int32)"
            ]
          },
          "metadata": {},
          "execution_count": 9
        }
      ]
    },
    {
      "cell_type": "code",
      "source": [
        ""
      ],
      "metadata": {
        "id": "xBMPRKwbzofA"
      },
      "execution_count": 9,
      "outputs": []
    },
    {
      "cell_type": "markdown",
      "source": [
        "## 모델 구성\n",
        "* LSTM레이어도  SimpleRNN과 같이 return_sequences 인자 사용가능"
      ],
      "metadata": {
        "id": "BHCeiwzXuk6J"
      }
    },
    {
      "cell_type": "code",
      "source": [
        "from tensorflow.keras.models import Sequential\n",
        "from tensorflow.keras.layers import LSTM, Dense, Embedding"
      ],
      "metadata": {
        "id": "z_8EP9Mcuj1r"
      },
      "execution_count": 10,
      "outputs": []
    },
    {
      "cell_type": "code",
      "source": [
        "model =Sequential()\n",
        "model.add(Embedding(input_dim = num_words, output_dim = 64))\n",
        "model.add(LSTM(64, return_sequences=  True))\n",
        "model.add(LSTM(32))\n",
        "model.add(Dense(46, activation = 'softmax'))\n",
        "\n",
        "model.compile(optimizer = 'adam', loss = 'sparse_categorical_crossentropy',metrics= ['acc'])\n",
        "model.summary()"
      ],
      "metadata": {
        "colab": {
          "base_uri": "https://localhost:8080/"
        },
        "id": "X4TerPWTvS0z",
        "outputId": "77e92bd7-45a2-4245-e90b-d85ad1a9cd02"
      },
      "execution_count": 11,
      "outputs": [
        {
          "output_type": "stream",
          "name": "stdout",
          "text": [
            "Model: \"sequential\"\n",
            "_________________________________________________________________\n",
            " Layer (type)                Output Shape              Param #   \n",
            "=================================================================\n",
            " embedding (Embedding)       (None, None, 64)          640000    \n",
            "                                                                 \n",
            " lstm (LSTM)                 (None, None, 64)          33024     \n",
            "                                                                 \n",
            " lstm_1 (LSTM)               (None, 32)                12416     \n",
            "                                                                 \n",
            " dense (Dense)               (None, 46)                1518      \n",
            "                                                                 \n",
            "=================================================================\n",
            "Total params: 686,958\n",
            "Trainable params: 686,958\n",
            "Non-trainable params: 0\n",
            "_________________________________________________________________\n"
          ]
        }
      ]
    },
    {
      "cell_type": "markdown",
      "source": [
        "## 모델 학습"
      ],
      "metadata": {
        "id": "vKc4MOdhwNIE"
      }
    },
    {
      "cell_type": "code",
      "source": [
        "history = model.fit(pad_X_train , y_train,\n",
        "                    epochs = 10,\n",
        "                    batch_size = 128,\n",
        "                    validation_split = 0.2)"
      ],
      "metadata": {
        "colab": {
          "base_uri": "https://localhost:8080/"
        },
        "id": "X0w60R91v1u6",
        "outputId": "13a2357e-a410-4a79-e567-d0b05e9c291d"
      },
      "execution_count": 12,
      "outputs": [
        {
          "output_type": "stream",
          "name": "stdout",
          "text": [
            "Epoch 1/10\n",
            "57/57 [==============================] - 9s 67ms/step - loss: 2.8852 - acc: 0.3299 - val_loss: 2.4372 - val_acc: 0.3450\n",
            "Epoch 2/10\n",
            "57/57 [==============================] - 3s 56ms/step - loss: 2.4163 - acc: 0.3534 - val_loss: 2.4079 - val_acc: 0.3450\n",
            "Epoch 3/10\n",
            "57/57 [==============================] - 3s 57ms/step - loss: 2.4068 - acc: 0.3534 - val_loss: 2.4057 - val_acc: 0.3450\n",
            "Epoch 4/10\n",
            "57/57 [==============================] - 3s 56ms/step - loss: 2.4059 - acc: 0.3534 - val_loss: 2.4060 - val_acc: 0.3450\n",
            "Epoch 5/10\n",
            "57/57 [==============================] - 3s 56ms/step - loss: 2.4050 - acc: 0.3534 - val_loss: 2.4065 - val_acc: 0.3450\n",
            "Epoch 6/10\n",
            "57/57 [==============================] - 3s 57ms/step - loss: 2.4048 - acc: 0.3534 - val_loss: 2.4068 - val_acc: 0.3450\n",
            "Epoch 7/10\n",
            "57/57 [==============================] - 3s 56ms/step - loss: 2.4050 - acc: 0.3534 - val_loss: 2.4067 - val_acc: 0.3450\n",
            "Epoch 8/10\n",
            "57/57 [==============================] - 3s 56ms/step - loss: 2.4026 - acc: 0.3534 - val_loss: 2.4054 - val_acc: 0.3450\n",
            "Epoch 9/10\n",
            "57/57 [==============================] - 3s 57ms/step - loss: 2.4035 - acc: 0.3534 - val_loss: 2.4067 - val_acc: 0.3450\n",
            "Epoch 10/10\n",
            "57/57 [==============================] - 3s 56ms/step - loss: 2.3541 - acc: 0.3734 - val_loss: 2.1805 - val_acc: 0.4886\n"
          ]
        }
      ]
    },
    {
      "cell_type": "markdown",
      "source": [
        "## 시각화"
      ],
      "metadata": {
        "id": "WtM0rv1AzTLj"
      }
    },
    {
      "cell_type": "code",
      "source": [
        "import matplotlib.pyplot as plt\n",
        "\n",
        "loss = history.history['loss']\n",
        "val_loss = history.history['val_loss']\n",
        "\n",
        "acc = history.history['acc']\n",
        "val_acc = history.history['val_acc']\n",
        "\n",
        "epochs = range(1, len(loss) + 1)\n",
        "\n",
        "plt.plot(epochs, loss, 'b--', label = 'training loss')\n",
        "plt.plot(epochs, val_loss, 'r:', label = 'validation loss')\n",
        "plt.grid()\n",
        "plt.legend()\n",
        "\n",
        "plt.figure()\n",
        "plt.plot(epochs, acc, 'b--', label = 'training accuracy')\n",
        "plt.plot(epochs, val_acc, 'r:', label = 'validation accuracy')\n",
        "plt.grid()\n",
        "plt.legend()\n",
        "\n",
        "plt.show()"
      ],
      "metadata": {
        "colab": {
          "base_uri": "https://localhost:8080/",
          "height": 513
        },
        "id": "KesBjB2zykzV",
        "outputId": "cd125ef7-c3cb-4122-e8a3-864abef3c4e1"
      },
      "execution_count": 13,
      "outputs": [
        {
          "output_type": "display_data",
          "data": {
            "image/png": "[encoded data removed]",
            "text/plain": [
              "<Figure size 432x288 with 1 Axes>"
            ]
          },
          "metadata": {
            "needs_background": "light"
          }
        },
        {
          "output_type": "display_data",
          "data": {
            "image/png": "[encoded data removed]",
            "text/plain": [
              "<Figure size 432x288 with 1 Axes>"
            ]
          },
          "metadata": {
            "needs_background": "light"
          }
        }
      ]
    },
    {
      "cell_type": "markdown",
      "source": [
        "## 모델 평가"
      ],
      "metadata": {
        "id": "MHpv91WvBa1_"
      }
    },
    {
      "cell_type": "code",
      "source": [
        "model.evaluate(pad_X_val, y_val)"
      ],
      "metadata": {
        "colab": {
          "base_uri": "https://localhost:8080/"
        },
        "id": "aXfT9x7K1BV6",
        "outputId": "3b8051ce-6d91-49ed-aca8-7f5d1f5905df"
      },
      "execution_count": 14,
      "outputs": [
        {
          "output_type": "stream",
          "name": "stdout",
          "text": [
            "71/71 [==============================] - 1s 17ms/step - loss: 2.1857 - acc: 0.4978\n"
          ]
        },
        {
          "output_type": "execute_result",
          "data": {
            "text/plain": [
              "[2.18574595451355, 0.49777382612228394]"
            ]
          },
          "metadata": {},
          "execution_count": 14
        }
      ]
    },
    {
      "cell_type": "markdown",
      "source": [
        ""
      ],
      "metadata": {
        "id": "-SMn0qlfBzVF"
      }
    },
    {
      "cell_type": "markdown",
      "source": [
        "# Cosine 함수를 이용한 순환 신경망"
      ],
      "metadata": {
        "id": "YlsBm0P_B-kZ"
      }
    },
    {
      "cell_type": "code",
      "source": [
        "import numpy as np\n",
        "np.random.seed(111)\n",
        "\n",
        "time = np.arange(30*12+1)\n",
        "month_time = (time%30) / 30\n",
        "time_series = 20* np.where(month_time < 0.5,\n",
        "                           np.cos(2 * np.pi * month_time),\n",
        "                           np.cos(2*np.pi*month_time) + np.random.random(361))"
      ],
      "metadata": {
        "id": "8dWUorxZBhuE"
      },
      "execution_count": 15,
      "outputs": []
    },
    {
      "cell_type": "code",
      "source": [
        "plt.figure(figsize = (15,8))\n",
        "plt.xlabel('Time')\n",
        "plt.ylabel('Value')\n",
        "plt.plot(np.arange(0, 30 *11+1),\n",
        "         time_series[:30*11+1],\n",
        "         color = 'blue', alpha = 0.6, label = 'Train Data')\n",
        "\n",
        "plt.plot(np.arange(30*11, 30 *12+1),\n",
        "         time_series[30*11:],\n",
        "         color = 'red',label = 'Test Data')"
      ],
      "metadata": {
        "colab": {
          "base_uri": "https://localhost:8080/",
          "height": 397
        },
        "id": "7ssiKUhnCfec",
        "outputId": "bb667a82-ea04-42c5-dce1-4ed9f3f3bb5e"
      },
      "execution_count": 16,
      "outputs": [
        {
          "output_type": "execute_result",
          "data": {
            "text/plain": [
              "[<matplotlib.lines.Line2D at 0x7fea4f33b790>]"
            ]
          },
          "metadata": {},
          "execution_count": 16
        },
        {
          "output_type": "display_data",
          "data": {
            "image/png": "[encoded data removed]",
            "text/plain": [
              "<Figure size 1080x576 with 1 Axes>"
            ]
          },
          "metadata": {
            "needs_background": "light"
          }
        }
      ]
    },
    {
      "cell_type": "markdown",
      "source": [
        "## 데이터 전처리"
      ],
      "metadata": {
        "id": "LQwdEu9XD3Sq"
      }
    },
    {
      "cell_type": "code",
      "source": [
        "def make_data(time_series, n):\n",
        "  x_train_full, y_train_full = list(), list()\n",
        "\n",
        "  for i in range(len(time_series)):\n",
        "    x = time_series[i:(i+n)]\n",
        "    if (i+n) < len(time_series):\n",
        "      x_train_full.append(x)\n",
        "      y_train_full.append(time_series[i+n])\n",
        "    else:\n",
        "      break\n",
        "  x_train_full, y_train_full = np.array(x_train_full), np.array(y_train_full)\n",
        "  return x_train_full, y_train_full"
      ],
      "metadata": {
        "id": "-Irnh9wVDKCP"
      },
      "execution_count": 17,
      "outputs": []
    },
    {
      "cell_type": "code",
      "source": [
        "n = 10\n",
        "x_train_full, y_train_full = make_data(time_series, n)"
      ],
      "metadata": {
        "id": "cLxpbFqbE29T"
      },
      "execution_count": 18,
      "outputs": []
    },
    {
      "cell_type": "code",
      "source": [
        "x_train_full = x_train_full.reshape(-1,n, 1)\n",
        "y_train_full = y_train_full.reshape(-1, 1)"
      ],
      "metadata": {
        "id": "RKaJXr-nE26t"
      },
      "execution_count": 19,
      "outputs": []
    },
    {
      "cell_type": "markdown",
      "source": [
        "## 테스트 데이터 셋 생성"
      ],
      "metadata": {
        "id": "hJkOIkRoFkYn"
      }
    },
    {
      "cell_type": "code",
      "source": [
        "x_train = x_train_full[:30*11]\n",
        "y_train = y_train_full[:30*11]\n",
        "\n",
        "x_test = x_train_full[30*11:]\n",
        "y_test = y_train_full[30*11:]"
      ],
      "metadata": {
        "id": "C0lm8ZQwE24F"
      },
      "execution_count": 20,
      "outputs": []
    },
    {
      "cell_type": "code",
      "source": [
        "print(x_train.shape, y_train.shape)\n",
        "print(x_test.shape, y_test.shape)"
      ],
      "metadata": {
        "colab": {
          "base_uri": "https://localhost:8080/"
        },
        "id": "omt-DYCxE21N",
        "outputId": "d3437631-81ef-4232-a652-d0b51dedf647"
      },
      "execution_count": 21,
      "outputs": [
        {
          "output_type": "stream",
          "name": "stdout",
          "text": [
            "(330, 10, 1) (330, 1)\n",
            "(21, 10, 1) (21, 1)\n"
          ]
        }
      ]
    },
    {
      "cell_type": "markdown",
      "source": [
        "## 데이터 확인"
      ],
      "metadata": {
        "id": "dJPVFvsSKCIY"
      }
    },
    {
      "cell_type": "code",
      "source": [
        "sample_series = np.arange(100)\n",
        "a, b = make_data(sample_series, 10)\n",
        "\n",
        "print(a[0])\n",
        "print(b[0])"
      ],
      "metadata": {
        "colab": {
          "base_uri": "https://localhost:8080/"
        },
        "id": "9VvjGoxJE2yf",
        "outputId": "7362bb53-cc5c-43ac-8cf1-0ad4a53809e9"
      },
      "execution_count": 22,
      "outputs": [
        {
          "output_type": "stream",
          "name": "stdout",
          "text": [
            "[0 1 2 3 4 5 6 7 8 9]\n",
            "10\n"
          ]
        }
      ]
    },
    {
      "cell_type": "markdown",
      "source": [
        "## 모델 구성"
      ],
      "metadata": {
        "id": "8oIzRQzVKUPF"
      }
    },
    {
      "cell_type": "code",
      "source": [
        "from tensorflow.keras.layers import SimpleRNN, Flatten, Dense\n",
        "from tensorflow.keras.models import Sequential "
      ],
      "metadata": {
        "id": "Oh3NLioTE2v-"
      },
      "execution_count": 23,
      "outputs": []
    },
    {
      "cell_type": "code",
      "source": [
        "def build_model(n):\n",
        "  model = Sequential()\n",
        "  model.add(SimpleRNN(units= 32, activation = 'tanh', input_shape = (n ,1)))\n",
        "  model.add(Dense(1))\n",
        "  model.compile(optimizer = 'adam', loss = 'mse')\n",
        "\n",
        "  return model "
      ],
      "metadata": {
        "id": "yTx74RvnE2tO"
      },
      "execution_count": 24,
      "outputs": []
    },
    {
      "cell_type": "code",
      "source": [
        "model = build_model(10)\n",
        "model.summary()"
      ],
      "metadata": {
        "colab": {
          "base_uri": "https://localhost:8080/"
        },
        "id": "xTSY1CSrE2qq",
        "outputId": "12795d11-4d56-41c2-b5d5-c43f44a4e816"
      },
      "execution_count": 25,
      "outputs": [
        {
          "output_type": "stream",
          "name": "stdout",
          "text": [
            "Model: \"sequential_1\"\n",
            "_________________________________________________________________\n",
            " Layer (type)                Output Shape              Param #   \n",
            "=================================================================\n",
            " simple_rnn (SimpleRNN)      (None, 32)                1088      \n",
            "                                                                 \n",
            " dense_1 (Dense)             (None, 1)                 33        \n",
            "                                                                 \n",
            "=================================================================\n",
            "Total params: 1,121\n",
            "Trainable params: 1,121\n",
            "Non-trainable params: 0\n",
            "_________________________________________________________________\n"
          ]
        }
      ]
    },
    {
      "cell_type": "markdown",
      "source": [
        "## 모델 학습"
      ],
      "metadata": {
        "id": "9_5JgtjJNyUh"
      }
    },
    {
      "cell_type": "code",
      "source": [
        "model.fit(x_train, y_train, epochs = 200,batch_size= 12)"
      ],
      "metadata": {
        "colab": {
          "base_uri": "https://localhost:8080/"
        },
        "id": "WNCSvH0kE2no",
        "outputId": "e0da6ebf-7394-47f7-f3b7-4eb6e7a03f8e"
      },
      "execution_count": 26,
      "outputs": [
        {
          "output_type": "stream",
          "name": "stdout",
          "text": [
            "Epoch 1/200\n",
            "28/28 [==============================] - 1s 12ms/step - loss: 232.7133\n",
            "Epoch 2/200\n",
            "28/28 [==============================] - 0s 7ms/step - loss: 190.4601\n",
            "Epoch 3/200\n",
            "28/28 [==============================] - 0s 7ms/step - loss: 161.9663\n",
            "Epoch 4/200\n",
            "28/28 [==============================] - 0s 7ms/step - loss: 143.4865\n",
            "Epoch 5/200\n",
            "28/28 [==============================] - 0s 7ms/step - loss: 125.8221\n",
            "Epoch 6/200\n",
            "28/28 [==============================] - 0s 7ms/step - loss: 113.6244\n",
            "Epoch 7/200\n",
            "28/28 [==============================] - 0s 7ms/step - loss: 104.0121\n",
            "Epoch 8/200\n",
            "28/28 [==============================] - 0s 7ms/step - loss: 94.9897\n",
            "Epoch 9/200\n",
            "28/28 [==============================] - 0s 7ms/step - loss: 88.2348\n",
            "Epoch 10/200\n",
            "28/28 [==============================] - 0s 7ms/step - loss: 82.4136\n",
            "Epoch 11/200\n",
            "28/28 [==============================] - 0s 7ms/step - loss: 77.2736\n",
            "Epoch 12/200\n",
            "28/28 [==============================] - 0s 7ms/step - loss: 72.8043\n",
            "Epoch 13/200\n",
            "28/28 [==============================] - 0s 7ms/step - loss: 68.7392\n",
            "Epoch 14/200\n",
            "28/28 [==============================] - 0s 8ms/step - loss: 64.9548\n",
            "Epoch 15/200\n",
            "28/28 [==============================] - 0s 7ms/step - loss: 61.6239\n",
            "Epoch 16/200\n",
            "28/28 [==============================] - 0s 7ms/step - loss: 58.5443\n",
            "Epoch 17/200\n",
            "28/28 [==============================] - 0s 7ms/step - loss: 55.7487\n",
            "Epoch 18/200\n",
            "28/28 [==============================] - 0s 7ms/step - loss: 53.1738\n",
            "Epoch 19/200\n",
            "28/28 [==============================] - 0s 7ms/step - loss: 50.6400\n",
            "Epoch 20/200\n",
            "28/28 [==============================] - 0s 7ms/step - loss: 48.5041\n",
            "Epoch 21/200\n",
            "28/28 [==============================] - 0s 7ms/step - loss: 46.5144\n",
            "Epoch 22/200\n",
            "28/28 [==============================] - 0s 7ms/step - loss: 44.5715\n",
            "Epoch 23/200\n",
            "28/28 [==============================] - 0s 7ms/step - loss: 42.7413\n",
            "Epoch 24/200\n",
            "28/28 [==============================] - 0s 7ms/step - loss: 41.0808\n",
            "Epoch 25/200\n",
            "28/28 [==============================] - 0s 7ms/step - loss: 39.6051\n",
            "Epoch 26/200\n",
            "28/28 [==============================] - 0s 7ms/step - loss: 37.9921\n",
            "Epoch 27/200\n",
            "28/28 [==============================] - 0s 7ms/step - loss: 36.5724\n",
            "Epoch 28/200\n",
            "28/28 [==============================] - 0s 7ms/step - loss: 35.7981\n",
            "Epoch 29/200\n",
            "28/28 [==============================] - 0s 8ms/step - loss: 34.3844\n",
            "Epoch 30/200\n",
            "28/28 [==============================] - 0s 7ms/step - loss: 33.2778\n",
            "Epoch 31/200\n",
            "28/28 [==============================] - 0s 7ms/step - loss: 32.4624\n",
            "Epoch 32/200\n",
            "28/28 [==============================] - 0s 7ms/step - loss: 31.5534\n",
            "Epoch 33/200\n",
            "28/28 [==============================] - 0s 7ms/step - loss: 30.5586\n",
            "Epoch 34/200\n",
            "28/28 [==============================] - 0s 7ms/step - loss: 30.4628\n",
            "Epoch 35/200\n",
            "28/28 [==============================] - 0s 7ms/step - loss: 29.3805\n",
            "Epoch 36/200\n",
            "28/28 [==============================] - 0s 7ms/step - loss: 29.2653\n",
            "Epoch 37/200\n",
            "28/28 [==============================] - 0s 7ms/step - loss: 28.2980\n",
            "Epoch 38/200\n",
            "28/28 [==============================] - 0s 7ms/step - loss: 28.0657\n",
            "Epoch 39/200\n",
            "28/28 [==============================] - 0s 8ms/step - loss: 27.2283\n",
            "Epoch 40/200\n",
            "28/28 [==============================] - 0s 7ms/step - loss: 26.8839\n",
            "Epoch 41/200\n",
            "28/28 [==============================] - 0s 7ms/step - loss: 26.3956\n",
            "Epoch 42/200\n",
            "28/28 [==============================] - 0s 7ms/step - loss: 25.8709\n",
            "Epoch 43/200\n",
            "28/28 [==============================] - 0s 7ms/step - loss: 25.2346\n",
            "Epoch 44/200\n",
            "28/28 [==============================] - 0s 7ms/step - loss: 24.5980\n",
            "Epoch 45/200\n",
            "28/28 [==============================] - 0s 7ms/step - loss: 23.9679\n",
            "Epoch 46/200\n",
            "28/28 [==============================] - 0s 7ms/step - loss: 23.6812\n",
            "Epoch 47/200\n",
            "28/28 [==============================] - 0s 7ms/step - loss: 23.3749\n",
            "Epoch 48/200\n",
            "28/28 [==============================] - 0s 7ms/step - loss: 22.8646\n",
            "Epoch 49/200\n",
            "28/28 [==============================] - 0s 7ms/step - loss: 23.0885\n",
            "Epoch 50/200\n",
            "28/28 [==============================] - 0s 7ms/step - loss: 22.5690\n",
            "Epoch 51/200\n",
            "28/28 [==============================] - 0s 8ms/step - loss: 22.2139\n",
            "Epoch 52/200\n",
            "28/28 [==============================] - 0s 7ms/step - loss: 21.6388\n",
            "Epoch 53/200\n",
            "28/28 [==============================] - 0s 7ms/step - loss: 21.8472\n",
            "Epoch 54/200\n",
            "28/28 [==============================] - 0s 7ms/step - loss: 21.7484\n",
            "Epoch 55/200\n",
            "28/28 [==============================] - 0s 7ms/step - loss: 21.1906\n",
            "Epoch 56/200\n",
            "28/28 [==============================] - 0s 7ms/step - loss: 20.9806\n",
            "Epoch 57/200\n",
            "28/28 [==============================] - 0s 7ms/step - loss: 21.1033\n",
            "Epoch 58/200\n",
            "28/28 [==============================] - 0s 7ms/step - loss: 20.7604\n",
            "Epoch 59/200\n",
            "28/28 [==============================] - 0s 8ms/step - loss: 20.6575\n",
            "Epoch 60/200\n",
            "28/28 [==============================] - 0s 8ms/step - loss: 20.7507\n",
            "Epoch 61/200\n",
            "28/28 [==============================] - 0s 7ms/step - loss: 20.5346\n",
            "Epoch 62/200\n",
            "28/28 [==============================] - 0s 7ms/step - loss: 20.5599\n",
            "Epoch 63/200\n",
            "28/28 [==============================] - 0s 7ms/step - loss: 20.1013\n",
            "Epoch 64/200\n",
            "28/28 [==============================] - 0s 7ms/step - loss: 20.2719\n",
            "Epoch 65/200\n",
            "28/28 [==============================] - 0s 7ms/step - loss: 19.8639\n",
            "Epoch 66/200\n",
            "28/28 [==============================] - 0s 7ms/step - loss: 20.2228\n",
            "Epoch 67/200\n",
            "28/28 [==============================] - 0s 7ms/step - loss: 19.8670\n",
            "Epoch 68/200\n",
            "28/28 [==============================] - 0s 7ms/step - loss: 19.6834\n",
            "Epoch 69/200\n",
            "28/28 [==============================] - 0s 7ms/step - loss: 19.7749\n",
            "Epoch 70/200\n",
            "28/28 [==============================] - 0s 7ms/step - loss: 20.3718\n",
            "Epoch 71/200\n",
            "28/28 [==============================] - 0s 7ms/step - loss: 19.8992\n",
            "Epoch 72/200\n",
            "28/28 [==============================] - 0s 7ms/step - loss: 19.3411\n",
            "Epoch 73/200\n",
            "28/28 [==============================] - 0s 7ms/step - loss: 19.5504\n",
            "Epoch 74/200\n",
            "28/28 [==============================] - 0s 7ms/step - loss: 19.5089\n",
            "Epoch 75/200\n",
            "28/28 [==============================] - 0s 7ms/step - loss: 19.4627\n",
            "Epoch 76/200\n",
            "28/28 [==============================] - 0s 7ms/step - loss: 19.2505\n",
            "Epoch 77/200\n",
            "28/28 [==============================] - 0s 7ms/step - loss: 19.4345\n",
            "Epoch 78/200\n",
            "28/28 [==============================] - 0s 8ms/step - loss: 19.2935\n",
            "Epoch 79/200\n",
            "28/28 [==============================] - 0s 8ms/step - loss: 19.2728\n",
            "Epoch 80/200\n",
            "28/28 [==============================] - 0s 7ms/step - loss: 18.8719\n",
            "Epoch 81/200\n",
            "28/28 [==============================] - 0s 7ms/step - loss: 18.7581\n",
            "Epoch 82/200\n",
            "28/28 [==============================] - 0s 7ms/step - loss: 18.6187\n",
            "Epoch 83/200\n",
            "28/28 [==============================] - 0s 7ms/step - loss: 18.5006\n",
            "Epoch 84/200\n",
            "28/28 [==============================] - 0s 7ms/step - loss: 18.4098\n",
            "Epoch 85/200\n",
            "28/28 [==============================] - 0s 7ms/step - loss: 18.8178\n",
            "Epoch 86/200\n",
            "28/28 [==============================] - 0s 7ms/step - loss: 18.4451\n",
            "Epoch 87/200\n",
            "28/28 [==============================] - 0s 7ms/step - loss: 18.4488\n",
            "Epoch 88/200\n",
            "28/28 [==============================] - 0s 7ms/step - loss: 18.3522\n",
            "Epoch 89/200\n",
            "28/28 [==============================] - 0s 7ms/step - loss: 18.1065\n",
            "Epoch 90/200\n",
            "28/28 [==============================] - 0s 8ms/step - loss: 17.9962\n",
            "Epoch 91/200\n",
            "28/28 [==============================] - 0s 8ms/step - loss: 17.8573\n",
            "Epoch 92/200\n",
            "28/28 [==============================] - 0s 7ms/step - loss: 17.9974\n",
            "Epoch 93/200\n",
            "28/28 [==============================] - 0s 7ms/step - loss: 18.2428\n",
            "Epoch 94/200\n",
            "28/28 [==============================] - 0s 7ms/step - loss: 17.7552\n",
            "Epoch 95/200\n",
            "28/28 [==============================] - 0s 7ms/step - loss: 17.6059\n",
            "Epoch 96/200\n",
            "28/28 [==============================] - 0s 7ms/step - loss: 17.9730\n",
            "Epoch 97/200\n",
            "28/28 [==============================] - 0s 7ms/step - loss: 17.5683\n",
            "Epoch 98/200\n",
            "28/28 [==============================] - 0s 7ms/step - loss: 17.3833\n",
            "Epoch 99/200\n",
            "28/28 [==============================] - 0s 7ms/step - loss: 17.3589\n",
            "Epoch 100/200\n",
            "28/28 [==============================] - 0s 7ms/step - loss: 17.4522\n",
            "Epoch 101/200\n",
            "28/28 [==============================] - 0s 7ms/step - loss: 17.2998\n",
            "Epoch 102/200\n",
            "28/28 [==============================] - 0s 7ms/step - loss: 17.1251\n",
            "Epoch 103/200\n",
            "28/28 [==============================] - 0s 7ms/step - loss: 17.0617\n",
            "Epoch 104/200\n",
            "28/28 [==============================] - 0s 7ms/step - loss: 16.8667\n",
            "Epoch 105/200\n",
            "28/28 [==============================] - 0s 7ms/step - loss: 16.9905\n",
            "Epoch 106/200\n",
            "28/28 [==============================] - 0s 7ms/step - loss: 17.1365\n",
            "Epoch 107/200\n",
            "28/28 [==============================] - 0s 7ms/step - loss: 16.9732\n",
            "Epoch 108/200\n",
            "28/28 [==============================] - 0s 7ms/step - loss: 16.7078\n",
            "Epoch 109/200\n",
            "28/28 [==============================] - 0s 7ms/step - loss: 16.5462\n",
            "Epoch 110/200\n",
            "28/28 [==============================] - 0s 7ms/step - loss: 16.7048\n",
            "Epoch 111/200\n",
            "28/28 [==============================] - 0s 7ms/step - loss: 16.5419\n",
            "Epoch 112/200\n",
            "28/28 [==============================] - 0s 7ms/step - loss: 16.2826\n",
            "Epoch 113/200\n",
            "28/28 [==============================] - 0s 7ms/step - loss: 16.2770\n",
            "Epoch 114/200\n",
            "28/28 [==============================] - 0s 7ms/step - loss: 16.1475\n",
            "Epoch 115/200\n",
            "28/28 [==============================] - 0s 7ms/step - loss: 16.1873\n",
            "Epoch 116/200\n",
            "28/28 [==============================] - 0s 7ms/step - loss: 15.9784\n",
            "Epoch 117/200\n",
            "28/28 [==============================] - 0s 7ms/step - loss: 15.8793\n",
            "Epoch 118/200\n",
            "28/28 [==============================] - 0s 7ms/step - loss: 15.9843\n",
            "Epoch 119/200\n",
            "28/28 [==============================] - 0s 7ms/step - loss: 15.4586\n",
            "Epoch 120/200\n",
            "28/28 [==============================] - 0s 7ms/step - loss: 15.6102\n",
            "Epoch 121/200\n",
            "28/28 [==============================] - 0s 7ms/step - loss: 15.4424\n",
            "Epoch 122/200\n",
            "28/28 [==============================] - 0s 7ms/step - loss: 15.5984\n",
            "Epoch 123/200\n",
            "28/28 [==============================] - 0s 7ms/step - loss: 15.1361\n",
            "Epoch 124/200\n",
            "28/28 [==============================] - 0s 7ms/step - loss: 15.1150\n",
            "Epoch 125/200\n",
            "28/28 [==============================] - 0s 7ms/step - loss: 14.9017\n",
            "Epoch 126/200\n",
            "28/28 [==============================] - 0s 7ms/step - loss: 15.1665\n",
            "Epoch 127/200\n",
            "28/28 [==============================] - 0s 7ms/step - loss: 14.7782\n",
            "Epoch 128/200\n",
            "28/28 [==============================] - 0s 7ms/step - loss: 15.2475\n",
            "Epoch 129/200\n",
            "28/28 [==============================] - 0s 7ms/step - loss: 14.9201\n",
            "Epoch 130/200\n",
            "28/28 [==============================] - 0s 7ms/step - loss: 14.6504\n",
            "Epoch 131/200\n",
            "28/28 [==============================] - 0s 8ms/step - loss: 14.7278\n",
            "Epoch 132/200\n",
            "28/28 [==============================] - 0s 7ms/step - loss: 14.3713\n",
            "Epoch 133/200\n",
            "28/28 [==============================] - 0s 7ms/step - loss: 14.0727\n",
            "Epoch 134/200\n",
            "28/28 [==============================] - 0s 7ms/step - loss: 14.3174\n",
            "Epoch 135/200\n",
            "28/28 [==============================] - 0s 7ms/step - loss: 14.3661\n",
            "Epoch 136/200\n",
            "28/28 [==============================] - 0s 7ms/step - loss: 13.8841\n",
            "Epoch 137/200\n",
            "28/28 [==============================] - 0s 7ms/step - loss: 14.0334\n",
            "Epoch 138/200\n",
            "28/28 [==============================] - 0s 7ms/step - loss: 13.8184\n",
            "Epoch 139/200\n",
            "28/28 [==============================] - 0s 7ms/step - loss: 13.5092\n",
            "Epoch 140/200\n",
            "28/28 [==============================] - 0s 7ms/step - loss: 13.4277\n",
            "Epoch 141/200\n",
            "28/28 [==============================] - 0s 7ms/step - loss: 13.6881\n",
            "Epoch 142/200\n",
            "28/28 [==============================] - 0s 7ms/step - loss: 12.9616\n",
            "Epoch 143/200\n",
            "28/28 [==============================] - 0s 7ms/step - loss: 13.0275\n",
            "Epoch 144/200\n",
            "28/28 [==============================] - 0s 7ms/step - loss: 12.8751\n",
            "Epoch 145/200\n",
            "28/28 [==============================] - 0s 7ms/step - loss: 12.8492\n",
            "Epoch 146/200\n",
            "28/28 [==============================] - 0s 7ms/step - loss: 12.9985\n",
            "Epoch 147/200\n",
            "28/28 [==============================] - 0s 7ms/step - loss: 13.0955\n",
            "Epoch 148/200\n",
            "28/28 [==============================] - 0s 7ms/step - loss: 12.4823\n",
            "Epoch 149/200\n",
            "28/28 [==============================] - 0s 7ms/step - loss: 12.6852\n",
            "Epoch 150/200\n",
            "28/28 [==============================] - 0s 7ms/step - loss: 12.5088\n",
            "Epoch 151/200\n",
            "28/28 [==============================] - 0s 7ms/step - loss: 12.3130\n",
            "Epoch 152/200\n",
            "28/28 [==============================] - 0s 7ms/step - loss: 12.3334\n",
            "Epoch 153/200\n",
            "28/28 [==============================] - 0s 7ms/step - loss: 12.2588\n",
            "Epoch 154/200\n",
            "28/28 [==============================] - 0s 7ms/step - loss: 12.0877\n",
            "Epoch 155/200\n",
            "28/28 [==============================] - 0s 8ms/step - loss: 12.0600\n",
            "Epoch 156/200\n",
            "28/28 [==============================] - 0s 8ms/step - loss: 12.1541\n",
            "Epoch 157/200\n",
            "28/28 [==============================] - 0s 8ms/step - loss: 11.9123\n",
            "Epoch 158/200\n",
            "28/28 [==============================] - 0s 8ms/step - loss: 11.8760\n",
            "Epoch 159/200\n",
            "28/28 [==============================] - 0s 8ms/step - loss: 11.7548\n",
            "Epoch 160/200\n",
            "28/28 [==============================] - 0s 7ms/step - loss: 11.7320\n",
            "Epoch 161/200\n",
            "28/28 [==============================] - 0s 7ms/step - loss: 11.6476\n",
            "Epoch 162/200\n",
            "28/28 [==============================] - 0s 7ms/step - loss: 11.3205\n",
            "Epoch 163/200\n",
            "28/28 [==============================] - 0s 7ms/step - loss: 11.6126\n",
            "Epoch 164/200\n",
            "28/28 [==============================] - 0s 7ms/step - loss: 12.2400\n",
            "Epoch 165/200\n",
            "28/28 [==============================] - 0s 7ms/step - loss: 11.4295\n",
            "Epoch 166/200\n",
            "28/28 [==============================] - 0s 7ms/step - loss: 11.3043\n",
            "Epoch 167/200\n",
            "28/28 [==============================] - 0s 7ms/step - loss: 11.2563\n",
            "Epoch 168/200\n",
            "28/28 [==============================] - 0s 7ms/step - loss: 10.8448\n",
            "Epoch 169/200\n",
            "28/28 [==============================] - 0s 7ms/step - loss: 10.8796\n",
            "Epoch 170/200\n",
            "28/28 [==============================] - 0s 7ms/step - loss: 10.6363\n",
            "Epoch 171/200\n",
            "28/28 [==============================] - 0s 7ms/step - loss: 10.6388\n",
            "Epoch 172/200\n",
            "28/28 [==============================] - 0s 7ms/step - loss: 10.4790\n",
            "Epoch 173/200\n",
            "28/28 [==============================] - 0s 7ms/step - loss: 10.8198\n",
            "Epoch 174/200\n",
            "28/28 [==============================] - 0s 7ms/step - loss: 10.6800\n",
            "Epoch 175/200\n",
            "28/28 [==============================] - 0s 7ms/step - loss: 10.3349\n",
            "Epoch 176/200\n",
            "28/28 [==============================] - 0s 7ms/step - loss: 10.1432\n",
            "Epoch 177/200\n",
            "28/28 [==============================] - 0s 7ms/step - loss: 10.2488\n",
            "Epoch 178/200\n",
            "28/28 [==============================] - 0s 7ms/step - loss: 11.1161\n",
            "Epoch 179/200\n",
            "28/28 [==============================] - 0s 7ms/step - loss: 10.3337\n",
            "Epoch 180/200\n",
            "28/28 [==============================] - 0s 7ms/step - loss: 10.1562\n",
            "Epoch 181/200\n",
            "28/28 [==============================] - 0s 7ms/step - loss: 9.9915\n",
            "Epoch 182/200\n",
            "28/28 [==============================] - 0s 7ms/step - loss: 9.8788\n",
            "Epoch 183/200\n",
            "28/28 [==============================] - 0s 7ms/step - loss: 10.1923\n",
            "Epoch 184/200\n",
            "28/28 [==============================] - 0s 7ms/step - loss: 9.7852\n",
            "Epoch 185/200\n",
            "28/28 [==============================] - 0s 7ms/step - loss: 9.5985\n",
            "Epoch 186/200\n",
            "28/28 [==============================] - 0s 7ms/step - loss: 9.8701\n",
            "Epoch 187/200\n",
            "28/28 [==============================] - 0s 7ms/step - loss: 9.3938\n",
            "Epoch 188/200\n",
            "28/28 [==============================] - 0s 7ms/step - loss: 10.5300\n",
            "Epoch 189/200\n",
            "28/28 [==============================] - 0s 7ms/step - loss: 9.6873\n",
            "Epoch 190/200\n",
            "28/28 [==============================] - 0s 7ms/step - loss: 9.3249\n",
            "Epoch 191/200\n",
            "28/28 [==============================] - 0s 7ms/step - loss: 9.3561\n",
            "Epoch 192/200\n",
            "28/28 [==============================] - 0s 7ms/step - loss: 9.4670\n",
            "Epoch 193/200\n",
            "28/28 [==============================] - 0s 7ms/step - loss: 9.4478\n",
            "Epoch 194/200\n",
            "28/28 [==============================] - 0s 8ms/step - loss: 9.0553\n",
            "Epoch 195/200\n",
            "28/28 [==============================] - 0s 7ms/step - loss: 8.9724\n",
            "Epoch 196/200\n",
            "28/28 [==============================] - 0s 7ms/step - loss: 8.6865\n",
            "Epoch 197/200\n",
            "28/28 [==============================] - 0s 7ms/step - loss: 8.8264\n",
            "Epoch 198/200\n",
            "28/28 [==============================] - 0s 7ms/step - loss: 9.1220\n",
            "Epoch 199/200\n",
            "28/28 [==============================] - 0s 7ms/step - loss: 8.8693\n",
            "Epoch 200/200\n",
            "28/28 [==============================] - 0s 7ms/step - loss: 8.8973\n"
          ]
        },
        {
          "output_type": "execute_result",
          "data": {
            "text/plain": [
              "<keras.callbacks.History at 0x7fea4f290810>"
            ]
          },
          "metadata": {},
          "execution_count": 26
        }
      ]
    },
    {
      "cell_type": "markdown",
      "source": [
        "## 예측값 그려보기"
      ],
      "metadata": {
        "id": "XjkDugRhPWm5"
      }
    },
    {
      "cell_type": "code",
      "source": [
        "prediction = model.predict(x_test)\n",
        "\n",
        "pred_range = np.arange(len(y_train), len(y_train) + len(prediction))"
      ],
      "metadata": {
        "id": "4ic1I714NNCH"
      },
      "execution_count": 27,
      "outputs": []
    },
    {
      "cell_type": "code",
      "source": [
        "plt.figure(figsize = (12, 10))\n",
        "plt.xlabel('Time')\n",
        "plt.ylabel('Value')\n",
        "plt.plot(pred_range, y_test.flatten(), color = 'orange', label = 'Ground Truth')\n",
        "plt.plot(pred_range, prediction.flatten(), color = 'blue', label = 'Prediction')\n",
        "plt.legend('upper right')"
      ],
      "metadata": {
        "colab": {
          "base_uri": "https://localhost:8080/",
          "height": 581
        },
        "id": "H1CdgKq0NM_X",
        "outputId": "81d0285f-e6d0-47a3-ed5f-31cf2613185f"
      },
      "execution_count": 28,
      "outputs": [
        {
          "output_type": "execute_result",
          "data": {
            "text/plain": [
              "<matplotlib.legend.Legend at 0x7fea4f17a850>"
            ]
          },
          "metadata": {},
          "execution_count": 28
        },
        {
          "output_type": "display_data",
          "data": {
            "image/png": "[encoded data removed]",
            "text/plain": [
              "<Figure size 864x720 with 1 Axes>"
            ]
          },
          "metadata": {
            "needs_background": "light"
          }
        }
      ]
    },
    {
      "cell_type": "markdown",
      "source": [
        "# 모델의 재구성\n",
        "* LSTM\n"
      ],
      "metadata": {
        "id": "ndarQEYDUvAl"
      }
    },
    {
      "cell_type": "code",
      "source": [
        "from tensorflow.keras.layers import LSTM"
      ],
      "metadata": {
        "id": "qCAVJgpgNM8b"
      },
      "execution_count": 29,
      "outputs": []
    },
    {
      "cell_type": "code",
      "source": [
        "def build_model2(n):\n",
        "  model = Sequential()\n",
        "\n",
        "  model.add(LSTM(units = 64, return_sequences = True, input_shape = (n,1)))\n",
        "  model.add(LSTM(32))\n",
        "  model.add(Dense(1))\n",
        "\n",
        "  model.compile(optimizer = 'adam',\n",
        "                loss = 'mse')\n",
        "  \n",
        "  return model"
      ],
      "metadata": {
        "id": "-BEmS56MU5HS"
      },
      "execution_count": 30,
      "outputs": []
    },
    {
      "cell_type": "code",
      "source": [
        "model_2 = build_model2(10)\n",
        "model_2.summary()"
      ],
      "metadata": {
        "colab": {
          "base_uri": "https://localhost:8080/"
        },
        "id": "_HebXMewU7F0",
        "outputId": "930e2e10-e9d6-47fc-fc3e-b7c0d54de650"
      },
      "execution_count": 31,
      "outputs": [
        {
          "output_type": "stream",
          "name": "stdout",
          "text": [
            "Model: \"sequential_2\"\n",
            "_________________________________________________________________\n",
            " Layer (type)                Output Shape              Param #   \n",
            "=================================================================\n",
            " lstm_2 (LSTM)               (None, 10, 64)            16896     \n",
            "                                                                 \n",
            " lstm_3 (LSTM)               (None, 32)                12416     \n",
            "                                                                 \n",
            " dense_2 (Dense)             (None, 1)                 33        \n",
            "                                                                 \n",
            "=================================================================\n",
            "Total params: 29,345\n",
            "Trainable params: 29,345\n",
            "Non-trainable params: 0\n",
            "_________________________________________________________________\n"
          ]
        }
      ]
    },
    {
      "cell_type": "markdown",
      "source": [
        "## 모델 재학습 및 예측값 그리기"
      ],
      "metadata": {
        "id": "a6VepG0zVu5z"
      }
    },
    {
      "cell_type": "code",
      "source": [
        "model_2.fit(x_train, y_train,\n",
        "            epochs = 100, batch_size = 32)"
      ],
      "metadata": {
        "id": "yzeWTOr1U7DH"
      },
      "execution_count": null,
      "outputs": []
    },
    {
      "cell_type": "markdown",
      "source": [
        "## 예측값 그려보기"
      ],
      "metadata": {
        "id": "qP7dKdIkYZbh"
      }
    },
    {
      "cell_type": "code",
      "source": [
        "prediction_2 = model_2.predict(x_test)\n",
        "\n",
        "pred_range = np.arange(len(y_train), len(y_train) + len(prediction))"
      ],
      "metadata": {
        "id": "x4l9irqGYYN5"
      },
      "execution_count": 33,
      "outputs": []
    },
    {
      "cell_type": "code",
      "source": [
        "plt.figure(figsize = (12, 10))\n",
        "plt.xlabel('Time')\n",
        "plt.ylabel('Value')\n",
        "plt.plot(pred_range, y_test.flatten(), color = 'orange', label = 'Ground Truth')\n",
        "plt.plot(pred_range, prediction.flatten(), 'r:', label = 'Model_prediciton')\n",
        "plt.plot(pred_range, prediction_2.flatten(), color = 'blue', label = 'Model2_prediction')\n",
        "plt.legend()"
      ],
      "metadata": {
        "colab": {
          "base_uri": "https://localhost:8080/",
          "height": 581
        },
        "outputId": "30e9f228-d0c4-4563-86df-5ac239d3a314",
        "id": "qJnL24c1YYN-"
      },
      "execution_count": 34,
      "outputs": [
        {
          "output_type": "execute_result",
          "data": {
            "text/plain": [
              "<matplotlib.legend.Legend at 0x7fe9ce0eca90>"
            ]
          },
          "metadata": {},
          "execution_count": 34
        },
        {
          "output_type": "display_data",
          "data": {
            "image/png": "[encoded data removed]",
            "text/plain": [
              "<Figure size 864x720 with 1 Axes>"
            ]
          },
          "metadata": {
            "needs_background": "light"
          }
        }
      ]
    },
    {
      "cell_type": "markdown",
      "source": [
        "# 모델의 재구성\n",
        "* GRU\n",
        "* LSTM보다 더 쉬운 구조"
      ],
      "metadata": {
        "id": "cmz_KTNRYvsl"
      }
    },
    {
      "cell_type": "code",
      "source": [
        "from tensorflow.keras.layers import GRU"
      ],
      "metadata": {
        "id": "dgOIlptWU65v"
      },
      "execution_count": 35,
      "outputs": []
    },
    {
      "cell_type": "code",
      "source": [
        "def build_model3(n):\n",
        "  model = Sequential()\n",
        "\n",
        "  model.add(GRU(units = 64, return_sequences = True, input_shape = (n,1)))\n",
        "  model.add(GRU(32))\n",
        "  model.add(Dense(1))\n",
        "\n",
        "  model.compile(optimizer = 'adam',\n",
        "                loss = 'mse')\n",
        "  \n",
        "  return model"
      ],
      "metadata": {
        "id": "e8EhiLmH2Y00"
      },
      "execution_count": 36,
      "outputs": []
    },
    {
      "cell_type": "code",
      "source": [
        "model_3 = build_model3(10)\n",
        "model_3.summary()"
      ],
      "metadata": {
        "colab": {
          "base_uri": "https://localhost:8080/"
        },
        "outputId": "fd681f36-293b-4642-d42a-dcf77ae38d0f",
        "id": "O9gbS1Ob2Y01"
      },
      "execution_count": 37,
      "outputs": [
        {
          "output_type": "stream",
          "name": "stdout",
          "text": [
            "Model: \"sequential_3\"\n",
            "_________________________________________________________________\n",
            " Layer (type)                Output Shape              Param #   \n",
            "=================================================================\n",
            " gru (GRU)                   (None, 10, 64)            12864     \n",
            "                                                                 \n",
            " gru_1 (GRU)                 (None, 32)                9408      \n",
            "                                                                 \n",
            " dense_3 (Dense)             (None, 1)                 33        \n",
            "                                                                 \n",
            "=================================================================\n",
            "Total params: 22,305\n",
            "Trainable params: 22,305\n",
            "Non-trainable params: 0\n",
            "_________________________________________________________________\n"
          ]
        }
      ]
    },
    {
      "cell_type": "markdown",
      "source": [
        "## 모델 재학습 및 예측값 그리기"
      ],
      "metadata": {
        "id": "Uw9xw9ls2Y02"
      }
    },
    {
      "cell_type": "code",
      "source": [
        "model_3.fit(x_train, y_train,\n",
        "            epochs = 200, batch_size = 32)"
      ],
      "metadata": {
        "colab": {
          "base_uri": "https://localhost:8080/"
        },
        "id": "KIgeDHfz2Y02",
        "outputId": "506e3fd2-2bab-41d1-ff0c-d6c5439e8ee4"
      },
      "execution_count": 38,
      "outputs": [
        {
          "output_type": "stream",
          "name": "stdout",
          "text": [
            "Epoch 1/200\n",
            "11/11 [==============================] - 3s 4ms/step - loss: 205.5418\n",
            "Epoch 2/200\n",
            "11/11 [==============================] - 0s 4ms/step - loss: 155.5556\n",
            "Epoch 3/200\n",
            "11/11 [==============================] - 0s 4ms/step - loss: 126.0797\n",
            "Epoch 4/200\n",
            "11/11 [==============================] - 0s 4ms/step - loss: 108.1717\n",
            "Epoch 5/200\n",
            "11/11 [==============================] - 0s 4ms/step - loss: 96.2333\n",
            "Epoch 6/200\n",
            "11/11 [==============================] - 0s 4ms/step - loss: 88.3202\n",
            "Epoch 7/200\n",
            "11/11 [==============================] - 0s 4ms/step - loss: 82.3446\n",
            "Epoch 8/200\n",
            "11/11 [==============================] - 0s 4ms/step - loss: 77.7327\n",
            "Epoch 9/200\n",
            "11/11 [==============================] - 0s 4ms/step - loss: 73.8313\n",
            "Epoch 10/200\n",
            "11/11 [==============================] - 0s 4ms/step - loss: 70.8598\n",
            "Epoch 11/200\n",
            "11/11 [==============================] - 0s 4ms/step - loss: 67.5084\n",
            "Epoch 12/200\n",
            "11/11 [==============================] - 0s 4ms/step - loss: 64.4950\n",
            "Epoch 13/200\n",
            "11/11 [==============================] - 0s 4ms/step - loss: 61.6417\n",
            "Epoch 14/200\n",
            "11/11 [==============================] - 0s 4ms/step - loss: 59.1533\n",
            "Epoch 15/200\n",
            "11/11 [==============================] - 0s 4ms/step - loss: 56.5542\n",
            "Epoch 16/200\n",
            "11/11 [==============================] - 0s 4ms/step - loss: 54.2418\n",
            "Epoch 17/200\n",
            "11/11 [==============================] - 0s 4ms/step - loss: 52.4016\n",
            "Epoch 18/200\n",
            "11/11 [==============================] - 0s 4ms/step - loss: 50.1618\n",
            "Epoch 19/200\n",
            "11/11 [==============================] - 0s 4ms/step - loss: 48.2962\n",
            "Epoch 20/200\n",
            "11/11 [==============================] - 0s 4ms/step - loss: 46.8215\n",
            "Epoch 21/200\n",
            "11/11 [==============================] - 0s 4ms/step - loss: 45.0633\n",
            "Epoch 22/200\n",
            "11/11 [==============================] - 0s 4ms/step - loss: 43.8863\n",
            "Epoch 23/200\n",
            "11/11 [==============================] - 0s 4ms/step - loss: 42.1990\n",
            "Epoch 24/200\n",
            "11/11 [==============================] - 0s 4ms/step - loss: 40.9529\n",
            "Epoch 25/200\n",
            "11/11 [==============================] - 0s 4ms/step - loss: 40.0152\n",
            "Epoch 26/200\n",
            "11/11 [==============================] - 0s 4ms/step - loss: 38.8776\n",
            "Epoch 27/200\n",
            "11/11 [==============================] - 0s 4ms/step - loss: 37.9681\n",
            "Epoch 28/200\n",
            "11/11 [==============================] - 0s 4ms/step - loss: 36.9073\n",
            "Epoch 29/200\n",
            "11/11 [==============================] - 0s 4ms/step - loss: 36.3547\n",
            "Epoch 30/200\n",
            "11/11 [==============================] - 0s 4ms/step - loss: 35.2490\n",
            "Epoch 31/200\n",
            "11/11 [==============================] - 0s 4ms/step - loss: 34.5411\n",
            "Epoch 32/200\n",
            "11/11 [==============================] - 0s 4ms/step - loss: 33.8304\n",
            "Epoch 33/200\n",
            "11/11 [==============================] - 0s 4ms/step - loss: 33.4505\n",
            "Epoch 34/200\n",
            "11/11 [==============================] - 0s 4ms/step - loss: 32.9351\n",
            "Epoch 35/200\n",
            "11/11 [==============================] - 0s 4ms/step - loss: 32.3035\n",
            "Epoch 36/200\n",
            "11/11 [==============================] - 0s 4ms/step - loss: 31.4691\n",
            "Epoch 37/200\n",
            "11/11 [==============================] - 0s 4ms/step - loss: 30.8000\n",
            "Epoch 38/200\n",
            "11/11 [==============================] - 0s 4ms/step - loss: 30.1739\n",
            "Epoch 39/200\n",
            "11/11 [==============================] - 0s 4ms/step - loss: 29.6406\n",
            "Epoch 40/200\n",
            "11/11 [==============================] - 0s 4ms/step - loss: 29.0402\n",
            "Epoch 41/200\n",
            "11/11 [==============================] - 0s 4ms/step - loss: 28.5104\n",
            "Epoch 42/200\n",
            "11/11 [==============================] - 0s 4ms/step - loss: 28.1368\n",
            "Epoch 43/200\n",
            "11/11 [==============================] - 0s 4ms/step - loss: 27.6766\n",
            "Epoch 44/200\n",
            "11/11 [==============================] - 0s 4ms/step - loss: 27.2929\n",
            "Epoch 45/200\n",
            "11/11 [==============================] - 0s 4ms/step - loss: 26.8624\n",
            "Epoch 46/200\n",
            "11/11 [==============================] - 0s 4ms/step - loss: 26.3839\n",
            "Epoch 47/200\n",
            "11/11 [==============================] - 0s 4ms/step - loss: 26.0102\n",
            "Epoch 48/200\n",
            "11/11 [==============================] - 0s 4ms/step - loss: 25.8438\n",
            "Epoch 49/200\n",
            "11/11 [==============================] - 0s 4ms/step - loss: 25.4994\n",
            "Epoch 50/200\n",
            "11/11 [==============================] - 0s 4ms/step - loss: 24.8549\n",
            "Epoch 51/200\n",
            "11/11 [==============================] - 0s 4ms/step - loss: 24.4841\n",
            "Epoch 52/200\n",
            "11/11 [==============================] - 0s 4ms/step - loss: 24.3278\n",
            "Epoch 53/200\n",
            "11/11 [==============================] - 0s 4ms/step - loss: 23.8837\n",
            "Epoch 54/200\n",
            "11/11 [==============================] - 0s 4ms/step - loss: 23.6200\n",
            "Epoch 55/200\n",
            "11/11 [==============================] - 0s 4ms/step - loss: 23.6361\n",
            "Epoch 56/200\n",
            "11/11 [==============================] - 0s 4ms/step - loss: 23.2997\n",
            "Epoch 57/200\n",
            "11/11 [==============================] - 0s 4ms/step - loss: 22.8239\n",
            "Epoch 58/200\n",
            "11/11 [==============================] - 0s 4ms/step - loss: 22.4730\n",
            "Epoch 59/200\n",
            "11/11 [==============================] - 0s 4ms/step - loss: 22.8832\n",
            "Epoch 60/200\n",
            "11/11 [==============================] - 0s 4ms/step - loss: 23.6977\n",
            "Epoch 61/200\n",
            "11/11 [==============================] - 0s 4ms/step - loss: 22.2793\n",
            "Epoch 62/200\n",
            "11/11 [==============================] - 0s 4ms/step - loss: 21.9278\n",
            "Epoch 63/200\n",
            "11/11 [==============================] - 0s 4ms/step - loss: 21.6920\n",
            "Epoch 64/200\n",
            "11/11 [==============================] - 0s 4ms/step - loss: 22.1433\n",
            "Epoch 65/200\n",
            "11/11 [==============================] - 0s 4ms/step - loss: 21.7131\n",
            "Epoch 66/200\n",
            "11/11 [==============================] - 0s 4ms/step - loss: 21.0131\n",
            "Epoch 67/200\n",
            "11/11 [==============================] - 0s 4ms/step - loss: 20.4759\n",
            "Epoch 68/200\n",
            "11/11 [==============================] - 0s 4ms/step - loss: 20.6344\n",
            "Epoch 69/200\n",
            "11/11 [==============================] - 0s 4ms/step - loss: 20.0074\n",
            "Epoch 70/200\n",
            "11/11 [==============================] - 0s 4ms/step - loss: 20.4269\n",
            "Epoch 71/200\n",
            "11/11 [==============================] - 0s 4ms/step - loss: 19.6326\n",
            "Epoch 72/200\n",
            "11/11 [==============================] - 0s 4ms/step - loss: 19.6454\n",
            "Epoch 73/200\n",
            "11/11 [==============================] - 0s 4ms/step - loss: 19.7047\n",
            "Epoch 74/200\n",
            "11/11 [==============================] - 0s 4ms/step - loss: 19.6865\n",
            "Epoch 75/200\n",
            "11/11 [==============================] - 0s 4ms/step - loss: 19.3716\n",
            "Epoch 76/200\n",
            "11/11 [==============================] - 0s 4ms/step - loss: 19.0511\n",
            "Epoch 77/200\n",
            "11/11 [==============================] - 0s 4ms/step - loss: 19.0920\n",
            "Epoch 78/200\n",
            "11/11 [==============================] - 0s 4ms/step - loss: 18.7981\n",
            "Epoch 79/200\n",
            "11/11 [==============================] - 0s 4ms/step - loss: 18.4800\n",
            "Epoch 80/200\n",
            "11/11 [==============================] - 0s 4ms/step - loss: 18.5158\n",
            "Epoch 81/200\n",
            "11/11 [==============================] - 0s 4ms/step - loss: 18.6287\n",
            "Epoch 82/200\n",
            "11/11 [==============================] - 0s 4ms/step - loss: 18.3919\n",
            "Epoch 83/200\n",
            "11/11 [==============================] - 0s 4ms/step - loss: 18.9838\n",
            "Epoch 84/200\n",
            "11/11 [==============================] - 0s 4ms/step - loss: 18.4982\n",
            "Epoch 85/200\n",
            "11/11 [==============================] - 0s 4ms/step - loss: 17.9943\n",
            "Epoch 86/200\n",
            "11/11 [==============================] - 0s 4ms/step - loss: 17.8278\n",
            "Epoch 87/200\n",
            "11/11 [==============================] - 0s 4ms/step - loss: 17.6059\n",
            "Epoch 88/200\n",
            "11/11 [==============================] - 0s 4ms/step - loss: 17.8576\n",
            "Epoch 89/200\n",
            "11/11 [==============================] - 0s 4ms/step - loss: 17.6114\n",
            "Epoch 90/200\n",
            "11/11 [==============================] - 0s 4ms/step - loss: 17.3669\n",
            "Epoch 91/200\n",
            "11/11 [==============================] - 0s 4ms/step - loss: 17.5934\n",
            "Epoch 92/200\n",
            "11/11 [==============================] - 0s 4ms/step - loss: 17.2473\n",
            "Epoch 93/200\n",
            "11/11 [==============================] - 0s 4ms/step - loss: 17.1017\n",
            "Epoch 94/200\n",
            "11/11 [==============================] - 0s 4ms/step - loss: 17.1562\n",
            "Epoch 95/200\n",
            "11/11 [==============================] - 0s 4ms/step - loss: 16.8738\n",
            "Epoch 96/200\n",
            "11/11 [==============================] - 0s 4ms/step - loss: 16.8667\n",
            "Epoch 97/200\n",
            "11/11 [==============================] - 0s 4ms/step - loss: 16.6100\n",
            "Epoch 98/200\n",
            "11/11 [==============================] - 0s 4ms/step - loss: 16.9443\n",
            "Epoch 99/200\n",
            "11/11 [==============================] - 0s 4ms/step - loss: 16.4852\n",
            "Epoch 100/200\n",
            "11/11 [==============================] - 0s 4ms/step - loss: 16.4483\n",
            "Epoch 101/200\n",
            "11/11 [==============================] - 0s 4ms/step - loss: 16.5494\n",
            "Epoch 102/200\n",
            "11/11 [==============================] - 0s 4ms/step - loss: 16.4517\n",
            "Epoch 103/200\n",
            "11/11 [==============================] - 0s 4ms/step - loss: 17.1088\n",
            "Epoch 104/200\n",
            "11/11 [==============================] - 0s 4ms/step - loss: 17.4765\n",
            "Epoch 105/200\n",
            "11/11 [==============================] - 0s 4ms/step - loss: 16.2696\n",
            "Epoch 106/200\n",
            "11/11 [==============================] - 0s 4ms/step - loss: 16.3745\n",
            "Epoch 107/200\n",
            "11/11 [==============================] - 0s 4ms/step - loss: 16.1629\n",
            "Epoch 108/200\n",
            "11/11 [==============================] - 0s 4ms/step - loss: 16.0892\n",
            "Epoch 109/200\n",
            "11/11 [==============================] - 0s 4ms/step - loss: 15.9991\n",
            "Epoch 110/200\n",
            "11/11 [==============================] - 0s 4ms/step - loss: 16.2906\n",
            "Epoch 111/200\n",
            "11/11 [==============================] - 0s 4ms/step - loss: 16.3696\n",
            "Epoch 112/200\n",
            "11/11 [==============================] - 0s 4ms/step - loss: 15.8912\n",
            "Epoch 113/200\n",
            "11/11 [==============================] - 0s 4ms/step - loss: 15.6192\n",
            "Epoch 114/200\n",
            "11/11 [==============================] - 0s 4ms/step - loss: 15.4905\n",
            "Epoch 115/200\n",
            "11/11 [==============================] - 0s 4ms/step - loss: 15.4725\n",
            "Epoch 116/200\n",
            "11/11 [==============================] - 0s 4ms/step - loss: 15.7092\n",
            "Epoch 117/200\n",
            "11/11 [==============================] - 0s 4ms/step - loss: 15.5156\n",
            "Epoch 118/200\n",
            "11/11 [==============================] - 0s 4ms/step - loss: 15.2319\n",
            "Epoch 119/200\n",
            "11/11 [==============================] - 0s 4ms/step - loss: 15.1244\n",
            "Epoch 120/200\n",
            "11/11 [==============================] - 0s 4ms/step - loss: 15.2367\n",
            "Epoch 121/200\n",
            "11/11 [==============================] - 0s 4ms/step - loss: 15.4188\n",
            "Epoch 122/200\n",
            "11/11 [==============================] - 0s 4ms/step - loss: 15.3153\n",
            "Epoch 123/200\n",
            "11/11 [==============================] - 0s 4ms/step - loss: 15.0046\n",
            "Epoch 124/200\n",
            "11/11 [==============================] - 0s 4ms/step - loss: 14.9875\n",
            "Epoch 125/200\n",
            "11/11 [==============================] - 0s 4ms/step - loss: 15.1034\n",
            "Epoch 126/200\n",
            "11/11 [==============================] - 0s 4ms/step - loss: 14.9147\n",
            "Epoch 127/200\n",
            "11/11 [==============================] - 0s 4ms/step - loss: 14.7194\n",
            "Epoch 128/200\n",
            "11/11 [==============================] - 0s 4ms/step - loss: 14.6891\n",
            "Epoch 129/200\n",
            "11/11 [==============================] - 0s 4ms/step - loss: 14.6867\n",
            "Epoch 130/200\n",
            "11/11 [==============================] - 0s 4ms/step - loss: 14.5465\n",
            "Epoch 131/200\n",
            "11/11 [==============================] - 0s 4ms/step - loss: 14.5463\n",
            "Epoch 132/200\n",
            "11/11 [==============================] - 0s 4ms/step - loss: 14.5163\n",
            "Epoch 133/200\n",
            "11/11 [==============================] - 0s 4ms/step - loss: 14.5032\n",
            "Epoch 134/200\n",
            "11/11 [==============================] - 0s 4ms/step - loss: 14.8372\n",
            "Epoch 135/200\n",
            "11/11 [==============================] - 0s 4ms/step - loss: 14.9348\n",
            "Epoch 136/200\n",
            "11/11 [==============================] - 0s 5ms/step - loss: 14.6803\n",
            "Epoch 137/200\n",
            "11/11 [==============================] - 0s 4ms/step - loss: 15.0332\n",
            "Epoch 138/200\n",
            "11/11 [==============================] - 0s 4ms/step - loss: 14.8925\n",
            "Epoch 139/200\n",
            "11/11 [==============================] - 0s 4ms/step - loss: 14.3554\n",
            "Epoch 140/200\n",
            "11/11 [==============================] - 0s 4ms/step - loss: 14.2871\n",
            "Epoch 141/200\n",
            "11/11 [==============================] - 0s 5ms/step - loss: 14.5351\n",
            "Epoch 142/200\n",
            "11/11 [==============================] - 0s 5ms/step - loss: 16.0593\n",
            "Epoch 143/200\n",
            "11/11 [==============================] - 0s 4ms/step - loss: 15.6017\n",
            "Epoch 144/200\n",
            "11/11 [==============================] - 0s 4ms/step - loss: 14.4490\n",
            "Epoch 145/200\n",
            "11/11 [==============================] - 0s 4ms/step - loss: 14.5422\n",
            "Epoch 146/200\n",
            "11/11 [==============================] - 0s 4ms/step - loss: 14.4056\n",
            "Epoch 147/200\n",
            "11/11 [==============================] - 0s 4ms/step - loss: 14.1466\n",
            "Epoch 148/200\n",
            "11/11 [==============================] - 0s 4ms/step - loss: 14.6425\n",
            "Epoch 149/200\n",
            "11/11 [==============================] - 0s 4ms/step - loss: 14.1372\n",
            "Epoch 150/200\n",
            "11/11 [==============================] - 0s 4ms/step - loss: 13.9381\n",
            "Epoch 151/200\n",
            "11/11 [==============================] - 0s 4ms/step - loss: 13.8787\n",
            "Epoch 152/200\n",
            "11/11 [==============================] - 0s 4ms/step - loss: 14.0421\n",
            "Epoch 153/200\n",
            "11/11 [==============================] - 0s 4ms/step - loss: 13.7981\n",
            "Epoch 154/200\n",
            "11/11 [==============================] - 0s 4ms/step - loss: 13.6113\n",
            "Epoch 155/200\n",
            "11/11 [==============================] - 0s 4ms/step - loss: 13.5456\n",
            "Epoch 156/200\n",
            "11/11 [==============================] - 0s 4ms/step - loss: 13.6449\n",
            "Epoch 157/200\n",
            "11/11 [==============================] - 0s 4ms/step - loss: 14.0817\n",
            "Epoch 158/200\n",
            "11/11 [==============================] - 0s 4ms/step - loss: 13.5759\n",
            "Epoch 159/200\n",
            "11/11 [==============================] - 0s 4ms/step - loss: 13.3132\n",
            "Epoch 160/200\n",
            "11/11 [==============================] - 0s 4ms/step - loss: 13.8421\n",
            "Epoch 161/200\n",
            "11/11 [==============================] - 0s 4ms/step - loss: 13.7170\n",
            "Epoch 162/200\n",
            "11/11 [==============================] - 0s 4ms/step - loss: 14.0542\n",
            "Epoch 163/200\n",
            "11/11 [==============================] - 0s 4ms/step - loss: 14.3912\n",
            "Epoch 164/200\n",
            "11/11 [==============================] - 0s 4ms/step - loss: 13.3741\n",
            "Epoch 165/200\n",
            "11/11 [==============================] - 0s 4ms/step - loss: 13.1321\n",
            "Epoch 166/200\n",
            "11/11 [==============================] - 0s 4ms/step - loss: 13.0843\n",
            "Epoch 167/200\n",
            "11/11 [==============================] - 0s 4ms/step - loss: 13.0469\n",
            "Epoch 168/200\n",
            "11/11 [==============================] - 0s 4ms/step - loss: 13.0585\n",
            "Epoch 169/200\n",
            "11/11 [==============================] - 0s 4ms/step - loss: 13.2091\n",
            "Epoch 170/200\n",
            "11/11 [==============================] - 0s 4ms/step - loss: 13.0858\n",
            "Epoch 171/200\n",
            "11/11 [==============================] - 0s 4ms/step - loss: 13.3937\n",
            "Epoch 172/200\n",
            "11/11 [==============================] - 0s 4ms/step - loss: 13.2198\n",
            "Epoch 173/200\n",
            "11/11 [==============================] - 0s 4ms/step - loss: 13.9944\n",
            "Epoch 174/200\n",
            "11/11 [==============================] - 0s 4ms/step - loss: 13.4087\n",
            "Epoch 175/200\n",
            "11/11 [==============================] - 0s 4ms/step - loss: 12.5625\n",
            "Epoch 176/200\n",
            "11/11 [==============================] - 0s 4ms/step - loss: 13.1721\n",
            "Epoch 177/200\n",
            "11/11 [==============================] - 0s 4ms/step - loss: 12.6667\n",
            "Epoch 178/200\n",
            "11/11 [==============================] - 0s 4ms/step - loss: 13.1796\n",
            "Epoch 179/200\n",
            "11/11 [==============================] - 0s 4ms/step - loss: 12.9179\n",
            "Epoch 180/200\n",
            "11/11 [==============================] - 0s 4ms/step - loss: 12.5319\n",
            "Epoch 181/200\n",
            "11/11 [==============================] - 0s 4ms/step - loss: 12.6800\n",
            "Epoch 182/200\n",
            "11/11 [==============================] - 0s 4ms/step - loss: 12.6319\n",
            "Epoch 183/200\n",
            "11/11 [==============================] - 0s 4ms/step - loss: 12.6327\n",
            "Epoch 184/200\n",
            "11/11 [==============================] - 0s 4ms/step - loss: 12.7207\n",
            "Epoch 185/200\n",
            "11/11 [==============================] - 0s 4ms/step - loss: 12.7265\n",
            "Epoch 186/200\n",
            "11/11 [==============================] - 0s 4ms/step - loss: 12.2248\n",
            "Epoch 187/200\n",
            "11/11 [==============================] - 0s 4ms/step - loss: 12.3127\n",
            "Epoch 188/200\n",
            "11/11 [==============================] - 0s 4ms/step - loss: 12.2625\n",
            "Epoch 189/200\n",
            "11/11 [==============================] - 0s 4ms/step - loss: 12.1955\n",
            "Epoch 190/200\n",
            "11/11 [==============================] - 0s 4ms/step - loss: 12.0919\n",
            "Epoch 191/200\n",
            "11/11 [==============================] - 0s 4ms/step - loss: 12.0778\n",
            "Epoch 192/200\n",
            "11/11 [==============================] - 0s 4ms/step - loss: 11.9788\n",
            "Epoch 193/200\n",
            "11/11 [==============================] - 0s 4ms/step - loss: 12.0334\n",
            "Epoch 194/200\n",
            "11/11 [==============================] - 0s 4ms/step - loss: 12.4087\n",
            "Epoch 195/200\n",
            "11/11 [==============================] - 0s 4ms/step - loss: 12.0162\n",
            "Epoch 196/200\n",
            "11/11 [==============================] - 0s 4ms/step - loss: 12.0710\n",
            "Epoch 197/200\n",
            "11/11 [==============================] - 0s 4ms/step - loss: 11.6751\n",
            "Epoch 198/200\n",
            "11/11 [==============================] - 0s 4ms/step - loss: 11.8249\n",
            "Epoch 199/200\n",
            "11/11 [==============================] - 0s 4ms/step - loss: 11.7898\n",
            "Epoch 200/200\n",
            "11/11 [==============================] - 0s 4ms/step - loss: 11.8598\n"
          ]
        },
        {
          "output_type": "execute_result",
          "data": {
            "text/plain": [
              "<keras.callbacks.History at 0x7fe9ce043390>"
            ]
          },
          "metadata": {},
          "execution_count": 38
        }
      ]
    },
    {
      "cell_type": "markdown",
      "source": [
        "## 예측값 그려보기"
      ],
      "metadata": {
        "id": "KXKyNeTC2Y02"
      }
    },
    {
      "cell_type": "code",
      "source": [
        "prediction_3 = model_3.predict(x_test)\n",
        "\n",
        "pred_range = np.arange(len(y_train), len(y_train) + len(prediction))"
      ],
      "metadata": {
        "id": "6q8hNrIr2Y02"
      },
      "execution_count": 39,
      "outputs": []
    },
    {
      "cell_type": "code",
      "source": [
        "plt.figure(figsize = (12, 10))\n",
        "plt.xlabel('Time')\n",
        "plt.ylabel('Value')\n",
        "plt.plot(pred_range, y_test.flatten(), color = 'orange', label = 'Ground Truth')\n",
        "plt.plot(pred_range, prediction.flatten(), 'r:', label = 'Model_prediciton')\n",
        "plt.plot(pred_range, prediction_2.flatten(), color = 'blue', label = 'Model2_prediction')\n",
        "plt.plot(pred_range, prediction_3.flatten(), color = 'black', label = 'Model3_prediction')\n",
        "plt.legend()"
      ],
      "metadata": {
        "colab": {
          "base_uri": "https://localhost:8080/",
          "height": 581
        },
        "outputId": "95be2aff-4e9d-4cfd-cfd8-2a08065823d4",
        "id": "excPJepm2Y02"
      },
      "execution_count": 41,
      "outputs": [
        {
          "output_type": "execute_result",
          "data": {
            "text/plain": [
              "<matplotlib.legend.Legend at 0x7fea4e89a790>"
            ]
          },
          "metadata": {},
          "execution_count": 41
        },
        {
          "output_type": "display_data",
          "data": {
            "image/png": "[encoded data removed]",
            "text/plain": [
              "<Figure size 864x720 with 1 Axes>"
            ]
          },
          "metadata": {
            "needs_background": "light"
          }
        }
      ]
    },
    {
      "cell_type": "code",
      "source": [
        ""
      ],
      "metadata": {
        "id": "ssBmH3Za3I8L"
      },
      "execution_count": null,
      "outputs": []
    },
    {
      "cell_type": "code",
      "source": [
        ""
      ],
      "metadata": {
        "id": "3kOuw9wHRBiq"
      },
      "execution_count": null,
      "outputs": []
    }
  ]
}