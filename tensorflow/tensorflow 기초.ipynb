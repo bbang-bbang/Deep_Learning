{
  "nbformat": 4,
  "nbformat_minor": 0,
  "metadata": {
    "colab": {
      "name": "1. tensorflow 기초(2022_01_27).ipynb",
      "provenance": [],
      "collapsed_sections": [],
      "machine_shape": "hm"
    },
    "kernelspec": {
      "name": "python3",
      "display_name": "Python 3"
    },
    "language_info": {
      "name": "python"
    },
    "accelerator": "GPU"
  },
  "cells": [
    {
      "cell_type": "code",
      "execution_count": 1,
      "metadata": {
        "id": "HbLIRVsM-Spy"
      },
      "outputs": [],
      "source": [
        "import tensorflow as tf\n",
        "import numpy as np"
      ]
    },
    {
      "cell_type": "code",
      "source": [
        "print(tf.__version__)"
      ],
      "metadata": {
        "colab": {
          "base_uri": "https://localhost:8080/"
        },
        "id": "ZIUMV0Dd-fat",
        "outputId": "f431f397-ab71-4068-82a0-fb4d2be5980e"
      },
      "execution_count": 2,
      "outputs": [
        {
          "output_type": "stream",
          "name": "stdout",
          "text": [
            "2.7.0\n"
          ]
        }
      ]
    },
    {
      "cell_type": "markdown",
      "source": [
        "# 텐서의 차원과 연산"
      ],
      "metadata": {
        "id": "HUcLc7Sb-l9L"
      }
    },
    {
      "cell_type": "code",
      "source": [
        "a = tf.constant(2)\n",
        "print(tf.rank(a))\n",
        "print(a)"
      ],
      "metadata": {
        "colab": {
          "base_uri": "https://localhost:8080/"
        },
        "id": "zH7Hztwv-hse",
        "outputId": "5d9e9e40-6d67-4434-ce8d-d5e060bcdc64"
      },
      "execution_count": 3,
      "outputs": [
        {
          "output_type": "stream",
          "name": "stdout",
          "text": [
            "tf.Tensor(0, shape=(), dtype=int32)\n",
            "tf.Tensor(2, shape=(), dtype=int32)\n"
          ]
        }
      ]
    },
    {
      "cell_type": "code",
      "source": [
        "b = tf.constant([2,3])\n",
        "print(tf.rank(b))\n",
        "print(b)"
      ],
      "metadata": {
        "colab": {
          "base_uri": "https://localhost:8080/"
        },
        "id": "uDmazUtv-wMI",
        "outputId": "49e4d4c1-dadc-49b5-c318-bf8872a012da"
      },
      "execution_count": 4,
      "outputs": [
        {
          "output_type": "stream",
          "name": "stdout",
          "text": [
            "tf.Tensor(1, shape=(), dtype=int32)\n",
            "tf.Tensor([2 3], shape=(2,), dtype=int32)\n"
          ]
        }
      ]
    },
    {
      "cell_type": "markdown",
      "source": [
        "# 난수 생성"
      ],
      "metadata": {
        "id": "BV3DJIizEmIB"
      }
    },
    {
      "cell_type": "code",
      "source": [
        "rand =tf.random.uniform([1], 0,1)\n",
        "print(rand.shape)\n",
        "print(rand)"
      ],
      "metadata": {
        "colab": {
          "base_uri": "https://localhost:8080/"
        },
        "id": "4Fpfll2VEj3T",
        "outputId": "d9c913ed-c518-4a98-cc2b-557bd1987441"
      },
      "execution_count": 5,
      "outputs": [
        {
          "output_type": "stream",
          "name": "stdout",
          "text": [
            "(1,)\n",
            "tf.Tensor([0.04194868], shape=(1,), dtype=float32)\n"
          ]
        }
      ]
    },
    {
      "cell_type": "code",
      "source": [
        "rand2 = tf.random.normal([1,2], 0, 1)\n",
        "print(rand2.shape)"
      ],
      "metadata": {
        "colab": {
          "base_uri": "https://localhost:8080/"
        },
        "id": "4KlJTUxdEzdS",
        "outputId": "b49d4d5b-ad1a-4b2b-85e9-3cc31429ac02"
      },
      "execution_count": 6,
      "outputs": [
        {
          "output_type": "stream",
          "name": "stdout",
          "text": [
            "(1, 2)\n"
          ]
        }
      ]
    },
    {
      "cell_type": "code",
      "source": [
        "rand3 = tf.random.normal(shape = (3,2), mean = 0, stddev= 1)\n",
        "print(rand3)"
      ],
      "metadata": {
        "colab": {
          "base_uri": "https://localhost:8080/"
        },
        "id": "7-6N2cp8FpZS",
        "outputId": "97bc36db-9191-4a81-c9c8-168a0c3c2188"
      },
      "execution_count": 7,
      "outputs": [
        {
          "output_type": "stream",
          "name": "stdout",
          "text": [
            "tf.Tensor(\n",
            "[[ 0.19087581  0.17960599]\n",
            " [ 2.3016808   0.25460425]\n",
            " [-1.2746159  -1.0025935 ]], shape=(3, 2), dtype=float32)\n"
          ]
        }
      ]
    },
    {
      "cell_type": "markdown",
      "source": [
        "# 즉시 실행 모드 지원"
      ],
      "metadata": {
        "id": "PyCbKkOsF_J6"
      }
    },
    {
      "cell_type": "code",
      "source": [
        "a = tf.constant(3)\n",
        "b = tf.constant(2)"
      ],
      "metadata": {
        "id": "LI0uylcsF-Ea"
      },
      "execution_count": 8,
      "outputs": []
    },
    {
      "cell_type": "code",
      "source": [
        "print(tf.add(a, b))\n",
        "print(a + b)"
      ],
      "metadata": {
        "colab": {
          "base_uri": "https://localhost:8080/"
        },
        "id": "V_dwg3zeGH3D",
        "outputId": "106f236e-1512-4f65-d9a0-3b6e46d20653"
      },
      "execution_count": 9,
      "outputs": [
        {
          "output_type": "stream",
          "name": "stdout",
          "text": [
            "tf.Tensor(5, shape=(), dtype=int32)\n",
            "tf.Tensor(5, shape=(), dtype=int32)\n"
          ]
        }
      ]
    },
    {
      "cell_type": "markdown",
      "source": [
        "# tensorflow <-> numpy\n",
        "* tf.convert_to_tensor()"
      ],
      "metadata": {
        "id": "Thxu3yC1GO2p"
      }
    },
    {
      "cell_type": "code",
      "source": [
        "c = tf.add(a, b).numpy()\n",
        "print(type(c))"
      ],
      "metadata": {
        "colab": {
          "base_uri": "https://localhost:8080/"
        },
        "id": "ouvm13uVGLTL",
        "outputId": "10d8cf28-c69b-4e37-d452-07a27d7c4023"
      },
      "execution_count": 10,
      "outputs": [
        {
          "output_type": "stream",
          "name": "stdout",
          "text": [
            "<class 'numpy.int32'>\n"
          ]
        }
      ]
    },
    {
      "cell_type": "code",
      "source": [
        "c_square = np.square(c, dtype = np.float32)\n",
        "c_tensor = tf.convert_to_tensor(c_square)\n",
        "print(c_tensor)"
      ],
      "metadata": {
        "colab": {
          "base_uri": "https://localhost:8080/"
        },
        "id": "B8uBHL5YGnf7",
        "outputId": "0e0d992e-0c9b-4bb4-cbc0-859d70ab1a6f"
      },
      "execution_count": 11,
      "outputs": [
        {
          "output_type": "stream",
          "name": "stdout",
          "text": [
            "tf.Tensor(25.0, shape=(), dtype=float32)\n"
          ]
        }
      ]
    },
    {
      "cell_type": "markdown",
      "source": [
        "# numpy 처럼 사용하기"
      ],
      "metadata": {
        "id": "CinevgeEHO8n"
      }
    },
    {
      "cell_type": "code",
      "source": [
        "t= tf.constant([[1.,2.,3.], [4.,5.,6.]])\n",
        "\n",
        "print(t.shape)\n",
        "print(t.dtype)"
      ],
      "metadata": {
        "colab": {
          "base_uri": "https://localhost:8080/"
        },
        "id": "v8BZbN7bGvVq",
        "outputId": "f937ba98-6c2b-4a92-a27b-5fc78e0d5c3b"
      },
      "execution_count": 12,
      "outputs": [
        {
          "output_type": "stream",
          "name": "stdout",
          "text": [
            "(2, 3)\n",
            "<dtype: 'float32'>\n"
          ]
        }
      ]
    },
    {
      "cell_type": "code",
      "source": [
        "print(t[:, 1:])"
      ],
      "metadata": {
        "colab": {
          "base_uri": "https://localhost:8080/"
        },
        "id": "Ac4Yoc6XH-CU",
        "outputId": "303f8cc0-b73b-4337-fe51-b715793c5e36"
      },
      "execution_count": 13,
      "outputs": [
        {
          "output_type": "stream",
          "name": "stdout",
          "text": [
            "tf.Tensor(\n",
            "[[2. 3.]\n",
            " [5. 6.]], shape=(2, 2), dtype=float32)\n"
          ]
        }
      ]
    },
    {
      "cell_type": "code",
      "source": [
        "t[...,1 , tf.newaxis]"
      ],
      "metadata": {
        "colab": {
          "base_uri": "https://localhost:8080/"
        },
        "id": "IH4M1CzUIKmq",
        "outputId": "354b6674-529d-45b4-e61d-1d3034578844"
      },
      "execution_count": 14,
      "outputs": [
        {
          "output_type": "execute_result",
          "data": {
            "text/plain": [
              "<tf.Tensor: shape=(2, 1), dtype=float32, numpy=\n",
              "array([[2.],\n",
              "       [5.]], dtype=float32)>"
            ]
          },
          "metadata": {},
          "execution_count": 14
        }
      ]
    },
    {
      "cell_type": "markdown",
      "source": [
        "# 타입의 변환\n",
        "* 텐서의 기본 dtype : int32, flaot32\n",
        "* tf.cast()"
      ],
      "metadata": {
        "id": "L6k4QCUfITGS"
      }
    },
    {
      "cell_type": "code",
      "source": [
        "a = tf.constant(2)\n",
        "b = tf.constant(2.)\n",
        "\n",
        "print(a)\n",
        "print(b)"
      ],
      "metadata": {
        "colab": {
          "base_uri": "https://localhost:8080/"
        },
        "id": "mSUf026FIPxj",
        "outputId": "63592ca2-f9cc-4046-9d0e-e9aa89816eeb"
      },
      "execution_count": 15,
      "outputs": [
        {
          "output_type": "stream",
          "name": "stdout",
          "text": [
            "tf.Tensor(2, shape=(), dtype=int32)\n",
            "tf.Tensor(2.0, shape=(), dtype=float32)\n"
          ]
        }
      ]
    },
    {
      "cell_type": "code",
      "source": [
        "tf.constant(2.)+ tf.constant(3.)"
      ],
      "metadata": {
        "colab": {
          "base_uri": "https://localhost:8080/"
        },
        "id": "anulUOL5JHeU",
        "outputId": "df19320b-f70e-4e35-c190-e67799f3ca7e"
      },
      "execution_count": 16,
      "outputs": [
        {
          "output_type": "execute_result",
          "data": {
            "text/plain": [
              "<tf.Tensor: shape=(), dtype=float32, numpy=5.0>"
            ]
          },
          "metadata": {},
          "execution_count": 16
        }
      ]
    },
    {
      "cell_type": "code",
      "source": [
        "t = tf.constant(30., dtype = tf.float64)\n",
        "t2= tf.constant(4.)\n",
        "\n",
        "print(t2 + tf.cast(t, tf.float32))"
      ],
      "metadata": {
        "colab": {
          "base_uri": "https://localhost:8080/"
        },
        "id": "o3BC0hzZJyFs",
        "outputId": "13e70ba4-f820-4f68-daa9-c86502a84930"
      },
      "execution_count": 17,
      "outputs": [
        {
          "output_type": "stream",
          "name": "stdout",
          "text": [
            "tf.Tensor(34.0, shape=(), dtype=float32)\n"
          ]
        }
      ]
    },
    {
      "cell_type": "markdown",
      "source": [
        "# AutoGraph\n",
        "* tf.graph"
      ],
      "metadata": {
        "id": "1aPRAMdUKH0R"
      }
    },
    {
      "cell_type": "code",
      "source": [
        "import timeit"
      ],
      "metadata": {
        "id": "dCe9JwBoKCTM"
      },
      "execution_count": 18,
      "outputs": []
    },
    {
      "cell_type": "markdown",
      "source": [
        "## @tf.function\n",
        "* 자동으로 그래프 생성\n",
        "* 원본 함수가 필요하다면(tf.function).python_function()"
      ],
      "metadata": {
        "id": "B6u2T7dfKWOB"
      }
    },
    {
      "cell_type": "code",
      "source": [
        "@tf.function\n",
        "def solution(x):\n",
        "  return x**2 - 10*x +3\n",
        "\n",
        "print(solution(2))\n",
        "print(solution(tf.constant(2)))"
      ],
      "metadata": {
        "colab": {
          "base_uri": "https://localhost:8080/"
        },
        "id": "8YnirhfVKTjr",
        "outputId": "6748ebbe-3a7b-4c56-f7b7-e267177be913"
      },
      "execution_count": 19,
      "outputs": [
        {
          "output_type": "stream",
          "name": "stdout",
          "text": [
            "tf.Tensor(-13, shape=(), dtype=int32)\n",
            "tf.Tensor(-13, shape=(), dtype=int32)\n"
          ]
        }
      ]
    },
    {
      "cell_type": "code",
      "source": [
        "def solution_(x):\n",
        "  return x**2 -10*x+3\n",
        "\n",
        "print(solution_(2))\n",
        "print(solution(tf.constant(2)))"
      ],
      "metadata": {
        "colab": {
          "base_uri": "https://localhost:8080/"
        },
        "id": "aaY8ECBlLa6F",
        "outputId": "166cdea6-eb0e-4b78-8fb7-72f3abc134dd"
      },
      "execution_count": 20,
      "outputs": [
        {
          "output_type": "stream",
          "name": "stdout",
          "text": [
            "-13\n",
            "tf.Tensor(-13, shape=(), dtype=int32)\n"
          ]
        }
      ]
    },
    {
      "cell_type": "code",
      "source": [
        "tf_sol = tf.function(solution_)\n",
        "print(tf_sol)\n",
        "print(tf_sol(2))"
      ],
      "metadata": {
        "colab": {
          "base_uri": "https://localhost:8080/"
        },
        "id": "_fprv8fALpfT",
        "outputId": "8f4d9598-13b1-4697-cc70-4ff31e17fdcb"
      },
      "execution_count": 21,
      "outputs": [
        {
          "output_type": "stream",
          "name": "stdout",
          "text": [
            "<tensorflow.python.eager.def_function.Function object at 0x7fc3b20a3bd0>\n",
            "tf.Tensor(-13, shape=(), dtype=int32)\n"
          ]
        }
      ]
    },
    {
      "cell_type": "code",
      "source": [
        "def function_to_get_faster(x,y,b):\n",
        "  x = tf.matmul(x, y)\n",
        "  x = x+b\n",
        "  return x\n",
        "a_function_that_uses_a_graph = tf.function(function_to_get_faster)\n",
        "\n",
        "x1 = tf.constant([[1.0,2.0]])\n",
        "y1 = tf.constant([[2.0],[3.0]])\n",
        "b1= tf.constant(4.0)\n",
        "\n",
        "a_function_that_uses_a_graph(x1, y1, b1).numpy()"
      ],
      "metadata": {
        "colab": {
          "base_uri": "https://localhost:8080/"
        },
        "id": "y5ha8AQWMQKy",
        "outputId": "e3d246cf-b4aa-498c-cc86-2f1f72de4dee"
      },
      "execution_count": 22,
      "outputs": [
        {
          "output_type": "execute_result",
          "data": {
            "text/plain": [
              "array([[12.]], dtype=float32)"
            ]
          },
          "metadata": {},
          "execution_count": 22
        }
      ]
    },
    {
      "cell_type": "markdown",
      "source": [
        "### tensorflow가 tf.function으로 변환한 코드"
      ],
      "metadata": {
        "id": "rvdMxxDGM3qS"
      }
    },
    {
      "cell_type": "code",
      "source": [
        "print(tf.autograph.to_code(tf_sol.python_function))"
      ],
      "metadata": {
        "colab": {
          "base_uri": "https://localhost:8080/"
        },
        "id": "nNVhua1dL0kV",
        "outputId": "417ac345-474f-4bbb-88c3-48c1b2d16f31"
      },
      "execution_count": 23,
      "outputs": [
        {
          "output_type": "stream",
          "name": "stdout",
          "text": [
            "def tf__solution_(x):\n",
            "    with ag__.FunctionScope('solution_', 'fscope', ag__.ConversionOptions(recursive=True, user_requested=True, optional_features=(), internal_convert_user_code=True)) as fscope:\n",
            "        do_return = False\n",
            "        retval_ = ag__.UndefinedReturnValue()\n",
            "        try:\n",
            "            do_return = True\n",
            "            retval_ = (((ag__.ld(x) ** 2) - (10 * ag__.ld(x))) + 3)\n",
            "        except:\n",
            "            do_return = False\n",
            "            raise\n",
            "        return fscope.ret(retval_, do_return)\n",
            "\n"
          ]
        }
      ]
    },
    {
      "cell_type": "markdown",
      "source": [
        "### 속도 향상"
      ],
      "metadata": {
        "id": "bdHEBd77Noju"
      }
    },
    {
      "cell_type": "code",
      "source": [
        "class SequentialModel(tf.keras.Model):\n",
        "  def __init__(self, **kwargs):\n",
        "    super(SequentialModel, self).__init__(**kwargs)\n",
        "    self.flatten = tf.keras.layers.Flatten(input_shape = (28, 28))\n",
        "    self.dense_1 = tf.keras.layers.Dense(128, activation = 'relu')\n",
        "    self.dropout = tf.keras.layers.Dropout(0.2)\n",
        "    self.dense_2 = tf.keras.layers.Dense(10)\n",
        "\n",
        "  def call(self, x):\n",
        "    x = self.flatten(x)\n",
        "    x = self.dense_1(x)\n",
        "    x = self.dropout(x)\n",
        "    x = self.dense_2(x)\n",
        "    return x\n",
        "\n",
        "input_data = tf.random.uniform([60,28,28])\n",
        "\n",
        "eager_model = SequentialModel()\n",
        "graph_model = tf.function(eager_model)\n",
        "\n",
        "\n",
        "print('Eager time:', timeit.timeit(lambda : eager_model(input_data), number =10000))\n",
        "print('Graph time:', timeit.timeit(lambda : graph_model(input_data), number =10000))"
      ],
      "metadata": {
        "colab": {
          "base_uri": "https://localhost:8080/"
        },
        "id": "eDEB1nnoL0hz",
        "outputId": "1d8a42da-837c-4706-e19f-0adb558712d5"
      },
      "execution_count": 24,
      "outputs": [
        {
          "output_type": "stream",
          "name": "stdout",
          "text": [
            "Eager time: 10.637215923000042\n",
            "Graph time: 3.0239947270000016\n"
          ]
        }
      ]
    },
    {
      "cell_type": "markdown",
      "source": [
        "# 변수 생성\n",
        "* tf.variable\n",
        "* 딥러닝 모델 학습 시, 그래프 연산이 필요할때 사용"
      ],
      "metadata": {
        "id": "ytzzW9HnUHcM"
      }
    },
    {
      "cell_type": "code",
      "source": [
        "x = tf.Variable(20.0)\n",
        "print(x)"
      ],
      "metadata": {
        "colab": {
          "base_uri": "https://localhost:8080/"
        },
        "id": "i4S7p6MTL0ew",
        "outputId": "75b4b6e4-6067-4682-d9b5-7ca9738c053d"
      },
      "execution_count": 25,
      "outputs": [
        {
          "output_type": "stream",
          "name": "stdout",
          "text": [
            "<tf.Variable 'Variable:0' shape=() dtype=float32, numpy=20.0>\n"
          ]
        }
      ]
    },
    {
      "cell_type": "markdown",
      "source": [
        "## Autograd(자동미분)"
      ],
      "metadata": {
        "id": "V2PZWeedUbp-"
      }
    },
    {
      "cell_type": "code",
      "source": [
        "x = tf.Variable(3.0)\n",
        "\n",
        "with tf.GradientTape() as tape:\n",
        "  y = x ** 2 "
      ],
      "metadata": {
        "id": "06w9vRVIL0b7"
      },
      "execution_count": 26,
      "outputs": []
    },
    {
      "cell_type": "code",
      "source": [
        "dy_dx = tape.gradient(y, x)\n",
        "dy_dx.numpy()"
      ],
      "metadata": {
        "colab": {
          "base_uri": "https://localhost:8080/"
        },
        "id": "a7LGx7z3L0ZV",
        "outputId": "595f146a-4f98-473f-b8f4-ae10397caf8f"
      },
      "execution_count": 27,
      "outputs": [
        {
          "output_type": "execute_result",
          "data": {
            "text/plain": [
              "6.0"
            ]
          },
          "metadata": {},
          "execution_count": 27
        }
      ]
    },
    {
      "cell_type": "code",
      "source": [
        "x2= tf.Variable(4)\n",
        "y = tf.Variable(3.0)\n",
        "\n",
        "with tf.GradientTape() as tape:\n",
        "  y_sq = y**2\n",
        "  z = x**2 + tf.stop_gradient(y_sq)\n",
        "\n",
        "grad = tape.gradient(z, {'x':x, 'y':y})\n",
        "grad['x']"
      ],
      "metadata": {
        "colab": {
          "base_uri": "https://localhost:8080/"
        },
        "id": "ZEOT1F0eL0Vz",
        "outputId": "bc1c8526-c0b0-48bd-8d53-41e9335a7b9b"
      },
      "execution_count": 28,
      "outputs": [
        {
          "output_type": "execute_result",
          "data": {
            "text/plain": [
              "<tf.Tensor: shape=(), dtype=float32, numpy=6.0>"
            ]
          },
          "metadata": {},
          "execution_count": 28
        }
      ]
    },
    {
      "cell_type": "code",
      "source": [
        "weights = tf.Variable(tf.random.normal((3,2)), name = 'weights')\n",
        "biases = tf.Variable(tf.zeros(2, dtype = tf.float32), name = 'biases')\n",
        "\n",
        "x = [[1,2,3]]\n",
        "\n",
        "with tf.GradientTape(persistent = True) as tape:\n",
        "  y = x @ weights + biases \n",
        "  loss = tf.reduce_mean(y**2)\n"
      ],
      "metadata": {
        "id": "wzFPZoExL0Tb"
      },
      "execution_count": 29,
      "outputs": []
    },
    {
      "cell_type": "code",
      "source": [
        "[dl_dw, dl_db] = tape.gradient(loss, [weights , biases])"
      ],
      "metadata": {
        "id": "usJe0-tbXTvx"
      },
      "execution_count": 30,
      "outputs": []
    },
    {
      "cell_type": "code",
      "source": [
        "print(weights.shape)\n",
        "print(dl_dw.shape)"
      ],
      "metadata": {
        "colab": {
          "base_uri": "https://localhost:8080/"
        },
        "id": "kiohPLlyut9G",
        "outputId": "e9242539-fef4-425e-9bf2-11be16bd4ec8"
      },
      "execution_count": 31,
      "outputs": [
        {
          "output_type": "stream",
          "name": "stdout",
          "text": [
            "(3, 2)\n",
            "(3, 2)\n"
          ]
        }
      ]
    },
    {
      "cell_type": "code",
      "source": [
        "weights2 = tf.Variable(tf.random.normal((3,2)), name = 'weights')\n",
        "biases2= tf.Variable(tf.zeros(2, dtype = tf.float32), name = 'biases')\n",
        "\n",
        "x2 = [[4.,5.,6.]]\n",
        "\n",
        "[dl_dw2, dl_db2] = tape.gradient(loss, [weights2 , biases2])\n",
        "\n",
        "print(weights2.shape)\n",
        "print(dl_dw.shape)"
      ],
      "metadata": {
        "colab": {
          "base_uri": "https://localhost:8080/"
        },
        "id": "lIN6X2RuuxqW",
        "outputId": "a759ed02-879e-486d-c9e5-f18cb1c8fe02"
      },
      "execution_count": 32,
      "outputs": [
        {
          "output_type": "stream",
          "name": "stdout",
          "text": [
            "(3, 2)\n",
            "(3, 2)\n"
          ]
        }
      ]
    },
    {
      "cell_type": "code",
      "source": [
        "del tape"
      ],
      "metadata": {
        "id": "2JkexxoqvH2n"
      },
      "execution_count": 33,
      "outputs": []
    },
    {
      "cell_type": "markdown",
      "source": [
        "# 뉴런\n",
        "* 입력 -> 연산 ->활성화함수 -> 출력"
      ],
      "metadata": {
        "id": "xzU0DhpJvv_W"
      }
    },
    {
      "cell_type": "code",
      "source": [
        "def sigmoid(x):\n",
        "  return(1 /(1 + np.exp(-x)))\n",
        "\n",
        "def Neuron(x, W, bias = 0):\n",
        "  z = x*W +bias \n",
        "  return sigmoid(z)"
      ],
      "metadata": {
        "id": "TYAcDqfrvuVm"
      },
      "execution_count": 34,
      "outputs": []
    },
    {
      "cell_type": "code",
      "source": [
        "x = tf.random.normal((1,2), 0, 1)\n",
        "W = tf.random.normal((1,2),0,1)\n",
        "\n",
        "print(x.shape)\n",
        "print(W.shape)\n",
        "\n",
        "print(x)\n",
        "print(W)\n",
        "\n",
        "print(Neuron(x,W))"
      ],
      "metadata": {
        "colab": {
          "base_uri": "https://localhost:8080/"
        },
        "id": "utxwuh08wH1n",
        "outputId": "da49be58-c0b9-4407-f981-5c84284b150b"
      },
      "execution_count": 36,
      "outputs": [
        {
          "output_type": "stream",
          "name": "stdout",
          "text": [
            "(1, 2)\n",
            "(1, 2)\n",
            "tf.Tensor([[-1.341008   -0.00253729]], shape=(1, 2), dtype=float32)\n",
            "tf.Tensor([[-0.04753911  0.20278384]], shape=(1, 2), dtype=float32)\n",
            "[[0.5159322 0.4998714]]\n"
          ]
        }
      ]
    },
    {
      "cell_type": "markdown",
      "source": [
        "## 퍼셉트론 학습 알고리즘(가중치 업데이트)\n"
      ],
      "metadata": {
        "id": "8HI6uc1nxIwr"
      }
    },
    {
      "cell_type": "code",
      "source": [
        "x = 1\n",
        "y = 0\n",
        "\n",
        "W = tf.random.normal([1], 0, 1)\n",
        "print(Neuron(x, W))\n",
        "print(y)"
      ],
      "metadata": {
        "colab": {
          "base_uri": "https://localhost:8080/"
        },
        "id": "SHtnjh5LwXMv",
        "outputId": "9a013857-28ba-4949-f7f3-39b574274a4f"
      },
      "execution_count": 42,
      "outputs": [
        {
          "output_type": "stream",
          "name": "stdout",
          "text": [
            "[0.25046453]\n",
            "0\n"
          ]
        }
      ]
    },
    {
      "cell_type": "code",
      "source": [
        "for i in range(1000):\n",
        "  output = Neuron(x, W)\n",
        "  error = y - output\n",
        "  W = W + x*0.1 * error\n",
        "\n",
        "  if i %100 == 99:\n",
        "    print(\"{}\\t{}\\t{}\".format(i+1, error, output))"
      ],
      "metadata": {
        "colab": {
          "base_uri": "https://localhost:8080/"
        },
        "id": "mQx9H6pgxWpn",
        "outputId": "acbdc595-93d4-463e-efd9-eabd100a51e1"
      },
      "execution_count": 43,
      "outputs": [
        {
          "output_type": "stream",
          "name": "stdout",
          "text": [
            "100\t[-0.0793919]\t[0.0793919]\n",
            "200\t[-0.04539573]\t[0.04539573]\n",
            "300\t[-0.03157634]\t[0.03157634]\n",
            "400\t[-0.02415054]\t[0.02415054]\n",
            "500\t[-0.01953106]\t[0.01953106]\n",
            "600\t[-0.01638525]\t[0.01638525]\n",
            "700\t[-0.01410714]\t[0.01410714]\n",
            "800\t[-0.01238231]\t[0.01238231]\n",
            "900\t[-0.01103151]\t[0.01103151]\n",
            "1000\t[-0.00994533]\t[0.00994533]\n"
          ]
        }
      ]
    },
    {
      "cell_type": "code",
      "source": [
        "def Neuron2(x, W, bias = 0):  \n",
        "  z = tf.matmul(x, W, transpose_b = True) + bias\n",
        "  return sigmoid(z)"
      ],
      "metadata": {
        "id": "VJ8_vzQWx0NW"
      },
      "execution_count": 44,
      "outputs": []
    },
    {
      "cell_type": "code",
      "source": [
        "x = tf.random.normal((1,3), 0, 1)\n",
        "y = tf.ones(1)\n",
        "W = tf.random.normal((1,3), 0, 1)\n",
        "\n",
        "print(Neuron2(x, W))\n",
        "print(y)\n"
      ],
      "metadata": {
        "colab": {
          "base_uri": "https://localhost:8080/"
        },
        "id": "9K6Z2I9-yCKI",
        "outputId": "a3f9c3ae-805e-49d4-befa-33d5a8fba122"
      },
      "execution_count": 45,
      "outputs": [
        {
          "output_type": "stream",
          "name": "stdout",
          "text": [
            "[[0.64479536]]\n",
            "tf.Tensor([1.], shape=(1,), dtype=float32)\n"
          ]
        }
      ]
    },
    {
      "cell_type": "code",
      "source": [
        "\n",
        "for i in range(1000):\n",
        "  output = Neuron2(x, W)\n",
        "  error = y - output\n",
        "  W = W + x*0.1 * error\n",
        "\n",
        "  if i %100 == 99:\n",
        "    print(\"{}\\t{}\\t{}\".format(i+1, error, output))"
      ],
      "metadata": {
        "colab": {
          "base_uri": "https://localhost:8080/"
        },
        "id": "fAHvSIjqyqZp",
        "outputId": "42708ec1-12f8-4cb4-eab9-0aa61520d553"
      },
      "execution_count": 46,
      "outputs": [
        {
          "output_type": "stream",
          "name": "stdout",
          "text": [
            "100\t[[0.02073914]]\t[[0.97926086]]\n",
            "200\t[[0.01040226]]\t[[0.98959774]]\n",
            "300\t[[0.00693142]]\t[[0.9930686]]\n",
            "400\t[[0.00519484]]\t[[0.99480516]]\n",
            "500\t[[0.00415319]]\t[[0.9958468]]\n",
            "600\t[[0.00345927]]\t[[0.9965407]]\n",
            "700\t[[0.00296366]]\t[[0.99703634]]\n",
            "800\t[[0.00259227]]\t[[0.99740773]]\n",
            "900\t[[0.00230354]]\t[[0.99769646]]\n",
            "1000\t[[0.00207257]]\t[[0.9979274]]\n"
          ]
        }
      ]
    },
    {
      "cell_type": "code",
      "source": [
        "x = tf.random.normal((1,3), 0, 1)\n",
        "weights = tf.random.normal((1,3),0,1)\n",
        "bias = tf.zeros((1,1))\n",
        "\n",
        "y = tf.ones((1,))\n",
        "\n",
        "print(x)\n",
        "print(weights)\n",
        "print(bias)"
      ],
      "metadata": {
        "colab": {
          "base_uri": "https://localhost:8080/"
        },
        "id": "iUnfN01kzLF4",
        "outputId": "aa023a8e-f5fb-4236-d0ad-06bd0d460d8c"
      },
      "execution_count": 47,
      "outputs": [
        {
          "output_type": "stream",
          "name": "stdout",
          "text": [
            "tf.Tensor([[-0.8507938  -0.23130432  0.93916726]], shape=(1, 3), dtype=float32)\n",
            "tf.Tensor([[-0.82499015 -0.36134505 -0.5207907 ]], shape=(1, 3), dtype=float32)\n",
            "tf.Tensor([[0.]], shape=(1, 1), dtype=float32)\n"
          ]
        }
      ]
    },
    {
      "cell_type": "code",
      "source": [
        "for i in range(1000):\n",
        "  output = Neuron2(x, weights, bias = bias)\n",
        "  error = y - output\n",
        "  weights = weights +x *0.1*error\n",
        "  bias = bias +1*0.1*error\n",
        "  \n",
        "  if i %100 == 99:\n",
        "    print(\"{}\\t{}\\t{}\".format(i+1, error, output))"
      ],
      "metadata": {
        "colab": {
          "base_uri": "https://localhost:8080/"
        },
        "id": "SCOkyYtgzmI4",
        "outputId": "fbce5a40-5f68-4118-9e7e-3dacf0e347d7"
      },
      "execution_count": 48,
      "outputs": [
        {
          "output_type": "stream",
          "name": "stdout",
          "text": [
            "100\t[[0.03835702]]\t[[0.961643]]\n",
            "200\t[[0.01921386]]\t[[0.98078614]]\n",
            "300\t[[0.01277477]]\t[[0.98722523]]\n",
            "400\t[[0.00955856]]\t[[0.99044144]]\n",
            "500\t[[0.00763267]]\t[[0.9923673]]\n",
            "600\t[[0.00635129]]\t[[0.9936487]]\n",
            "700\t[[0.00543755]]\t[[0.99456245]]\n",
            "800\t[[0.00475317]]\t[[0.9952468]]\n",
            "900\t[[0.00422168]]\t[[0.9957783]]\n",
            "1000\t[[0.00379688]]\t[[0.9962031]]\n"
          ]
        }
      ]
    },
    {
      "cell_type": "markdown",
      "source": [
        "## AND GATE"
      ],
      "metadata": {
        "id": "XuDlN8gK1ICb"
      }
    },
    {
      "cell_type": "code",
      "source": [
        "x = np.array([[1,1],[1,0],[0,1],[0,0]])\n",
        "y = np.array([[1],[0],[0],[1]])\n",
        "\n",
        "W = tf.random.normal([2],0,1)\n",
        "b = tf.random.normal([2],0,1)\n",
        "b_x = 1\n",
        "\n",
        "for i in range(1000):\n",
        "  error_sum = 0\n",
        "  \n",
        "  for j in range(4):\n",
        "    output = sigmoid(np.sum(x[j]*W) +b_x +b)\n",
        "    error = y[j][0] - output\n",
        "    W = W + x[j] * 0.1 *error\n",
        "    b = b+ b_x*0.1* error\n",
        "    error_sum += error\n",
        "\n",
        "  if i % 200 == 0:\n",
        "    print('Epoch {:4d}\\tError Sum {}'.format(i, error_sum))\n",
        "print('가중치 : {}'.format(W))\n",
        "print('편향 : {}'.format(b))"
      ],
      "metadata": {
        "colab": {
          "base_uri": "https://localhost:8080/"
        },
        "id": "m23Iew1-0-Qw",
        "outputId": "fb0e3308-9834-4629-dad8-3d273ff7753e"
      },
      "execution_count": 49,
      "outputs": [
        {
          "output_type": "stream",
          "name": "stdout",
          "text": [
            "Epoch    0\tError Sum [-1.1248379 -1.7592099]\n",
            "Epoch  200\tError Sum [-0.00337273 -0.00337273]\n",
            "Epoch  400\tError Sum [-0.00013691 -0.00013691]\n",
            "Epoch  600\tError Sum [-5.543232e-06 -5.543232e-06]\n",
            "Epoch  800\tError Sum [-4.7683716e-07 -4.7683716e-07]\n",
            "가중치 : [-5.1282883e-02 -1.1511147e-06]\n",
            "편향 : [-0.9999984 -0.9999984]\n"
          ]
        }
      ]
    },
    {
      "cell_type": "code",
      "source": [
        "for i in range(4):\n",
        "  print('X : {} Y :{} output:{}'.format(x[i], y[i], sigmoid(np.sum(x[i]*W)+b)))"
      ],
      "metadata": {
        "colab": {
          "base_uri": "https://localhost:8080/"
        },
        "id": "iaiC71Op2VH4",
        "outputId": "9c974f43-8423-4bc7-c686-2858f416e252"
      },
      "execution_count": 50,
      "outputs": [
        {
          "output_type": "stream",
          "name": "stdout",
          "text": [
            "X : [1 1] Y :[1] output:[0.25897893 0.25897893]\n",
            "X : [1 0] Y :[0] output:[0.25897914 0.25897914]\n",
            "X : [0 1] Y :[0] output:[0.26894152 0.26894152]\n",
            "X : [0 0] Y :[1] output:[0.26894173 0.26894173]\n"
          ]
        }
      ]
    },
    {
      "cell_type": "markdown",
      "source": [
        "## OR GATE"
      ],
      "metadata": {
        "id": "bN0rlX_t8h9C"
      }
    },
    {
      "cell_type": "code",
      "source": [
        "x2 = np.array([[1,1],[1,0],[0,1],[0,0]])\n",
        "y2 = np.array([[1],[0],[0],[1]])\n",
        "W2 = tf.random.normal([2],0,1)\n",
        "b2 = tf.random.normal([2],0,1)\n",
        "b_x = 1\n",
        "\n",
        "for i in range(1000):\n",
        "  error_sum = 0\n",
        "  \n",
        "  for j in range(4):\n",
        "    output = sigmoid(np.sum(x2[j]*W2) + b_x +b2)\n",
        "    error = y2[j][0] - output\n",
        "    W2 = W2 + x2[j] * 0.1 * error\n",
        "    b2 = b2 + b_x * 0.1* error\n",
        "    error_sum += error\n",
        "\n",
        "  if i % 200 == 0:\n",
        "    print('Epoch {:4d}/tError Sum {}'.format(i, error_sum)) \n",
        "print('가중치 : {}'.format(W2))\n",
        "print('편향 : {}'.format(b2))"
      ],
      "metadata": {
        "colab": {
          "base_uri": "https://localhost:8080/"
        },
        "id": "tFrGynSU8Jbd",
        "outputId": "3dc8c10b-b884-47b2-f983-24f1269560cd"
      },
      "execution_count": 51,
      "outputs": [
        {
          "output_type": "stream",
          "name": "stdout",
          "text": [
            "Epoch    0/tError Sum [-1.1748734 -1.0629148]\n",
            "Epoch  200/tError Sum [0.00306439 0.00306439]\n",
            "Epoch  400/tError Sum [0.00012457 0.00012457]\n",
            "Epoch  600/tError Sum [4.827976e-06 4.827976e-06]\n",
            "Epoch  800/tError Sum [4.172325e-07 4.172325e-07]\n",
            "가중치 : [-5.1280484e-02  1.2516975e-06]\n",
            "편향 : [-1.0000018 -1.0000018]\n"
          ]
        }
      ]
    },
    {
      "cell_type": "code",
      "source": [
        "for i in range(4):\n",
        "  print('X : {} Y :{} output:{}'.format(x2[i], y2[i], sigmoid(np.sum(x2[i]*W2)+b2)))"
      ],
      "metadata": {
        "colab": {
          "base_uri": "https://localhost:8080/"
        },
        "id": "DrnqBWeA8zLj",
        "outputId": "4fa2f1a9-beb6-49c3-b5d5-731b7a0e5a84"
      },
      "execution_count": 52,
      "outputs": [
        {
          "output_type": "stream",
          "name": "stdout",
          "text": [
            "X : [1 1] Y :[1] output:[0.2589792 0.2589792]\n",
            "X : [1 0] Y :[0] output:[0.25897896 0.25897896]\n",
            "X : [0 1] Y :[0] output:[0.2689413 0.2689413]\n",
            "X : [0 0] Y :[1] output:[0.26894107 0.26894107]\n"
          ]
        }
      ]
    },
    {
      "cell_type": "markdown",
      "source": [
        "## XOR GATE"
      ],
      "metadata": {
        "id": "Mcd3PrWR9c-2"
      }
    },
    {
      "cell_type": "code",
      "source": [
        "x3 = np.array([[1,1],[1,0],[0,1],[0,0]])\n",
        "y3 = np.array([[0],[0],[0],[1]])\n",
        "W3 = tf.random.normal([2],0,1)\n",
        "b3 = tf.random.normal([2],0,1)\n",
        "b_x = 1\n",
        "\n",
        "for i in range(1000):\n",
        "  error_sum = 0\n",
        "  \n",
        "  for j in range(4):\n",
        "    output = sigmoid(np.sum(x3[j]*W3) + b_x +b3)\n",
        "    error = y3[j][0] - output\n",
        "    W3 = W3 + x3[j] * 0.1 * error\n",
        "    b3 = b3 + b_x * 0.1* error\n",
        "    error_sum += error\n",
        "\n",
        "  if i % 200 == 0:\n",
        "    print('Epoch {:4d}/tError Sum {}'.format(i, error_sum)) \n",
        "print('가중치 : {}'.format(W3))\n",
        "print('편향 : {}'.format(b3))"
      ],
      "metadata": {
        "colab": {
          "base_uri": "https://localhost:8080/"
        },
        "outputId": "d391d8f8-d9ee-4098-cd6d-e98831333974",
        "id": "kJdxzRQA9jsm"
      },
      "execution_count": 53,
      "outputs": [
        {
          "output_type": "stream",
          "name": "stdout",
          "text": [
            "Epoch    0/tError Sum [-2.4422479 -1.1448438]\n",
            "Epoch  200/tError Sum [0.0453787  0.04542613]\n",
            "Epoch  400/tError Sum [0.02467012 0.02467037]\n",
            "Epoch  600/tError Sum [0.01683421 0.01683421]\n",
            "Epoch  800/tError Sum [0.01273451 0.01273451]\n",
            "가중치 : [-6.8234167 -6.825189 ]\n",
            "편향 : [1.9388806 1.9388806]\n"
          ]
        }
      ]
    },
    {
      "cell_type": "code",
      "source": [
        "for i in range(4):\n",
        "  print('X : {} Y :{} output:{}'.format(x3[i], y3[i], sigmoid(np.sum(x3[i]*W3)+b3)))"
      ],
      "metadata": {
        "colab": {
          "base_uri": "https://localhost:8080/"
        },
        "outputId": "c526fcea-1e25-4493-92b1-702861eca019",
        "id": "P83hrop89jso"
      },
      "execution_count": 54,
      "outputs": [
        {
          "output_type": "stream",
          "name": "stdout",
          "text": [
            "X : [1 1] Y :[0] output:[8.21349e-06 8.21349e-06]\n",
            "X : [1 0] Y :[0] output:[0.00750587 0.00750587]\n",
            "X : [0 1] Y :[0] output:[0.00749267 0.00749267]\n",
            "X : [0 0] Y :[1] output:[0.87422913 0.87422913]\n"
          ]
        }
      ]
    },
    {
      "cell_type": "code",
      "source": [
        "from tensorflow.keras import Sequential\n",
        "from tensorflow.keras.layers import Dense\n",
        "\n",
        "np.random.seed(111)\n",
        "\n",
        "X4 = np.array([[1,1],[1,0],[0,1],[0,0]])\n",
        "Y4  = np.array([[0],[1],[1],[0]])\n",
        "\n",
        "model = Sequential([Dense(units = 2, activation = 'sigmoid', input_shape = (2,)),\n",
        "                    Dense(units = 1, activation = 'sigmoid')])\n",
        "model.compile(optimizer = tf.keras.optimizers.SGD(lr = 0.1), loss = 'mse')\n",
        "model.summary()"
      ],
      "metadata": {
        "colab": {
          "base_uri": "https://localhost:8080/"
        },
        "id": "QeOOyDV49zOE",
        "outputId": "a6770279-f7c3-412f-d891-cf85a8e460af"
      },
      "execution_count": 58,
      "outputs": [
        {
          "output_type": "stream",
          "name": "stdout",
          "text": [
            "Model: \"sequential_1\"\n",
            "_________________________________________________________________\n",
            " Layer (type)                Output Shape              Param #   \n",
            "=================================================================\n",
            " dense_4 (Dense)             (None, 2)                 6         \n",
            "                                                                 \n",
            " dense_5 (Dense)             (None, 1)                 3         \n",
            "                                                                 \n",
            "=================================================================\n",
            "Total params: 9\n",
            "Trainable params: 9\n",
            "Non-trainable params: 0\n",
            "_________________________________________________________________\n"
          ]
        },
        {
          "output_type": "stream",
          "name": "stderr",
          "text": [
            "/usr/local/lib/python3.7/dist-packages/keras/optimizer_v2/gradient_descent.py:102: UserWarning: The `lr` argument is deprecated, use `learning_rate` instead.\n",
            "  super(SGD, self).__init__(name, **kwargs)\n"
          ]
        }
      ]
    },
    {
      "cell_type": "code",
      "source": [
        "history = model.fit(X4, Y4, epochs = 3000, batch_size = 1, verbose = 0)"
      ],
      "metadata": {
        "id": "TqD0_g9b_GaF"
      },
      "execution_count": 61,
      "outputs": []
    },
    {
      "cell_type": "code",
      "source": [
        "model.predict(X4)"
      ],
      "metadata": {
        "colab": {
          "base_uri": "https://localhost:8080/"
        },
        "id": "Cn9eSDk9_x_t",
        "outputId": "e9a7dbee-c5cc-43e0-ab6f-ec4917949eea"
      },
      "execution_count": 62,
      "outputs": [
        {
          "output_type": "execute_result",
          "data": {
            "text/plain": [
              "array([[0.04347371],\n",
              "       [0.9524055 ],\n",
              "       [0.94546247],\n",
              "       [0.04968887]], dtype=float32)"
            ]
          },
          "metadata": {},
          "execution_count": 62
        }
      ]
    },
    {
      "cell_type": "markdown",
      "source": [
        "# 시각화 사용"
      ],
      "metadata": {
        "id": "YqXEZ-sGBd8r"
      }
    },
    {
      "cell_type": "code",
      "source": [
        "import matplotlib.pyplot as plt\n",
        "plt.style.use(['seaborn-white'])\n",
        "\n",
        "x = range(50)\n",
        "y = tf.random.normal([50], 0, 1)\n",
        "plt.plot(x, y, 'go')\n",
        "plt.show()"
      ],
      "metadata": {
        "colab": {
          "base_uri": "https://localhost:8080/",
          "height": 264
        },
        "id": "EmSTN9-MBEXg",
        "outputId": "bf672da9-85cc-42a9-e59e-8d586e1e04a1"
      },
      "execution_count": 66,
      "outputs": [
        {
          "output_type": "display_data",
          "data": {
            "image/png": "[encoded data removed]",
            "text/plain": [
              "<Figure size 432x288 with 1 Axes>"
            ]
          },
          "metadata": {}
        }
      ]
    },
    {
      "cell_type": "code",
      "source": [
        "x = range(50)\n",
        "y = tf.random.normal([50], 0, 1)\n",
        "plt.plot(x, y, 'b^')\n",
        "plt.show()"
      ],
      "metadata": {
        "colab": {
          "base_uri": "https://localhost:8080/",
          "height": 262
        },
        "id": "LJV-FL2iB7Bi",
        "outputId": "1d9cb06c-1c51-4560-fcec-89c6bb52e9c8"
      },
      "execution_count": 67,
      "outputs": [
        {
          "output_type": "display_data",
          "data": {
            "image/png": "[encoded data removed]",
            "text/plain": [
              "<Figure size 432x288 with 1 Axes>"
            ]
          },
          "metadata": {}
        }
      ]
    },
    {
      "cell_type": "code",
      "source": [
        "random_normal = tf.random.normal([10000], 0, 1)\n",
        "plt.hist(random_normal, bins = 1000)\n",
        "plt.show()"
      ],
      "metadata": {
        "colab": {
          "base_uri": "https://localhost:8080/",
          "height": 507
        },
        "id": "8l0rRaFECM57",
        "outputId": "0537b017-f872-4e89-eb23-8a54f51a8093"
      },
      "execution_count": 69,
      "outputs": [
        {
          "output_type": "display_data",
          "data": {
            "image/png": "[encoded data removed]",
            "text/plain": [
              "<Figure size 432x288 with 1 Axes>"
            ]
          },
          "metadata": {}
        },
        {
          "output_type": "display_data",
          "data": {
            "image/png": "[encoded data removed]",
            "text/plain": [
              "<Figure size 432x288 with 1 Axes>"
            ]
          },
          "metadata": {}
        }
      ]
    },
    {
      "cell_type": "markdown",
      "source": [
        "## XOR GATE의 시각화"
      ],
      "metadata": {
        "id": "MLjaZTTFCgAu"
      }
    },
    {
      "cell_type": "code",
      "source": [
        "plt.plot(history.history['loss'])"
      ],
      "metadata": {
        "colab": {
          "base_uri": "https://localhost:8080/",
          "height": 280
        },
        "id": "dH5a5JhBCVVW",
        "outputId": "7b23f02d-71ec-4eb8-b84e-e677bcd62a36"
      },
      "execution_count": 70,
      "outputs": [
        {
          "output_type": "execute_result",
          "data": {
            "text/plain": [
              "[<matplotlib.lines.Line2D at 0x7fc391b487d0>]"
            ]
          },
          "metadata": {},
          "execution_count": 70
        },
        {
          "output_type": "display_data",
          "data": {
            "image/png": "[encoded data removed]",
            "text/plain": [
              "<Figure size 432x288 with 1 Axes>"
            ]
          },
          "metadata": {}
        }
      ]
    },
    {
      "cell_type": "code",
      "source": [
        ""
      ],
      "metadata": {
        "id": "2y8Kk7IfCnIO"
      },
      "execution_count": null,
      "outputs": []
    }
  ]
}