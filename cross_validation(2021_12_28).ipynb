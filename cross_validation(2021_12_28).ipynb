{
  "nbformat": 4,
  "nbformat_minor": 0,
  "metadata": {
    "colab": {
      "name": "cross_validation(2021_12_28).ipynb",
      "provenance": [],
      "machine_shape": "hm"
    },
    "kernelspec": {
      "name": "python3",
      "display_name": "Python 3"
    },
    "language_info": {
      "name": "python"
    },
    "accelerator": "GPU"
  },
  "cells": [
    {
      "cell_type": "code",
      "execution_count": null,
      "metadata": {
        "id": "RknknbdPt9li"
      },
      "outputs": [],
      "source": [
        "import numpy as np\n",
        "import matplotlib.pyplot as plt\n",
        "\n",
        "import tensorflow as tf\n",
        "from tensorflow import keras\n",
        "from tensorflow.keras import optimizers\n",
        "from tensorflow.keras.layers import Dense, Flatten, Conv2D, MaxPooling2D, Input, Reshape\n",
        "\n",
        "import time"
      ]
    },
    {
      "cell_type": "code",
      "source": [
        "(raw_train_x, raw_train_y), (raw_test_x, raw_test_y) = tf.keras.datasets.mnist.load_data()\n",
        "\n",
        "raw_x = np.concatenate((raw_train_x, raw_test_x), axis=0)\n",
        "raw_y = np.concatenate((raw_train_y, raw_test_y), axis=0)\n",
        "\n",
        "x = raw_x/255.\n",
        "y = raw_y/255."
      ],
      "metadata": {
        "colab": {
          "base_uri": "https://localhost:8080/"
        },
        "id": "dR2P7I-9t_c6",
        "outputId": "0144e876-106b-4d0a-fd3d-cb6296c324d5"
      },
      "execution_count": null,
      "outputs": [
        {
          "output_type": "stream",
          "name": "stdout",
          "text": [
            "Downloading data from https://storage.googleapis.com/tensorflow/tf-keras-datasets/mnist.npz\n",
            "11493376/11490434 [==============================] - 0s 0us/step\n",
            "11501568/11490434 [==============================] - 0s 0us/step\n"
          ]
        }
      ]
    },
    {
      "cell_type": "code",
      "source": [
        "def build_model():  \n",
        "  model = keras.Sequential()\n",
        "  model.add(Input((28,28)))\n",
        "  model.add(Reshape((28,28,1))) # ADDED\n",
        "  model.add(Conv2D(32, (3, 3), padding='same')) # ADDED\n",
        "  model.add(MaxPooling2D((2, 2))) # ADDED\n",
        "  model.add(Conv2D(64, (3, 3), padding='same')) # ADDED\n",
        "  model.add(MaxPooling2D((2, 2))) # ADDED\n",
        "  model.add(Flatten())\n",
        "  model.add(Dense(10, activation='relu'))\n",
        "  model.add(Dense(10, activation='relu'))\n",
        "  model.add(Dense(10, activation='softmax'))\n",
        "\n",
        "  model.compile(optimizer=\"adam\", loss=\"sparse_categorical_crossentropy\", metrics=[\"accuracy\"])\n",
        "\n",
        "  return model"
      ],
      "metadata": {
        "id": "KmYj-hC0t_aU"
      },
      "execution_count": null,
      "outputs": []
    },
    {
      "cell_type": "code",
      "source": [
        "fold_count = 5"
      ],
      "metadata": {
        "id": "CaZS901Et_Xe"
      },
      "execution_count": null,
      "outputs": []
    },
    {
      "cell_type": "code",
      "source": [
        "from sklearn.model_selection import KFold\n",
        "\n",
        "kfold = KFold(n_splits=fold_count, shuffle=True)\n",
        "\n",
        "losses = []\n",
        "acces = []\n",
        "\n",
        "for train, test in kfold.split(x, y):\n",
        "\n",
        "  model = build_model()\n",
        "\n",
        "  history = model.fit(x[train], y[train], batch_size=32, epochs=2, validation_split=0.2)\n",
        "\n",
        "  loss, acc = model.evaluate(x[test], y[test])\n",
        "  print(\"loss =\", loss)\n",
        "  print(\"acc =\", acc)\n",
        "  losses.append(loss)\n",
        "  acces.append(acc)\n"
      ],
      "metadata": {
        "colab": {
          "base_uri": "https://localhost:8080/"
        },
        "id": "pz9OpPjet_TC",
        "outputId": "31222107-d395-48fe-d7e1-9201492cacac"
      },
      "execution_count": null,
      "outputs": [
        {
          "output_type": "stream",
          "name": "stdout",
          "text": [
            "Epoch 1/2\n",
            "1400/1400 [==============================] - 15s 4ms/step - loss: 1.2963 - accuracy: 0.0987 - val_loss: 0.5848 - val_accuracy: 0.0965\n",
            "Epoch 2/2\n",
            "1400/1400 [==============================] - 6s 4ms/step - loss: 0.3218 - accuracy: 0.0991 - val_loss: 0.1651 - val_accuracy: 0.0965\n",
            "438/438 [==============================] - 2s 3ms/step - loss: 0.1651 - accuracy: 0.0986\n",
            "loss = 0.16513758897781372\n",
            "acc = 0.09864285588264465\n",
            "Epoch 1/2\n",
            "1400/1400 [==============================] - 6s 4ms/step - loss: 0.0078 - accuracy: 0.0994 - val_loss: 2.9352e-07 - val_accuracy: 0.0971\n",
            "Epoch 2/2\n",
            "1400/1400 [==============================] - 6s 4ms/step - loss: 1.4424e-07 - accuracy: 0.0994 - val_loss: 6.9780e-08 - val_accuracy: 0.0971\n",
            "438/438 [==============================] - 2s 3ms/step - loss: 7.9214e-08 - accuracy: 0.0973\n",
            "loss = 7.921396871779507e-08\n",
            "acc = 0.09728571772575378\n",
            "Epoch 1/2\n",
            "1400/1400 [==============================] - 6s 4ms/step - loss: 0.5584 - accuracy: 0.0980 - val_loss: 0.0255 - val_accuracy: 0.0971\n",
            "Epoch 2/2\n",
            "1400/1400 [==============================] - 6s 4ms/step - loss: 0.0110 - accuracy: 0.0983 - val_loss: 0.0045 - val_accuracy: 0.0971\n",
            "438/438 [==============================] - 2s 3ms/step - loss: 0.0045 - accuracy: 0.1008\n",
            "loss = 0.004471421707421541\n",
            "acc = 0.10078571736812592\n",
            "Epoch 1/2\n",
            "1400/1400 [==============================] - 6s 4ms/step - loss: 0.0096 - accuracy: 0.0978 - val_loss: 3.4089e-07 - val_accuracy: 0.1008\n",
            "Epoch 2/2\n",
            "1400/1400 [==============================] - 6s 4ms/step - loss: 2.8201e-07 - accuracy: 0.0978 - val_loss: 2.6490e-07 - val_accuracy: 0.1008\n",
            "438/438 [==============================] - 2s 4ms/step - loss: 2.4840e-07 - accuracy: 0.0994\n",
            "loss = 2.483961907273624e-07\n",
            "acc = 0.09942857176065445\n",
            "Epoch 1/2\n",
            "1400/1400 [==============================] - 6s 4ms/step - loss: 0.0183 - accuracy: 0.0983 - val_loss: 5.5485e-06 - val_accuracy: 0.0996\n",
            "Epoch 2/2\n",
            "1400/1400 [==============================] - 6s 4ms/step - loss: 3.0138e-06 - accuracy: 0.0989 - val_loss: 1.4710e-06 - val_accuracy: 0.0996\n",
            "438/438 [==============================] - 2s 3ms/step - loss: 1.3844e-06 - accuracy: 0.0969\n",
            "loss = 1.3843750821251888e-06\n",
            "acc = 0.09692857414484024\n"
          ]
        }
      ]
    },
    {
      "cell_type": "code",
      "source": [
        "average_acc = sum(acc) / fold_count\n",
        "print(\"average acc=\", average_acc)"
      ],
      "metadata": {
        "colab": {
          "base_uri": "https://localhost:8080/",
          "height": 193
        },
        "id": "hgj_zVuit_QN",
        "outputId": "c507b955-8753-4f0a-accb-eacacedf4c48"
      },
      "execution_count": null,
      "outputs": [
        {
          "output_type": "error",
          "ename": "TypeError",
          "evalue": "ignored",
          "traceback": [
            "\u001b[0;31m---------------------------------------------------------------------------\u001b[0m",
            "\u001b[0;31mTypeError\u001b[0m                                 Traceback (most recent call last)",
            "\u001b[0;32m<ipython-input-17-6802d90b73c0>\u001b[0m in \u001b[0;36m<module>\u001b[0;34m()\u001b[0m\n\u001b[0;32m----> 1\u001b[0;31m \u001b[0maverage_acc\u001b[0m \u001b[0;34m=\u001b[0m \u001b[0msum\u001b[0m\u001b[0;34m(\u001b[0m\u001b[0macc\u001b[0m\u001b[0;34m)\u001b[0m \u001b[0;34m/\u001b[0m \u001b[0mfold_count\u001b[0m\u001b[0;34m\u001b[0m\u001b[0;34m\u001b[0m\u001b[0m\n\u001b[0m\u001b[1;32m      2\u001b[0m \u001b[0mprint\u001b[0m\u001b[0;34m(\u001b[0m\u001b[0;34m\"average acc=\"\u001b[0m\u001b[0;34m,\u001b[0m \u001b[0maverage_acc\u001b[0m\u001b[0;34m)\u001b[0m\u001b[0;34m\u001b[0m\u001b[0;34m\u001b[0m\u001b[0m\n",
            "\u001b[0;31mTypeError\u001b[0m: 'float' object is not iterable"
          ]
        }
      ]
    },
    {
      "cell_type": "markdown",
      "source": [
        "# mnist와 cross_validation"
      ],
      "metadata": {
        "id": "TS9riEXvudvc"
      }
    },
    {
      "cell_type": "code",
      "source": [
        "import numpy as np\n",
        "import matplotlib.pyplot as plt\n",
        "\n",
        "import tensorflow as tf\n",
        "from tensorflow import keras\n",
        "from tensorflow.keras import optimizers\n",
        "from tensorflow.keras.layers import Dense, Flatten, Conv2D, MaxPooling2D, Input, Reshape\n",
        "\n",
        "import time"
      ],
      "metadata": {
        "id": "1p4RKlVSuhag"
      },
      "execution_count": null,
      "outputs": []
    },
    {
      "cell_type": "code",
      "source": [
        "(raw_train_x, raw_train_y), (raw_test_x, raw_test_y) = tf.keras.datasets.mnist.load_data()\n",
        "\n",
        "raw_x = np.concatenate((raw_train_x, raw_test_x), axis=0)\n",
        "raw_y = np.concatenate((raw_train_y, raw_test_y), axis=0)\n",
        "\n",
        "x = raw_x/255.\n",
        "y = raw_y/255."
      ],
      "metadata": {
        "id": "tVtg4hQXvVdP"
      },
      "execution_count": null,
      "outputs": []
    },
    {
      "cell_type": "code",
      "source": [
        "x = x[:100]\n",
        "y = y[:100]"
      ],
      "metadata": {
        "id": "eCoL-Ikyymii"
      },
      "execution_count": null,
      "outputs": []
    },
    {
      "cell_type": "code",
      "source": [
        "def build_model():  \n",
        "  model = keras.Sequential()\n",
        "  model.add(Input((28,28)))\n",
        "  model.add(Reshape((28,28,1))) # ADDED\n",
        "  model.add(Conv2D(32, (3, 3), padding='same')) # ADDED\n",
        "  model.add(MaxPooling2D((2, 2))) # ADDED\n",
        "  model.add(Conv2D(64, (3, 3), padding='same')) # ADDED\n",
        "  model.add(MaxPooling2D((2, 2))) # ADDED\n",
        "  model.add(Flatten())\n",
        "  model.add(Dense(10, activation='relu'))\n",
        "  model.add(Dense(10, activation='relu'))\n",
        "  model.add(Dense(10, activation='softmax'))\n",
        "\n",
        "  model.compile(optimizer=\"adam\", loss=\"sparse_categorical_crossentropy\", metrics=[\"accuracy\"])\n",
        "\n",
        "  return model"
      ],
      "metadata": {
        "id": "6oMHk8v6vYKx"
      },
      "execution_count": null,
      "outputs": []
    },
    {
      "cell_type": "code",
      "source": [
        "fold_count = 5"
      ],
      "metadata": {
        "id": "2Bad9LyevfDJ"
      },
      "execution_count": null,
      "outputs": []
    },
    {
      "cell_type": "code",
      "source": [
        "from sklearn.model_selection import KFold\n",
        "\n",
        "kfold = KFold(n_splits=fold_count, shuffle=True)\n",
        "\n",
        "losses = []\n",
        "acces = []\n",
        "\n",
        "for train, test in kfold.split(x, y):\n",
        "\n",
        "  model = build_model()\n",
        "\n",
        "  history = model.fit(x[train], y[train], batch_size=32, epochs=2, validation_split=0.2)\n",
        "\n",
        "  loss, acc = model.evaluate(x[test], y[test])\n",
        "  print(\"loss =\", loss)\n",
        "  print(\"acc =\", acc)\n",
        "  losses.append(loss)\n",
        "  acces.append(acc)"
      ],
      "metadata": {
        "colab": {
          "base_uri": "https://localhost:8080/"
        },
        "id": "09-4O8hZvpk9",
        "outputId": "36570638-0a16-4498-b4ac-d7bcb3708762"
      },
      "execution_count": null,
      "outputs": [
        {
          "output_type": "stream",
          "name": "stdout",
          "text": [
            "Epoch 1/2\n",
            "2/2 [==============================] - 1s 281ms/step - loss: 2.1764 - accuracy: 0.0469 - val_loss: 1.8815 - val_accuracy: 0.0625\n",
            "Epoch 2/2\n",
            "2/2 [==============================] - 0s 58ms/step - loss: 1.7667 - accuracy: 0.0938 - val_loss: 1.3988 - val_accuracy: 0.0625\n",
            "1/1 [==============================] - 0s 32ms/step - loss: 1.2906 - accuracy: 0.3000\n",
            "loss = 1.2905699014663696\n",
            "acc = 0.30000001192092896\n",
            "Epoch 1/2\n",
            "2/2 [==============================] - 1s 198ms/step - loss: 2.2980 - accuracy: 0.0625 - val_loss: 2.1992 - val_accuracy: 0.1875\n",
            "Epoch 2/2\n",
            "2/2 [==============================] - 0s 29ms/step - loss: 2.1650 - accuracy: 0.1406 - val_loss: 2.0423 - val_accuracy: 0.1875\n",
            "1/1 [==============================] - 0s 22ms/step - loss: 2.0578 - accuracy: 0.0500\n",
            "loss = 2.0578150749206543\n",
            "acc = 0.05000000074505806\n",
            "Epoch 1/2\n",
            "2/2 [==============================] - 1s 195ms/step - loss: 2.3299 - accuracy: 0.0000e+00 - val_loss: 2.2880 - val_accuracy: 0.0000e+00\n",
            "Epoch 2/2\n",
            "2/2 [==============================] - 0s 27ms/step - loss: 2.2836 - accuracy: 0.0000e+00 - val_loss: 2.2571 - val_accuracy: 0.0000e+00\n",
            "1/1 [==============================] - 0s 21ms/step - loss: 2.2524 - accuracy: 0.0000e+00\n",
            "loss = 2.252357244491577\n",
            "acc = 0.0\n",
            "Epoch 1/2\n",
            "1/2 [==============>...............] - ETA: 0s - loss: 2.2894 - accuracy: 0.0000e+00WARNING:tensorflow:5 out of the last 14 calls to <function Model.make_test_function.<locals>.test_function at 0x7ff7220e3200> triggered tf.function retracing. Tracing is expensive and the excessive number of tracings could be due to (1) creating @tf.function repeatedly in a loop, (2) passing tensors with different shapes, (3) passing Python objects instead of tensors. For (1), please define your @tf.function outside of the loop. For (2), @tf.function has experimental_relax_shapes=True option that relaxes argument shapes that can avoid unnecessary retracing. For (3), please refer to https://www.tensorflow.org/guide/function#controlling_retracing and https://www.tensorflow.org/api_docs/python/tf/function for  more details.\n",
            "2/2 [==============================] - 1s 206ms/step - loss: 2.2365 - accuracy: 0.0156 - val_loss: 2.0565 - val_accuracy: 0.1250\n",
            "Epoch 2/2\n",
            "2/2 [==============================] - 0s 27ms/step - loss: 1.9926 - accuracy: 0.1250 - val_loss: 1.7331 - val_accuracy: 0.1250\n",
            "1/1 [==============================] - 0s 22ms/step - loss: 1.7606 - accuracy: 0.1500\n",
            "loss = 1.760645866394043\n",
            "acc = 0.15000000596046448\n",
            "Epoch 1/2\n",
            "1/2 [==============>...............] - ETA: 0s - loss: 2.2997 - accuracy: 0.0000e+00WARNING:tensorflow:5 out of the last 13 calls to <function Model.make_test_function.<locals>.test_function at 0x7ff7223635f0> triggered tf.function retracing. Tracing is expensive and the excessive number of tracings could be due to (1) creating @tf.function repeatedly in a loop, (2) passing tensors with different shapes, (3) passing Python objects instead of tensors. For (1), please define your @tf.function outside of the loop. For (2), @tf.function has experimental_relax_shapes=True option that relaxes argument shapes that can avoid unnecessary retracing. For (3), please refer to https://www.tensorflow.org/guide/function#controlling_retracing and https://www.tensorflow.org/api_docs/python/tf/function for  more details.\n",
            "2/2 [==============================] - 1s 202ms/step - loss: 2.2509 - accuracy: 0.0781 - val_loss: 2.0741 - val_accuracy: 0.1875\n",
            "Epoch 2/2\n",
            "2/2 [==============================] - 0s 29ms/step - loss: 2.0245 - accuracy: 0.1094 - val_loss: 1.7760 - val_accuracy: 0.1875\n",
            "1/1 [==============================] - 0s 22ms/step - loss: 1.8348 - accuracy: 0.1500\n",
            "loss = 1.834808349609375\n",
            "acc = 0.15000000596046448\n"
          ]
        }
      ]
    },
    {
      "cell_type": "code",
      "source": [
        "average_acc = sum(acces) / fold_count\n",
        "print(\"average acc=\", average_acc)"
      ],
      "metadata": {
        "colab": {
          "base_uri": "https://localhost:8080/"
        },
        "id": "af-evJdLwJEj",
        "outputId": "165f872f-6984-4cca-a303-b3690ce8aeab"
      },
      "execution_count": null,
      "outputs": [
        {
          "output_type": "stream",
          "name": "stdout",
          "text": [
            "average acc= 0.1300000049173832\n"
          ]
        }
      ]
    },
    {
      "cell_type": "code",
      "source": [
        ""
      ],
      "metadata": {
        "id": "lCFWmA0vwJhn"
      },
      "execution_count": null,
      "outputs": []
    }
  ]
}