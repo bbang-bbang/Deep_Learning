{
  "nbformat": 4,
  "nbformat_minor": 0,
  "metadata": {
    "colab": {
      "name": "자연어 처리(2022_01_18).ipynb",
      "provenance": [],
      "collapsed_sections": []
    },
    "kernelspec": {
      "name": "python3",
      "display_name": "Python 3"
    },
    "language_info": {
      "name": "python"
    }
  },
  "cells": [
    {
      "cell_type": "markdown",
      "source": [
        "# 텍스트 처리"
      ],
      "metadata": {
        "id": "n4kAkto5WBPd"
      }
    },
    {
      "cell_type": "code",
      "execution_count": null,
      "metadata": {
        "id": "CZ0E50QwV8v9"
      },
      "outputs": [],
      "source": [
        "s = 'No pain no gain'"
      ]
    },
    {
      "cell_type": "code",
      "source": [
        "'pain' in s "
      ],
      "metadata": {
        "colab": {
          "base_uri": "https://localhost:8080/"
        },
        "id": "892yBwMUWHNQ",
        "outputId": "b3fd57f6-a6ad-4163-fe96-54a2432758a7"
      },
      "execution_count": null,
      "outputs": [
        {
          "output_type": "execute_result",
          "data": {
            "text/plain": [
              "True"
            ]
          },
          "metadata": {},
          "execution_count": 2
        }
      ]
    },
    {
      "cell_type": "code",
      "source": [
        "s.split()"
      ],
      "metadata": {
        "colab": {
          "base_uri": "https://localhost:8080/"
        },
        "id": "-kULEIUrWJXx",
        "outputId": "1315942e-4daf-41ba-8ef1-2afcee7b7f7f"
      },
      "execution_count": null,
      "outputs": [
        {
          "output_type": "execute_result",
          "data": {
            "text/plain": [
              "['No', 'pain', 'no', 'gain']"
            ]
          },
          "metadata": {},
          "execution_count": 3
        }
      ]
    },
    {
      "cell_type": "code",
      "source": [
        "s.split().index('gain')"
      ],
      "metadata": {
        "colab": {
          "base_uri": "https://localhost:8080/"
        },
        "id": "8PVQhPhUWLOq",
        "outputId": "d71ab3b8-e919-48bf-90da-584f7996ea8f"
      },
      "execution_count": null,
      "outputs": [
        {
          "output_type": "execute_result",
          "data": {
            "text/plain": [
              "3"
            ]
          },
          "metadata": {},
          "execution_count": 4
        }
      ]
    },
    {
      "cell_type": "code",
      "source": [
        "s[-4::]"
      ],
      "metadata": {
        "colab": {
          "base_uri": "https://localhost:8080/",
          "height": 35
        },
        "id": "aD08fGIEWSXC",
        "outputId": "ea90770f-3450-4a69-8456-42ab840454df"
      },
      "execution_count": null,
      "outputs": [
        {
          "output_type": "execute_result",
          "data": {
            "application/vnd.google.colaboratory.intrinsic+json": {
              "type": "string"
            },
            "text/plain": [
              "'gain'"
            ]
          },
          "metadata": {},
          "execution_count": 7
        }
      ]
    },
    {
      "cell_type": "code",
      "source": [
        "s.split()[1]"
      ],
      "metadata": {
        "colab": {
          "base_uri": "https://localhost:8080/",
          "height": 35
        },
        "id": "DeS9k73BWtDA",
        "outputId": "cba3a491-b82e-4313-ada9-e47416266fc8"
      },
      "execution_count": null,
      "outputs": [
        {
          "output_type": "execute_result",
          "data": {
            "application/vnd.google.colaboratory.intrinsic+json": {
              "type": "string"
            },
            "text/plain": [
              "'pain'"
            ]
          },
          "metadata": {},
          "execution_count": 8
        }
      ]
    },
    {
      "cell_type": "code",
      "source": [
        "s.split()[1][::-1]"
      ],
      "metadata": {
        "colab": {
          "base_uri": "https://localhost:8080/",
          "height": 35
        },
        "id": "BKncDR6FW1gj",
        "outputId": "5324b04c-e29d-4035-e03d-c7d2cfa8d30e"
      },
      "execution_count": null,
      "outputs": [
        {
          "output_type": "execute_result",
          "data": {
            "application/vnd.google.colaboratory.intrinsic+json": {
              "type": "string"
            },
            "text/plain": [
              "'niap'"
            ]
          },
          "metadata": {},
          "execution_count": 10
        }
      ]
    },
    {
      "cell_type": "code",
      "source": [
        "s.split()[2][::-1]"
      ],
      "metadata": {
        "colab": {
          "base_uri": "https://localhost:8080/",
          "height": 35
        },
        "id": "h7xVFOSjW4z1",
        "outputId": "3a122a89-d6e2-4208-f192-90aab19d0b31"
      },
      "execution_count": null,
      "outputs": [
        {
          "output_type": "execute_result",
          "data": {
            "application/vnd.google.colaboratory.intrinsic+json": {
              "type": "string"
            },
            "text/plain": [
              "'on'"
            ]
          },
          "metadata": {},
          "execution_count": 12
        }
      ]
    },
    {
      "cell_type": "code",
      "source": [
        "s = '한글도 처리 가능'"
      ],
      "metadata": {
        "id": "d7JAjK84W-YC"
      },
      "execution_count": null,
      "outputs": []
    },
    {
      "cell_type": "code",
      "source": [
        "'처리' in s"
      ],
      "metadata": {
        "colab": {
          "base_uri": "https://localhost:8080/"
        },
        "id": "35L3ruFwX8sP",
        "outputId": "fdf092d4-8235-4ee8-b340-88a1275986d1"
      },
      "execution_count": null,
      "outputs": [
        {
          "output_type": "execute_result",
          "data": {
            "text/plain": [
              "True"
            ]
          },
          "metadata": {},
          "execution_count": 14
        }
      ]
    },
    {
      "cell_type": "code",
      "source": [
        "s.split()"
      ],
      "metadata": {
        "colab": {
          "base_uri": "https://localhost:8080/"
        },
        "id": "vcOpYZMEX8nx",
        "outputId": "5ed29a86-eda2-4009-f860-bb0d3f6c0757"
      },
      "execution_count": null,
      "outputs": [
        {
          "output_type": "execute_result",
          "data": {
            "text/plain": [
              "['한글도', '처리', '가능']"
            ]
          },
          "metadata": {},
          "execution_count": 15
        }
      ]
    },
    {
      "cell_type": "code",
      "source": [
        "s.split()[0]"
      ],
      "metadata": {
        "colab": {
          "base_uri": "https://localhost:8080/",
          "height": 35
        },
        "id": "1wkxZ7ogYA2P",
        "outputId": "3d3a4559-2d24-4e2f-ef4a-3de963427c53"
      },
      "execution_count": null,
      "outputs": [
        {
          "output_type": "execute_result",
          "data": {
            "application/vnd.google.colaboratory.intrinsic+json": {
              "type": "string"
            },
            "text/plain": [
              "'한글도'"
            ]
          },
          "metadata": {},
          "execution_count": 16
        }
      ]
    },
    {
      "cell_type": "markdown",
      "source": [
        "# 영어 처리\n",
        "* 대소문자를 통합하지 않으면, 같은 단어를 다르게 이해\n",
        "* upper()와 lower()를 사용"
      ],
      "metadata": {
        "id": "TJGZGkqpX4gC"
      }
    },
    {
      "cell_type": "code",
      "source": [
        "s = 'AbCdeFgH'\n",
        "str_lower = s.lower()\n",
        "str_upper = s.upper()\n",
        "print(str_lower, str_upper)"
      ],
      "metadata": {
        "colab": {
          "base_uri": "https://localhost:8080/"
        },
        "id": "YkiSwJDKX5oz",
        "outputId": "096361d9-fce5-442f-bfa8-5930da0e2795"
      },
      "execution_count": null,
      "outputs": [
        {
          "output_type": "stream",
          "name": "stdout",
          "text": [
            "abcdefgh ABCDEFGH\n"
          ]
        }
      ]
    },
    {
      "cell_type": "markdown",
      "source": [
        "## 정규화"
      ],
      "metadata": {
        "id": "dyt2mWaEZkiP"
      }
    },
    {
      "cell_type": "code",
      "source": [
        "s = 'I visited UK from US on 22-09-20'\n",
        "print(s)"
      ],
      "metadata": {
        "colab": {
          "base_uri": "https://localhost:8080/"
        },
        "id": "jdOFHi0mZcTa",
        "outputId": "0a933df6-5f33-4a97-a659-2de7fe4eb919"
      },
      "execution_count": null,
      "outputs": [
        {
          "output_type": "stream",
          "name": "stdout",
          "text": [
            "I visited UK from US on 22-09-20\n"
          ]
        }
      ]
    },
    {
      "cell_type": "code",
      "source": [
        "new_s = s.replace(\"UK\", \"United Kingdom\").replace(\"US\", \"United states\").replace('-20', '-2020')\n",
        "print(new_s)"
      ],
      "metadata": {
        "colab": {
          "base_uri": "https://localhost:8080/"
        },
        "id": "_rFXKikcZteU",
        "outputId": "2baa406e-e36e-4637-ce5e-eed7a8e73de9"
      },
      "execution_count": null,
      "outputs": [
        {
          "output_type": "stream",
          "name": "stdout",
          "text": [
            "I visited United Kingdom from United states on 22-09-2020\n"
          ]
        }
      ]
    },
    {
      "cell_type": "markdown",
      "source": [
        "## 정규표현식\n",
        "* 문자들을 편리하게 지정, 추가, 삭제 가능"
      ],
      "metadata": {
        "id": "zv7EF5KUaKGH"
      }
    },
    {
      "cell_type": "markdown",
      "source": [
        "## match"
      ],
      "metadata": {
        "id": "ffGCbBdAdc8a"
      }
    },
    {
      "cell_type": "code",
      "source": [
        "import re\n",
        "check = 'ab.'\n",
        "print(re.match(check, 'abc'))\n",
        "print(re.match(check, 'b'))\n",
        "print(re.match(check, 'ab'))"
      ],
      "metadata": {
        "colab": {
          "base_uri": "https://localhost:8080/"
        },
        "id": "EHBaNSoDZ-Un",
        "outputId": "c47d544c-0cfb-453b-d0cd-654f89ed7375"
      },
      "execution_count": null,
      "outputs": [
        {
          "output_type": "stream",
          "name": "stdout",
          "text": [
            "<re.Match object; span=(0, 3), match='abc'>\n",
            "None\n",
            "None\n"
          ]
        }
      ]
    },
    {
      "cell_type": "markdown",
      "source": [
        "## compile"
      ],
      "metadata": {
        "id": "yVffBwOzewaW"
      }
    },
    {
      "cell_type": "code",
      "source": [
        "import time\n",
        "normal_s_time = time.time()\n",
        "r = 'ab'\n",
        "for i in range(1000):\n",
        "  re.match(check, 'abc')\n",
        "print('일반 사용 소모 시간: ', time.time() - normal_s_time)\n",
        "\n",
        "compile_s_time = time.time()\n",
        "r = re.compile('ab.')\n",
        "for i in range(1000):\n",
        "  r.match(check)\n",
        "print('컴파일 사용시 소모 시간 : ', time.time() -compile_s_time)"
      ],
      "metadata": {
        "colab": {
          "base_uri": "https://localhost:8080/"
        },
        "id": "CasUqk6jdvYg",
        "outputId": "4e2eddb0-d88d-455f-be8a-ae5dc3e0e5bc"
      },
      "execution_count": null,
      "outputs": [
        {
          "output_type": "stream",
          "name": "stdout",
          "text": [
            "일반 사용 소모 시간:  0.0018124580383300781\n",
            "컴파일 사용시 소모 시간 :  0.0006003379821777344\n"
          ]
        }
      ]
    },
    {
      "cell_type": "markdown",
      "source": [
        "## search\n",
        "* match와는 다르게 문자열의 전체를 검사"
      ],
      "metadata": {
        "id": "HwaelYyKfptu"
      }
    },
    {
      "cell_type": "code",
      "source": [
        "check = 'ab?'\n",
        "\n",
        "print(re.search('a', check))\n",
        "print(re.match('kkkab', check))\n",
        "print(re.search('kkkab', check))\n",
        "print(re.match('ab', check))"
      ],
      "metadata": {
        "colab": {
          "base_uri": "https://localhost:8080/"
        },
        "id": "pJSfnbIxfbuC",
        "outputId": "47ac864a-af51-47b1-f36f-a5419cc23c29"
      },
      "execution_count": null,
      "outputs": [
        {
          "output_type": "stream",
          "name": "stdout",
          "text": [
            "<re.Match object; span=(0, 1), match='a'>\n",
            "None\n",
            "None\n",
            "<re.Match object; span=(0, 2), match='ab'>\n"
          ]
        }
      ]
    },
    {
      "cell_type": "markdown",
      "source": [
        "## split\n",
        "* 정규 표현식에 해당하는 문자열을 기준으로 문자열을 나눔"
      ],
      "metadata": {
        "id": "xk495KlNg3pr"
      }
    },
    {
      "cell_type": "code",
      "source": [
        "r = re.compile(' ')\n",
        "print(r.split('I am a car'))"
      ],
      "metadata": {
        "colab": {
          "base_uri": "https://localhost:8080/"
        },
        "id": "M1ewm_Bkg2AI",
        "outputId": "37481fce-603a-4f45-e601-e87d609f3e46"
      },
      "execution_count": null,
      "outputs": [
        {
          "output_type": "stream",
          "name": "stdout",
          "text": [
            "['I', 'am', 'a', 'car']\n"
          ]
        }
      ]
    },
    {
      "cell_type": "code",
      "source": [
        "r = re.compile('[1-9]')\n",
        "print(r.split('slavr 2v4s 4sss 54f'))"
      ],
      "metadata": {
        "colab": {
          "base_uri": "https://localhost:8080/"
        },
        "id": "5fQ9qo2zf4rS",
        "outputId": "089dee73-5bdc-44db-8c90-ed01f4e4cb9e"
      },
      "execution_count": null,
      "outputs": [
        {
          "output_type": "stream",
          "name": "stdout",
          "text": [
            "['slavr ', 'v', 's ', 'sss ', '', 'f']\n"
          ]
        }
      ]
    },
    {
      "cell_type": "markdown",
      "source": [
        "## findall\n",
        "* 컴파일한 정규 표현식을 이욯해 정규 표현식과 맞는 모든 문자열을 리스트화"
      ],
      "metadata": {
        "id": "ORCzEPBricIk"
      }
    },
    {
      "cell_type": "code",
      "source": [
        "print(re.findall('[\\d]', '1ab 2cd 3ef 4g'))"
      ],
      "metadata": {
        "colab": {
          "base_uri": "https://localhost:8080/"
        },
        "id": "GxZg6qwdgwno",
        "outputId": "4cdfbb21-111b-40f7-9363-5250ea6db18d"
      },
      "execution_count": null,
      "outputs": [
        {
          "output_type": "stream",
          "name": "stdout",
          "text": [
            "['1', '2', '3', '4']\n"
          ]
        }
      ]
    },
    {
      "cell_type": "markdown",
      "source": [
        "## 토큰화"
      ],
      "metadata": {
        "id": "8Ebm5EEni-1T"
      }
    },
    {
      "cell_type": "markdown",
      "source": [
        "### 단어 토큰화\n",
        "* 파이썬 내장 함수인 split 사용"
      ],
      "metadata": {
        "id": "beatoVa0jIzB"
      }
    },
    {
      "cell_type": "code",
      "source": [
        "import nltk\n",
        "nltk.download('punkt')"
      ],
      "metadata": {
        "colab": {
          "base_uri": "https://localhost:8080/"
        },
        "id": "zTleGUtniv33",
        "outputId": "77f40721-51d6-4ca7-b1b8-8e3bff5c4b83"
      },
      "execution_count": null,
      "outputs": [
        {
          "output_type": "stream",
          "name": "stdout",
          "text": [
            "[nltk_data] Downloading package punkt to /root/nltk_data...\n",
            "[nltk_data]   Unzipping tokenizers/punkt.zip.\n"
          ]
        },
        {
          "output_type": "execute_result",
          "data": {
            "text/plain": [
              "True"
            ]
          },
          "metadata": {},
          "execution_count": 42
        }
      ]
    },
    {
      "cell_type": "code",
      "source": [
        "from nltk.tokenize import word_tokenize\n",
        "\n",
        "sentence = 'Time is Gold'\n",
        "tokens = word_tokenize(sentence)\n",
        "tokens"
      ],
      "metadata": {
        "colab": {
          "base_uri": "https://localhost:8080/"
        },
        "id": "MGz5qB36kAF7",
        "outputId": "35982558-b3fa-496f-bc3d-382ed9341600"
      },
      "execution_count": null,
      "outputs": [
        {
          "output_type": "execute_result",
          "data": {
            "text/plain": [
              "['Time', 'is', 'Gold']"
            ]
          },
          "metadata": {},
          "execution_count": 44
        }
      ]
    },
    {
      "cell_type": "markdown",
      "source": [
        "### 문장 토큰화"
      ],
      "metadata": {
        "id": "dN-8kgqQkS0G"
      }
    },
    {
      "cell_type": "code",
      "source": [
        "sentences = 'The world is a beautiful book.\\n But of little use to him who cannot read it'\n",
        "print(sentences)\n",
        "\n",
        "token = [x for x in sentences.split('\\n')]\n",
        "print(token)"
      ],
      "metadata": {
        "colab": {
          "base_uri": "https://localhost:8080/"
        },
        "id": "dnqyeJifkJrz",
        "outputId": "fe13f0f3-e55e-4f35-f441-e3599d363242"
      },
      "execution_count": null,
      "outputs": [
        {
          "output_type": "stream",
          "name": "stdout",
          "text": [
            "The world is a beautiful book.\n",
            " But of little use to him who cannot read it\n",
            "['The world is a beautiful book.', ' But of little use to him who cannot read it']\n"
          ]
        }
      ]
    },
    {
      "cell_type": "code",
      "source": [
        "# /n 이 아닌 sent_tokenize를 사용\n",
        "from nltk.tokenize import sent_tokenize\n",
        "\n",
        "tokens = sent_tokenize(sentences)\n",
        "tokens"
      ],
      "metadata": {
        "colab": {
          "base_uri": "https://localhost:8080/"
        },
        "id": "rMoolrKrkxWC",
        "outputId": "0acc0f9a-754c-4b0b-f858-d68ca74b1f86"
      },
      "execution_count": null,
      "outputs": [
        {
          "output_type": "execute_result",
          "data": {
            "text/plain": [
              "['The world is a beautiful book.',\n",
              " 'But of little use to him who cannot read it']"
            ]
          },
          "metadata": {},
          "execution_count": 48
        }
      ]
    },
    {
      "cell_type": "markdown",
      "source": [
        "### 정규 표현식을 활용한 토큰화"
      ],
      "metadata": {
        "id": "-C5H-qRtmERi"
      }
    },
    {
      "cell_type": "code",
      "source": [
        "from nltk.tokenize import RegexpTokenizer\n",
        "\n",
        "sentences = 'Where where \\'s a will, there\\'s a way'\n",
        "tokenizer = RegexpTokenizer('[\\w]+')\n",
        "tokens = tokenizer.tokenize(sentences)\n",
        "tokens"
      ],
      "metadata": {
        "colab": {
          "base_uri": "https://localhost:8080/"
        },
        "id": "oH4xGLwulDoz",
        "outputId": "d93eb0ed-e3e2-4a55-ee17-53e5a2261ad1"
      },
      "execution_count": null,
      "outputs": [
        {
          "output_type": "execute_result",
          "data": {
            "text/plain": [
              "['Where', 'where', 's', 'a', 'will', 'there', 's', 'a', 'way']"
            ]
          },
          "metadata": {},
          "execution_count": 53
        }
      ]
    },
    {
      "cell_type": "code",
      "source": [
        "tokenizer = RegexpTokenizer('[\\s]+', gaps = True)\n",
        "tokens = tokenizer.tokenize(sentences)\n",
        "tokens"
      ],
      "metadata": {
        "colab": {
          "base_uri": "https://localhost:8080/"
        },
        "id": "B4dBfmPnmdIJ",
        "outputId": "3c61ebc3-92d0-41dc-8055-174b68602f70"
      },
      "execution_count": null,
      "outputs": [
        {
          "output_type": "execute_result",
          "data": {
            "text/plain": [
              "['Where', 'where', \"'s\", 'a', 'will,', \"there's\", 'a', 'way']"
            ]
          },
          "metadata": {},
          "execution_count": 54
        }
      ]
    },
    {
      "cell_type": "markdown",
      "source": [
        "### 케라스를 사용한 토큰화"
      ],
      "metadata": {
        "id": "Icic-xA0o8ew"
      }
    },
    {
      "cell_type": "code",
      "source": [
        "from keras.preprocessing.text import text_to_word_sequence\n",
        "sentence = 'Where there \\'s a will, there \\'s a way'\n",
        "text_to_word_sequence(sentence)"
      ],
      "metadata": {
        "colab": {
          "base_uri": "https://localhost:8080/"
        },
        "id": "LoDUDNudo7Lc",
        "outputId": "d1516ef7-787b-441d-d69e-e43cbe789345"
      },
      "execution_count": null,
      "outputs": [
        {
          "output_type": "execute_result",
          "data": {
            "text/plain": [
              "['where', 'there', \"'s\", 'a', 'will', 'there', \"'s\", 'a', 'way']"
            ]
          },
          "metadata": {},
          "execution_count": 55
        }
      ]
    },
    {
      "cell_type": "markdown",
      "source": [
        "### textblob 을 사용한 토큰화"
      ],
      "metadata": {
        "id": "_QMpdVacrZP0"
      }
    },
    {
      "cell_type": "code",
      "source": [
        "from textblob import TextBlob\n",
        "sentence = 'Where there \\'s a will, there \\'s a way'\n",
        "blob =TextBlob(sentence)\n",
        "blob.words"
      ],
      "metadata": {
        "colab": {
          "base_uri": "https://localhost:8080/"
        },
        "id": "eWb-coK9rYCy",
        "outputId": "6551e46a-bd89-4196-9a50-aa7b68f0b35b"
      },
      "execution_count": null,
      "outputs": [
        {
          "output_type": "execute_result",
          "data": {
            "text/plain": [
              "WordList(['Where', 'there', \"'s\", 'a', 'will', 'there', \"'s\", 'a', 'way'])"
            ]
          },
          "metadata": {},
          "execution_count": 58
        }
      ]
    },
    {
      "cell_type": "markdown",
      "source": [
        "## n-gram 추출\n",
        "* n-gram은 n개의 어절이나 음절을 연쇄적으로 분류해 그 빈도를 분석"
      ],
      "metadata": {
        "id": "EpN6k40Yr7Pi"
      }
    },
    {
      "cell_type": "code",
      "source": [
        "from nltk import ngrams\n",
        "sentence = 'Where there a will, there a way'\n",
        "biagram = list(ngrams(sentence.split(),2))\n",
        "print(biagram)"
      ],
      "metadata": {
        "colab": {
          "base_uri": "https://localhost:8080/"
        },
        "id": "OnhqXQKfriQ-",
        "outputId": "7ad365b9-009e-45e9-8e06-6cb4137234ce"
      },
      "execution_count": null,
      "outputs": [
        {
          "output_type": "stream",
          "name": "stdout",
          "text": [
            "[('Where', 'there'), ('there', 'a'), ('a', 'will,'), ('will,', 'there'), ('there', 'a'), ('a', 'way')]\n"
          ]
        }
      ]
    },
    {
      "cell_type": "code",
      "source": [
        "trigram = list(ngrams(sentence.split(), 3))\n",
        "print(trigram)"
      ],
      "metadata": {
        "colab": {
          "base_uri": "https://localhost:8080/"
        },
        "id": "FUPRqW4LtLvD",
        "outputId": "3c2d51e8-03b0-4e7c-be56-fa8b248e22cc"
      },
      "execution_count": null,
      "outputs": [
        {
          "output_type": "stream",
          "name": "stdout",
          "text": [
            "[('Where', 'there', 'a'), ('there', 'a', 'will,'), ('a', 'will,', 'there'), ('will,', 'there', 'a'), ('there', 'a', 'way')]\n"
          ]
        }
      ]
    },
    {
      "cell_type": "code",
      "source": [
        "from textblob import TextBlob\n",
        "blob = TextBlob(sentence)\n",
        "blob.ngrams(n = 2)"
      ],
      "metadata": {
        "colab": {
          "base_uri": "https://localhost:8080/"
        },
        "id": "4cAsQnXAtLld",
        "outputId": "41cbb715-ac88-46a8-9ce2-6fe457c292a6"
      },
      "execution_count": null,
      "outputs": [
        {
          "output_type": "execute_result",
          "data": {
            "text/plain": [
              "[WordList(['Where', 'there']),\n",
              " WordList(['there', 'a']),\n",
              " WordList(['a', 'will']),\n",
              " WordList(['will', 'there']),\n",
              " WordList(['there', 'a']),\n",
              " WordList(['a', 'way'])]"
            ]
          },
          "metadata": {},
          "execution_count": 64
        }
      ]
    },
    {
      "cell_type": "code",
      "source": [
        "blob.ngrams(n = 3)"
      ],
      "metadata": {
        "colab": {
          "base_uri": "https://localhost:8080/"
        },
        "id": "gm_rC-YutLf_",
        "outputId": "ac5b7405-33f8-446d-cac6-394897623df4"
      },
      "execution_count": null,
      "outputs": [
        {
          "output_type": "execute_result",
          "data": {
            "text/plain": [
              "[WordList(['Where', 'there', 'a']),\n",
              " WordList(['there', 'a', 'will']),\n",
              " WordList(['a', 'will', 'there']),\n",
              " WordList(['will', 'there', 'a']),\n",
              " WordList(['there', 'a', 'way'])]"
            ]
          },
          "metadata": {},
          "execution_count": 65
        }
      ]
    },
    {
      "cell_type": "markdown",
      "source": [
        "## Pos 태깅\n",
        "* 품사를 의미하며, Pos 태깅은 문장 내에서 단어에 해당하는 각 품사를 태깅"
      ],
      "metadata": {
        "id": "TMtjkxDEtNEZ"
      }
    },
    {
      "cell_type": "code",
      "source": [
        "import nltk\n",
        "nltk.download('punkt')\n",
        "\n",
        "from nltk import word_tokenize"
      ],
      "metadata": {
        "colab": {
          "base_uri": "https://localhost:8080/"
        },
        "id": "MxB4TFJ5tLWw",
        "outputId": "e4926721-1e99-4265-aa90-07e09342f994"
      },
      "execution_count": null,
      "outputs": [
        {
          "output_type": "stream",
          "name": "stdout",
          "text": [
            "[nltk_data] Downloading package punkt to /root/nltk_data...\n",
            "[nltk_data]   Package punkt is already up-to-date!\n"
          ]
        }
      ]
    },
    {
      "cell_type": "code",
      "source": [
        "words = word_tokenize('Where is my car')\n",
        "words"
      ],
      "metadata": {
        "colab": {
          "base_uri": "https://localhost:8080/"
        },
        "id": "RdTmihQRunTM",
        "outputId": "82048264-ff23-43b3-d3cf-5bfd5d0dbd2f"
      },
      "execution_count": null,
      "outputs": [
        {
          "output_type": "execute_result",
          "data": {
            "text/plain": [
              "['Where', 'is', 'my', 'car']"
            ]
          },
          "metadata": {},
          "execution_count": 67
        }
      ]
    },
    {
      "cell_type": "code",
      "source": [
        "nltk.download('averaged_perceptron_tagger')\n",
        "nltk.pos_tag(words)"
      ],
      "metadata": {
        "colab": {
          "base_uri": "https://localhost:8080/"
        },
        "id": "-f0otqMOunOj",
        "outputId": "d29ae1fd-157a-4f62-d96f-81e1caa1e340"
      },
      "execution_count": null,
      "outputs": [
        {
          "output_type": "stream",
          "name": "stdout",
          "text": [
            "[nltk_data] Downloading package averaged_perceptron_tagger to\n",
            "[nltk_data]     /root/nltk_data...\n",
            "[nltk_data]   Unzipping taggers/averaged_perceptron_tagger.zip.\n"
          ]
        },
        {
          "output_type": "execute_result",
          "data": {
            "text/plain": [
              "[('Where', 'WRB'), ('is', 'VBZ'), ('my', 'PRP$'), ('car', 'NN')]"
            ]
          },
          "metadata": {},
          "execution_count": 68
        }
      ]
    },
    {
      "cell_type": "code",
      "source": [
        "nltk.pos_tag(word_tokenize('A rollong stone gathers no mass'))"
      ],
      "metadata": {
        "colab": {
          "base_uri": "https://localhost:8080/"
        },
        "id": "adWYvPuFunJj",
        "outputId": "25c749bf-6213-4e9f-9890-2343ec218e91"
      },
      "execution_count": null,
      "outputs": [
        {
          "output_type": "execute_result",
          "data": {
            "text/plain": [
              "[('A', 'DT'),\n",
              " ('rollong', 'JJ'),\n",
              " ('stone', 'NN'),\n",
              " ('gathers', 'NNS'),\n",
              " ('no', 'DT'),\n",
              " ('mass', 'NN')]"
            ]
          },
          "metadata": {},
          "execution_count": 69
        }
      ]
    },
    {
      "cell_type": "markdown",
      "source": [
        "## 불용어 제거"
      ],
      "metadata": {
        "id": "17c2PMGNvru4"
      }
    },
    {
      "cell_type": "code",
      "source": [
        "stop_words = 'on in the'\n",
        "stop_words = stop_words.split(' ')\n",
        "stop_words"
      ],
      "metadata": {
        "colab": {
          "base_uri": "https://localhost:8080/"
        },
        "id": "zGiAIj-0vj7n",
        "outputId": "dbfdcf00-b51d-4479-ebd9-aa4a662f8a39"
      },
      "execution_count": null,
      "outputs": [
        {
          "output_type": "execute_result",
          "data": {
            "text/plain": [
              "['on', 'in', 'the']"
            ]
          },
          "metadata": {},
          "execution_count": 70
        }
      ]
    },
    {
      "cell_type": "code",
      "source": [
        "sentence = 'singer on the stage'\n",
        "sentence = sentence.split(' ')\n",
        "nouns = []\n",
        "for noun in sentence:\n",
        "  if noun not in stop_words:\n",
        "    nouns.append(noun)\n",
        "print(nouns)"
      ],
      "metadata": {
        "colab": {
          "base_uri": "https://localhost:8080/"
        },
        "id": "64OQTZq3v5a5",
        "outputId": "3792705c-23b9-4d7a-aa9b-c02f29c28224"
      },
      "execution_count": null,
      "outputs": [
        {
          "output_type": "stream",
          "name": "stdout",
          "text": [
            "['singer', 'stage']\n"
          ]
        }
      ]
    },
    {
      "cell_type": "markdown",
      "source": [
        "### nltk 패키지에 불용어 리스트를 사용"
      ],
      "metadata": {
        "id": "4jsQwXprwSQ2"
      }
    },
    {
      "cell_type": "code",
      "source": [
        "import nltk\n",
        "nltk.download('stopwords')\n",
        "\n",
        "from nltk import word_tokenize\n",
        "from nltk.corpus import stopwords\n"
      ],
      "metadata": {
        "colab": {
          "base_uri": "https://localhost:8080/"
        },
        "id": "-Z7YwsAsv_wS",
        "outputId": "d6be6e0c-3e93-4d6a-9014-af99cc7816e1"
      },
      "execution_count": null,
      "outputs": [
        {
          "output_type": "stream",
          "name": "stdout",
          "text": [
            "[nltk_data] Downloading package stopwords to /root/nltk_data...\n",
            "[nltk_data]   Unzipping corpora/stopwords.zip.\n"
          ]
        }
      ]
    },
    {
      "cell_type": "code",
      "source": [
        "stop_words = stopwords.words('english')\n",
        "print(stop_words)"
      ],
      "metadata": {
        "colab": {
          "base_uri": "https://localhost:8080/"
        },
        "id": "Ma6dSUr8wkgF",
        "outputId": "a610e71d-e2c6-4c1b-ba53-bc7d81fa740d"
      },
      "execution_count": null,
      "outputs": [
        {
          "output_type": "stream",
          "name": "stdout",
          "text": [
            "['i', 'me', 'my', 'myself', 'we', 'our', 'ours', 'ourselves', 'you', \"you're\", \"you've\", \"you'll\", \"you'd\", 'your', 'yours', 'yourself', 'yourselves', 'he', 'him', 'his', 'himself', 'she', \"she's\", 'her', 'hers', 'herself', 'it', \"it's\", 'its', 'itself', 'they', 'them', 'their', 'theirs', 'themselves', 'what', 'which', 'who', 'whom', 'this', 'that', \"that'll\", 'these', 'those', 'am', 'is', 'are', 'was', 'were', 'be', 'been', 'being', 'have', 'has', 'had', 'having', 'do', 'does', 'did', 'doing', 'a', 'an', 'the', 'and', 'but', 'if', 'or', 'because', 'as', 'until', 'while', 'of', 'at', 'by', 'for', 'with', 'about', 'against', 'between', 'into', 'through', 'during', 'before', 'after', 'above', 'below', 'to', 'from', 'up', 'down', 'in', 'out', 'on', 'off', 'over', 'under', 'again', 'further', 'then', 'once', 'here', 'there', 'when', 'where', 'why', 'how', 'all', 'any', 'both', 'each', 'few', 'more', 'most', 'other', 'some', 'such', 'no', 'nor', 'not', 'only', 'own', 'same', 'so', 'than', 'too', 'very', 's', 't', 'can', 'will', 'just', 'don', \"don't\", 'should', \"should've\", 'now', 'd', 'll', 'm', 'o', 're', 've', 'y', 'ain', 'aren', \"aren't\", 'couldn', \"couldn't\", 'didn', \"didn't\", 'doesn', \"doesn't\", 'hadn', \"hadn't\", 'hasn', \"hasn't\", 'haven', \"haven't\", 'isn', \"isn't\", 'ma', 'mightn', \"mightn't\", 'mustn', \"mustn't\", 'needn', \"needn't\", 'shan', \"shan't\", 'shouldn', \"shouldn't\", 'wasn', \"wasn't\", 'weren', \"weren't\", 'won', \"won't\", 'wouldn', \"wouldn't\"]\n"
          ]
        }
      ]
    },
    {
      "cell_type": "code",
      "source": [
        "s = 'If you do not walk today, you will have to run tomorrow'\n",
        "\n",
        "words = word_tokenize(s)\n",
        "print(words)"
      ],
      "metadata": {
        "colab": {
          "base_uri": "https://localhost:8080/"
        },
        "id": "S6iyYQwKwvpg",
        "outputId": "cfe59820-b917-4644-af00-7b651ef4fbb2"
      },
      "execution_count": null,
      "outputs": [
        {
          "output_type": "stream",
          "name": "stdout",
          "text": [
            "['If', 'you', 'do', 'not', 'walk', 'today', ',', 'you', 'will', 'have', 'to', 'run', 'tomorrow']\n"
          ]
        }
      ]
    },
    {
      "cell_type": "code",
      "source": [
        "no_stopwords = []\n",
        "for w in words:\n",
        "  if w not in stop_words:\n",
        "    no_stopwords.append(w)\n",
        "print(no_stopwords)"
      ],
      "metadata": {
        "colab": {
          "base_uri": "https://localhost:8080/"
        },
        "id": "MsmFnUBLw78Y",
        "outputId": "bf85b3cf-517a-45c1-a904-9e6a939936a0"
      },
      "execution_count": null,
      "outputs": [
        {
          "output_type": "stream",
          "name": "stdout",
          "text": [
            "['If', 'walk', 'today', ',', 'run', 'tomorrow']\n"
          ]
        }
      ]
    },
    {
      "cell_type": "markdown",
      "source": [
        "## 철자 교정"
      ],
      "metadata": {
        "id": "WGd5-xmAxN6s"
      }
    },
    {
      "cell_type": "code",
      "source": [
        "!pip install autocorrect"
      ],
      "metadata": {
        "colab": {
          "base_uri": "https://localhost:8080/"
        },
        "id": "OgdWG-JvxKb1",
        "outputId": "8c9736c9-cc59-444e-b7b8-e73775979bd9"
      },
      "execution_count": null,
      "outputs": [
        {
          "output_type": "stream",
          "name": "stdout",
          "text": [
            "Collecting autocorrect\n",
            "  Downloading autocorrect-2.6.1.tar.gz (622 kB)\n",
            "\u001b[?25l\r\u001b[K     |▌                               | 10 kB 26.6 MB/s eta 0:00:01\r\u001b[K     |█                               | 20 kB 9.6 MB/s eta 0:00:01\r\u001b[K     |█▋                              | 30 kB 8.2 MB/s eta 0:00:01\r\u001b[K     |██                              | 40 kB 7.3 MB/s eta 0:00:01\r\u001b[K     |██▋                             | 51 kB 4.2 MB/s eta 0:00:01\r\u001b[K     |███▏                            | 61 kB 4.4 MB/s eta 0:00:01\r\u001b[K     |███▊                            | 71 kB 4.4 MB/s eta 0:00:01\r\u001b[K     |████▏                           | 81 kB 5.0 MB/s eta 0:00:01\r\u001b[K     |████▊                           | 92 kB 3.9 MB/s eta 0:00:01\r\u001b[K     |█████▎                          | 102 kB 4.1 MB/s eta 0:00:01\r\u001b[K     |█████▉                          | 112 kB 4.1 MB/s eta 0:00:01\r\u001b[K     |██████▎                         | 122 kB 4.1 MB/s eta 0:00:01\r\u001b[K     |██████▉                         | 133 kB 4.1 MB/s eta 0:00:01\r\u001b[K     |███████▍                        | 143 kB 4.1 MB/s eta 0:00:01\r\u001b[K     |████████                        | 153 kB 4.1 MB/s eta 0:00:01\r\u001b[K     |████████▍                       | 163 kB 4.1 MB/s eta 0:00:01\r\u001b[K     |█████████                       | 174 kB 4.1 MB/s eta 0:00:01\r\u001b[K     |█████████▌                      | 184 kB 4.1 MB/s eta 0:00:01\r\u001b[K     |██████████                      | 194 kB 4.1 MB/s eta 0:00:01\r\u001b[K     |██████████▌                     | 204 kB 4.1 MB/s eta 0:00:01\r\u001b[K     |███████████                     | 215 kB 4.1 MB/s eta 0:00:01\r\u001b[K     |███████████▋                    | 225 kB 4.1 MB/s eta 0:00:01\r\u001b[K     |████████████                    | 235 kB 4.1 MB/s eta 0:00:01\r\u001b[K     |████████████▋                   | 245 kB 4.1 MB/s eta 0:00:01\r\u001b[K     |█████████████▏                  | 256 kB 4.1 MB/s eta 0:00:01\r\u001b[K     |█████████████▊                  | 266 kB 4.1 MB/s eta 0:00:01\r\u001b[K     |██████████████▏                 | 276 kB 4.1 MB/s eta 0:00:01\r\u001b[K     |██████████████▊                 | 286 kB 4.1 MB/s eta 0:00:01\r\u001b[K     |███████████████▎                | 296 kB 4.1 MB/s eta 0:00:01\r\u001b[K     |███████████████▉                | 307 kB 4.1 MB/s eta 0:00:01\r\u001b[K     |████████████████▎               | 317 kB 4.1 MB/s eta 0:00:01\r\u001b[K     |████████████████▉               | 327 kB 4.1 MB/s eta 0:00:01\r\u001b[K     |█████████████████▍              | 337 kB 4.1 MB/s eta 0:00:01\r\u001b[K     |██████████████████              | 348 kB 4.1 MB/s eta 0:00:01\r\u001b[K     |██████████████████▍             | 358 kB 4.1 MB/s eta 0:00:01\r\u001b[K     |███████████████████             | 368 kB 4.1 MB/s eta 0:00:01\r\u001b[K     |███████████████████▌            | 378 kB 4.1 MB/s eta 0:00:01\r\u001b[K     |████████████████████            | 389 kB 4.1 MB/s eta 0:00:01\r\u001b[K     |████████████████████▌           | 399 kB 4.1 MB/s eta 0:00:01\r\u001b[K     |█████████████████████           | 409 kB 4.1 MB/s eta 0:00:01\r\u001b[K     |█████████████████████▋          | 419 kB 4.1 MB/s eta 0:00:01\r\u001b[K     |██████████████████████          | 430 kB 4.1 MB/s eta 0:00:01\r\u001b[K     |██████████████████████▋         | 440 kB 4.1 MB/s eta 0:00:01\r\u001b[K     |███████████████████████▏        | 450 kB 4.1 MB/s eta 0:00:01\r\u001b[K     |███████████████████████▊        | 460 kB 4.1 MB/s eta 0:00:01\r\u001b[K     |████████████████████████▏       | 471 kB 4.1 MB/s eta 0:00:01\r\u001b[K     |████████████████████████▊       | 481 kB 4.1 MB/s eta 0:00:01\r\u001b[K     |█████████████████████████▎      | 491 kB 4.1 MB/s eta 0:00:01\r\u001b[K     |█████████████████████████▉      | 501 kB 4.1 MB/s eta 0:00:01\r\u001b[K     |██████████████████████████▎     | 512 kB 4.1 MB/s eta 0:00:01\r\u001b[K     |██████████████████████████▉     | 522 kB 4.1 MB/s eta 0:00:01\r\u001b[K     |███████████████████████████▍    | 532 kB 4.1 MB/s eta 0:00:01\r\u001b[K     |███████████████████████████▉    | 542 kB 4.1 MB/s eta 0:00:01\r\u001b[K     |████████████████████████████▍   | 552 kB 4.1 MB/s eta 0:00:01\r\u001b[K     |█████████████████████████████   | 563 kB 4.1 MB/s eta 0:00:01\r\u001b[K     |█████████████████████████████▌  | 573 kB 4.1 MB/s eta 0:00:01\r\u001b[K     |██████████████████████████████  | 583 kB 4.1 MB/s eta 0:00:01\r\u001b[K     |██████████████████████████████▌ | 593 kB 4.1 MB/s eta 0:00:01\r\u001b[K     |███████████████████████████████ | 604 kB 4.1 MB/s eta 0:00:01\r\u001b[K     |███████████████████████████████▋| 614 kB 4.1 MB/s eta 0:00:01\r\u001b[K     |████████████████████████████████| 622 kB 4.1 MB/s \n",
            "\u001b[?25hBuilding wheels for collected packages: autocorrect\n",
            "  Building wheel for autocorrect (setup.py) ... \u001b[?25l\u001b[?25hdone\n",
            "  Created wheel for autocorrect: filename=autocorrect-2.6.1-py3-none-any.whl size=622382 sha256=9c29e964c54e4ea243fa7b764daf5cb26d820fd3177d97d044d18cc902620d62\n",
            "  Stored in directory: /root/.cache/pip/wheels/54/d4/37/8244101ad50b0f7d9bffd93ce58ed7991ee1753b290923934b\n",
            "Successfully built autocorrect\n",
            "Installing collected packages: autocorrect\n",
            "Successfully installed autocorrect-2.6.1\n"
          ]
        }
      ]
    },
    {
      "cell_type": "code",
      "source": [
        "from autocorrect import Speller"
      ],
      "metadata": {
        "id": "lc9Dxjp-yEao"
      },
      "execution_count": null,
      "outputs": []
    },
    {
      "cell_type": "code",
      "source": [
        "spell = Speller('en')\n",
        "print(spell('people'))\n",
        "print(spell('peope'))\n",
        "print(spell('peopae'))"
      ],
      "metadata": {
        "colab": {
          "base_uri": "https://localhost:8080/"
        },
        "id": "jqJWpKBZyIqS",
        "outputId": "668c73dc-59f1-4e97-ac42-0ad5abac455c"
      },
      "execution_count": null,
      "outputs": [
        {
          "output_type": "stream",
          "name": "stdout",
          "text": [
            "people\n",
            "people\n",
            "people\n"
          ]
        }
      ]
    },
    {
      "cell_type": "code",
      "source": [
        "s = word_tokenize('Earlly biird catchess the womm')\n",
        "print(s)\n",
        "\n",
        "ss = ' '.join([spell(s) for s in s])\n",
        "print(ss)"
      ],
      "metadata": {
        "colab": {
          "base_uri": "https://localhost:8080/"
        },
        "id": "6x4HwjEoyZQh",
        "outputId": "822dcad2-1080-4a3d-a853-116c93fe0653"
      },
      "execution_count": null,
      "outputs": [
        {
          "output_type": "stream",
          "name": "stdout",
          "text": [
            "['Earlly', 'biird', 'catchess', 'the', 'womm']\n",
            "Early bird catches the worm\n"
          ]
        }
      ]
    },
    {
      "cell_type": "markdown",
      "source": [
        "## 언어의 단수화 복수화"
      ],
      "metadata": {
        "id": "2JlOqmavy4Xs"
      }
    },
    {
      "cell_type": "code",
      "source": [
        "from textblob import TextBlob\n",
        "\n",
        "words = 'apples bananas oranges'\n",
        "tb =TextBlob(words)\n",
        "\n",
        "print(tb.words)\n",
        "print(tb.words.singularize())"
      ],
      "metadata": {
        "colab": {
          "base_uri": "https://localhost:8080/"
        },
        "id": "UDerW6pTyxf3",
        "outputId": "7afe7a49-dce8-441b-99ce-917a968062c4"
      },
      "execution_count": null,
      "outputs": [
        {
          "output_type": "stream",
          "name": "stdout",
          "text": [
            "['apples', 'bananas', 'oranges']\n",
            "['apple', 'banana', 'orange']\n"
          ]
        }
      ]
    },
    {
      "cell_type": "code",
      "source": [
        "words = 'car train airplane'\n",
        "tb =TextBlob(words)\n",
        "\n",
        "print(tb)\n",
        "print(tb.words.pluralize())"
      ],
      "metadata": {
        "colab": {
          "base_uri": "https://localhost:8080/"
        },
        "id": "5e1wgST2zMIw",
        "outputId": "ac875b35-6633-4126-8a2a-b9d8629c6226"
      },
      "execution_count": null,
      "outputs": [
        {
          "output_type": "stream",
          "name": "stdout",
          "text": [
            "car train airplane\n",
            "['cars', 'trains', 'airplanes']\n"
          ]
        }
      ]
    },
    {
      "cell_type": "markdown",
      "source": [
        "## 어간 추출"
      ],
      "metadata": {
        "id": "7nBpsz48zal2"
      }
    },
    {
      "cell_type": "code",
      "source": [
        "import nltk\n",
        "\n",
        "stemmer = nltk.stem.PorterStemmer()"
      ],
      "metadata": {
        "id": "ebW2rQQPzYpA"
      },
      "execution_count": null,
      "outputs": []
    },
    {
      "cell_type": "code",
      "source": [
        "stemmer.stem('application')"
      ],
      "metadata": {
        "colab": {
          "base_uri": "https://localhost:8080/",
          "height": 35
        },
        "id": "suBaM78F0hhC",
        "outputId": "822d569a-3435-404f-a8ae-7751c6cbdc79"
      },
      "execution_count": null,
      "outputs": [
        {
          "output_type": "execute_result",
          "data": {
            "application/vnd.google.colaboratory.intrinsic+json": {
              "type": "string"
            },
            "text/plain": [
              "'applic'"
            ]
          },
          "metadata": {},
          "execution_count": 95
        }
      ]
    },
    {
      "cell_type": "code",
      "source": [
        "stemmer.stem('beginning')"
      ],
      "metadata": {
        "colab": {
          "base_uri": "https://localhost:8080/",
          "height": 35
        },
        "id": "yU3oE3pK0pYI",
        "outputId": "1e59b0b7-237e-4308-c779-f709844ec105"
      },
      "execution_count": null,
      "outputs": [
        {
          "output_type": "execute_result",
          "data": {
            "application/vnd.google.colaboratory.intrinsic+json": {
              "type": "string"
            },
            "text/plain": [
              "'begin'"
            ]
          },
          "metadata": {},
          "execution_count": 96
        }
      ]
    },
    {
      "cell_type": "markdown",
      "source": [
        "## 표제어 추출"
      ],
      "metadata": {
        "id": "-y2ybdcx0ymc"
      }
    },
    {
      "cell_type": "code",
      "source": [
        "import nltk\n",
        "nltk.download('wordnet')\n",
        "\n",
        "from nltk.stem.wordnet import WordNetLemmatizer\n",
        "lemmatizer = WordNetLemmatizer()"
      ],
      "metadata": {
        "colab": {
          "base_uri": "https://localhost:8080/"
        },
        "id": "bOdFvbN-0vxn",
        "outputId": "a6e14c5e-293e-47d9-eac1-7cc8cbdfa707"
      },
      "execution_count": null,
      "outputs": [
        {
          "output_type": "stream",
          "name": "stdout",
          "text": [
            "[nltk_data] Downloading package wordnet to /root/nltk_data...\n",
            "[nltk_data]   Package wordnet is already up-to-date!\n"
          ]
        }
      ]
    },
    {
      "cell_type": "code",
      "source": [
        "lemmatizer.lemmatize('application')"
      ],
      "metadata": {
        "colab": {
          "base_uri": "https://localhost:8080/",
          "height": 35
        },
        "id": "m14OeeK31DVl",
        "outputId": "cf73449d-bb5c-49b0-af7a-d91352871a55"
      },
      "execution_count": null,
      "outputs": [
        {
          "output_type": "execute_result",
          "data": {
            "application/vnd.google.colaboratory.intrinsic+json": {
              "type": "string"
            },
            "text/plain": [
              "'application'"
            ]
          },
          "metadata": {},
          "execution_count": 101
        }
      ]
    },
    {
      "cell_type": "code",
      "source": [
        "lemmatizer.lemmatize('beginning')"
      ],
      "metadata": {
        "colab": {
          "base_uri": "https://localhost:8080/",
          "height": 35
        },
        "id": "R_GHDP7Q1K-4",
        "outputId": "fd2334db-36e0-4288-af28-3205d6e19992"
      },
      "execution_count": null,
      "outputs": [
        {
          "output_type": "execute_result",
          "data": {
            "application/vnd.google.colaboratory.intrinsic+json": {
              "type": "string"
            },
            "text/plain": [
              "'beginning'"
            ]
          },
          "metadata": {},
          "execution_count": 102
        }
      ]
    },
    {
      "cell_type": "markdown",
      "source": [
        "## 개체명 인식"
      ],
      "metadata": {
        "id": "ekVx2kjW1b6d"
      }
    },
    {
      "cell_type": "code",
      "source": [
        "import nltk \n",
        "from nltk import word_tokenize\n",
        "\n",
        "nltk.download('maxent_ne_chunker')\n",
        "nltk.download('words')"
      ],
      "metadata": {
        "colab": {
          "base_uri": "https://localhost:8080/"
        },
        "id": "Vai3CyKd1WZB",
        "outputId": "c2757ebd-b069-4c5a-c893-623ecbb7a9a4"
      },
      "execution_count": null,
      "outputs": [
        {
          "output_type": "stream",
          "name": "stdout",
          "text": [
            "[nltk_data] Downloading package maxent_ne_chunker to\n",
            "[nltk_data]     /root/nltk_data...\n",
            "[nltk_data]   Unzipping chunkers/maxent_ne_chunker.zip.\n",
            "[nltk_data] Downloading package words to /root/nltk_data...\n",
            "[nltk_data]   Unzipping corpora/words.zip.\n"
          ]
        },
        {
          "output_type": "execute_result",
          "data": {
            "text/plain": [
              "True"
            ]
          },
          "metadata": {},
          "execution_count": 103
        }
      ]
    },
    {
      "cell_type": "code",
      "source": [
        "s = 'Rome was not built in a day'"
      ],
      "metadata": {
        "id": "9n8NU1xq1xkr"
      },
      "execution_count": null,
      "outputs": []
    },
    {
      "cell_type": "code",
      "source": [
        "tags = nltk.pos_tag(word_tokenize(s))\n",
        "print(tags)"
      ],
      "metadata": {
        "colab": {
          "base_uri": "https://localhost:8080/"
        },
        "id": "r9mzfOmw14qv",
        "outputId": "6755ac0e-7b21-4bd1-f3da-c9d4d2b61f1e"
      },
      "execution_count": null,
      "outputs": [
        {
          "output_type": "stream",
          "name": "stdout",
          "text": [
            "[('Rome', 'NNP'), ('was', 'VBD'), ('not', 'RB'), ('built', 'VBN'), ('in', 'IN'), ('a', 'DT'), ('day', 'NN')]\n"
          ]
        }
      ]
    },
    {
      "cell_type": "code",
      "source": [
        "entites = nltk.ne_chunk(tags, binary = True)\n",
        "print(entites)"
      ],
      "metadata": {
        "colab": {
          "base_uri": "https://localhost:8080/"
        },
        "id": "KhY7ljGJ1855",
        "outputId": "d4e0eff8-c6ae-424c-f039-a5008ca281bd"
      },
      "execution_count": null,
      "outputs": [
        {
          "output_type": "stream",
          "name": "stdout",
          "text": [
            "(S (NE Rome/NNP) was/VBD not/RB built/VBN in/IN a/DT day/NN)\n"
          ]
        }
      ]
    },
    {
      "cell_type": "markdown",
      "source": [
        "# 한국어 처리\n",
        "* 한국어는 자음과 모음으로 이루어져 있기에 주의"
      ],
      "metadata": {
        "id": "ooRQ_Iu43g6T"
      }
    },
    {
      "cell_type": "markdown",
      "source": [
        "## match"
      ],
      "metadata": {
        "id": "9oJ26v8F5b7m"
      }
    },
    {
      "cell_type": "code",
      "source": [
        "import re\n",
        "\n",
        "check = '[ㄱ-ㅎ]+'\n",
        "\n",
        "print(re.match(check, 'ㅎ 안녕하세요'))\n",
        "print(re.match(check, '안녕하세요 ㅎ')) # 문장 처음 시작이 자음과 모음이 합쳐져 있기에 인식 불가"
      ],
      "metadata": {
        "colab": {
          "base_uri": "https://localhost:8080/"
        },
        "id": "DPoW6pvo2CS_",
        "outputId": "3ff44258-ecd2-4dac-b92a-a35516bd2c80"
      },
      "execution_count": null,
      "outputs": [
        {
          "output_type": "stream",
          "name": "stdout",
          "text": [
            "<re.Match object; span=(0, 1), match='ㅎ'>\n",
            "None\n"
          ]
        }
      ]
    },
    {
      "cell_type": "markdown",
      "source": [
        "## search\n",
        "* match와 는 달리 문자열 전체를 검사"
      ],
      "metadata": {
        "id": "9rLdNNsV6QcK"
      }
    },
    {
      "cell_type": "code",
      "source": [
        "check = '[ㄱ-ㅎ|ㅏ-ㅣ]'\n",
        "print(re.search(check, 'ㄱㅏ 안녕하세요'))\n",
        "print(re.search(check, '안 ㄱ ㅏ'))\n"
      ],
      "metadata": {
        "colab": {
          "base_uri": "https://localhost:8080/"
        },
        "id": "bVjHkjr25sfU",
        "outputId": "06bfec7b-af14-4276-a46e-ef4e18b620cb"
      },
      "execution_count": null,
      "outputs": [
        {
          "output_type": "stream",
          "name": "stdout",
          "text": [
            "<re.Match object; span=(0, 1), match='ㄱ'>\n",
            "<re.Match object; span=(2, 3), match='ㄱ'>\n"
          ]
        }
      ]
    },
    {
      "cell_type": "markdown",
      "source": [
        "## 토큰화"
      ],
      "metadata": {
        "id": "OmVkDnSO7Ofv"
      }
    },
    {
      "cell_type": "markdown",
      "source": [
        "### 한국어 자연어 처리 konlpy와 형태소 분석기 Mecab 설치"
      ],
      "metadata": {
        "id": "A49dWoiw7SKa"
      }
    },
    {
      "cell_type": "code",
      "source": [
        "!set -x \\\n",
        "&& pip install konlpy \\\n",
        "&& curl -s https://raw.githubusercontent.com/konlpy/konlpy/master/scripts/mecab.sh | bash -x"
      ],
      "metadata": {
        "id": "f1_LdFVz6y6z"
      },
      "execution_count": null,
      "outputs": []
    },
    {
      "cell_type": "markdown",
      "source": [
        "### 단어 토큰화"
      ],
      "metadata": {
        "id": "blfEB_Qo8Doj"
      }
    },
    {
      "cell_type": "code",
      "source": [
        "from konlpy.tag import Mecab\n",
        "tagger = Mecab()"
      ],
      "metadata": {
        "id": "uf-fNLUW70y5"
      },
      "execution_count": null,
      "outputs": []
    },
    {
      "cell_type": "code",
      "source": [
        "sentence = '언제나 현재에 집중할 수 있다면 행복할 것이다.'\n",
        "tagger.pos(sentence)"
      ],
      "metadata": {
        "colab": {
          "base_uri": "https://localhost:8080/"
        },
        "id": "2ouBt6wS8u9m",
        "outputId": "3bd5d13d-dca5-4654-d618-23addf7e74e8"
      },
      "execution_count": null,
      "outputs": [
        {
          "output_type": "execute_result",
          "data": {
            "text/plain": [
              "[('언제나', 'MAG'),\n",
              " ('현재', 'NNG'),\n",
              " ('에', 'JKB'),\n",
              " ('집중', 'NNG'),\n",
              " ('할', 'XSV+ETM'),\n",
              " ('수', 'NNB'),\n",
              " ('있', 'VV'),\n",
              " ('다면', 'EC'),\n",
              " ('행복', 'NNG'),\n",
              " ('할', 'XSV+ETM'),\n",
              " ('것', 'NNB'),\n",
              " ('이', 'VCP'),\n",
              " ('다', 'EF'),\n",
              " ('.', 'SF')]"
            ]
          },
          "metadata": {},
          "execution_count": 125
        }
      ]
    },
    {
      "cell_type": "code",
      "source": [
        "# 토큰화만 실행할 경우 tagger.morphs()라는 함수를 사용\n",
        "tagger.morphs(sentence)"
      ],
      "metadata": {
        "colab": {
          "base_uri": "https://localhost:8080/"
        },
        "id": "YkofUNvD9rbi",
        "outputId": "bde10808-4d0d-4839-99cb-a3138519ab92"
      },
      "execution_count": null,
      "outputs": [
        {
          "output_type": "execute_result",
          "data": {
            "text/plain": [
              "['언제나', '현재', '에', '집중', '할', '수', '있', '다면', '행복', '할', '것', '이', '다', '.']"
            ]
          },
          "metadata": {},
          "execution_count": 127
        }
      ]
    },
    {
      "cell_type": "code",
      "source": [
        "# 형태소만 출력\n",
        "tagger.nouns(sentence)"
      ],
      "metadata": {
        "colab": {
          "base_uri": "https://localhost:8080/"
        },
        "id": "TuyRuPuV900o",
        "outputId": "14c15e32-16dd-4136-b901-edb28c1dc773"
      },
      "execution_count": null,
      "outputs": [
        {
          "output_type": "execute_result",
          "data": {
            "text/plain": [
              "['현재', '집중', '수', '행복', '것']"
            ]
          },
          "metadata": {},
          "execution_count": 128
        }
      ]
    },
    {
      "cell_type": "markdown",
      "source": [
        "## 문장 토큰화"
      ],
      "metadata": {
        "id": "tXVlVhXDDt2a"
      }
    },
    {
      "cell_type": "code",
      "source": [
        "! pip install kss"
      ],
      "metadata": {
        "colab": {
          "base_uri": "https://localhost:8080/"
        },
        "id": "w0kBu4Gx-rMQ",
        "outputId": "ae9c2688-e67b-41d7-9db1-09912562ae64"
      },
      "execution_count": null,
      "outputs": [
        {
          "output_type": "stream",
          "name": "stdout",
          "text": [
            "Collecting kss\n",
            "  Downloading kss-3.3.1.1.tar.gz (42.4 MB)\n",
            "\u001b[K     |████████████████████████████████| 42.4 MB 1.5 MB/s \n",
            "\u001b[?25hCollecting emoji\n",
            "  Downloading emoji-1.6.3.tar.gz (174 kB)\n",
            "\u001b[K     |████████████████████████████████| 174 kB 48.2 MB/s \n",
            "\u001b[?25hBuilding wheels for collected packages: kss, emoji\n",
            "  Building wheel for kss (setup.py) ... \u001b[?25l\u001b[?25hdone\n",
            "  Created wheel for kss: filename=kss-3.3.1.1-py3-none-any.whl size=42449241 sha256=b130e2b0cf2ab204426927ed4ea9f7b2c2d83d508856ab62c67f2f35d949905a\n",
            "  Stored in directory: /root/.cache/pip/wheels/6e/9d/1d/52871154eff5273abb86b96f4f984c1cd67c5bde64239b060a\n",
            "  Building wheel for emoji (setup.py) ... \u001b[?25l\u001b[?25hdone\n",
            "  Created wheel for emoji: filename=emoji-1.6.3-py3-none-any.whl size=170298 sha256=41d033b543ee1a033494ba33af37a7bc64a1b7798921b82bb4c161a939af97bd\n",
            "  Stored in directory: /root/.cache/pip/wheels/03/8b/d7/ad579fbef83c287215c0caab60fb0ae0f30c4d7ce5f580eade\n",
            "Successfully built kss emoji\n",
            "Installing collected packages: emoji, kss\n",
            "Successfully installed emoji-1.6.3 kss-3.3.1.1\n"
          ]
        }
      ]
    },
    {
      "cell_type": "code",
      "source": [
        "import kss \n",
        "text = '진짜? 내일 뭐하지. 이렇게 애매모호한 문장도? 밥은 먹었어? 나는 ...'\n",
        "print(kss.split_sentences(text))"
      ],
      "metadata": {
        "colab": {
          "base_uri": "https://localhost:8080/"
        },
        "id": "R-pJHa8L-yHW",
        "outputId": "63ba7dce-0b44-42be-8ecf-0e3a25ee4438"
      },
      "execution_count": null,
      "outputs": [
        {
          "output_type": "stream",
          "name": "stderr",
          "text": [
            "WARNING:root:Initializing Pynori...\n"
          ]
        },
        {
          "output_type": "stream",
          "name": "stdout",
          "text": [
            "['진짜? 내일 뭐하지.', '이렇게 애매모호한 문장도? 밥은 먹었어?', '나는 ...']\n"
          ]
        }
      ]
    },
    {
      "cell_type": "markdown",
      "source": [
        "## 정규 표현식을 이용한 토큰화"
      ],
      "metadata": {
        "id": "1RqoEN_UEpI7"
      }
    },
    {
      "cell_type": "code",
      "source": [
        "from nltk.tokenize import RegexpTokenizer\n",
        "sentence = \"안녕하세요 ㅋㅋ 저는 자연어 처리(NLP)를 배우고 있습니다!! ㅋㅋㅋ\"\n",
        "\n",
        "tokenizer = RegexpTokenizer('[가-힣]+')\n",
        "tokens = tokenizer.tokenize(sentence)\n",
        "tokens"
      ],
      "metadata": {
        "colab": {
          "base_uri": "https://localhost:8080/"
        },
        "id": "YuvV3jX9D-g9",
        "outputId": "978d7b29-bf2f-4804-d660-4e0a146931ab"
      },
      "execution_count": null,
      "outputs": [
        {
          "output_type": "execute_result",
          "data": {
            "text/plain": [
              "['안녕하세요', '저는', '자연어', '처리', '를', '배우고', '있습니다']"
            ]
          },
          "metadata": {},
          "execution_count": 137
        }
      ]
    },
    {
      "cell_type": "markdown",
      "source": [
        "## 케라스를 이용한 토큰화"
      ],
      "metadata": {
        "id": "amyPV5g3E1hA"
      }
    },
    {
      "cell_type": "code",
      "source": [
        "from keras.preprocessing.text import text_to_word_sequence\n",
        "\n",
        "sentence = \"성공의 비결은 단 한가지, 잘할 수 있는 일에 광적으로 집중하는 것이다\"\n",
        "\n",
        "text_to_word_sequence(sentence)"
      ],
      "metadata": {
        "colab": {
          "base_uri": "https://localhost:8080/"
        },
        "id": "ahCSFmiiFQSJ",
        "outputId": "1c3c0be9-68d5-483d-c8e5-2d7b556ab159"
      },
      "execution_count": null,
      "outputs": [
        {
          "output_type": "execute_result",
          "data": {
            "text/plain": [
              "['성공의', '비결은', '단', '한가지', '잘할', '수', '있는', '일에', '광적으로', '집중하는', '것이다']"
            ]
          },
          "metadata": {},
          "execution_count": 138
        }
      ]
    },
    {
      "cell_type": "markdown",
      "source": [
        "## Bag of Words "
      ],
      "metadata": {
        "id": "tbcUA-SrFpuQ"
      }
    },
    {
      "cell_type": "code",
      "source": [
        "from sklearn.feature_extraction.text import CountVectorizer\n",
        "corpus = ['Think like a man of action and act like man of thought']\n",
        "\n",
        "vector = CountVectorizer()\n",
        "bow = vector.fit_transform(corpus)\n",
        "\n",
        "print(bow.toarray())\n",
        "print(vector.vocabulary_)"
      ],
      "metadata": {
        "colab": {
          "base_uri": "https://localhost:8080/"
        },
        "id": "u8dE697vFlko",
        "outputId": "7570a197-7a89-44da-c4f1-67e4b9d57a48"
      },
      "execution_count": null,
      "outputs": [
        {
          "output_type": "stream",
          "name": "stdout",
          "text": [
            "[[1 1 1 2 2 2 1 1]]\n",
            "{'think': 6, 'like': 3, 'man': 4, 'of': 5, 'action': 1, 'and': 2, 'act': 0, 'thought': 7}\n"
          ]
        }
      ]
    },
    {
      "cell_type": "code",
      "source": [
        "corpus = ['평생 살 것처럼 꿈을 꾸어라. 그리고 내일 죽을 것처럼 오늘을 살아라.']\n",
        "\n",
        "vector = CountVectorizer()\n",
        "bow = vector.fit_transform(corpus)\n",
        "\n",
        "print(bow.toarray())\n",
        "print(vector.vocabulary_)"
      ],
      "metadata": {
        "colab": {
          "base_uri": "https://localhost:8080/"
        },
        "id": "mj8vqpNtHEa7",
        "outputId": "fc69dd93-3add-4f1a-bdd2-f86dcd0d6be3"
      },
      "execution_count": null,
      "outputs": [
        {
          "output_type": "stream",
          "name": "stdout",
          "text": [
            "[[2 1 1 1 1 1 1 1 1]]\n",
            "{'평생': 8, '것처럼': 0, '꿈을': 3, '꾸어라': 2, '그리고': 1, '내일': 4, '죽을': 7, '오늘을': 6, '살아라': 5}\n"
          ]
        }
      ]
    },
    {
      "cell_type": "code",
      "source": [
        "import re \n",
        "from konlpy.tag import Mecab\n",
        "\n",
        "corpus = '평생 살 것처럼 꿈을 꾸어라. 그리고 내일 죽을 것처럼 오늘을 살아라.'\n",
        "tokens = tagger.morphs(re.sub(\"(\\.)\", \"\", corpus))\n",
        "\n",
        "vocab = {}\n",
        "bow = []\n",
        "\n",
        "for tok in tokens:\n",
        "  if tok not in vocab.keys():\n",
        "    vocab[tok] = len(vocab)\n",
        "    bow.insert(len(vocab)-1,1)\n",
        "  else:\n",
        "    index = vocab.get(tok)\n",
        "    bow[index] = bow[index]+1\n",
        "\n",
        "print(bow)\n",
        "print(vocab)"
      ],
      "metadata": {
        "colab": {
          "base_uri": "https://localhost:8080/"
        },
        "id": "gbVMzgDvIUDO",
        "outputId": "8526ad66-f94e-4e5f-bdad-0574bd0d85ec"
      },
      "execution_count": null,
      "outputs": [
        {
          "output_type": "stream",
          "name": "stdout",
          "text": [
            "[1, 2, 2, 2, 1, 3, 1, 1, 1, 1, 1, 1, 1]\n",
            "{'평생': 0, '살': 1, '것': 2, '처럼': 3, '꿈': 4, '을': 5, '꾸': 6, '어라': 7, '그리고': 8, '내일': 9, '죽': 10, '오늘': 11, '아라': 12}\n"
          ]
        }
      ]
    },
    {
      "cell_type": "markdown",
      "source": [
        "## 문서 단어 행렬"
      ],
      "metadata": {
        "id": "Tq2UiUW6KFrh"
      }
    },
    {
      "cell_type": "code",
      "source": [
        "from sklearn.feature_extraction.text import CountVectorizer\n",
        "\n",
        "corpus = [\"Think like a man of action and act like man of thoughts \",\n",
        "          \"Try not to become a man of success but rather try to become a man of value\"]\n",
        "\n",
        "vector = CountVectorizer(stop_words = 'english')\n",
        "bow = vector.fit_transform(corpus)\n",
        "\n",
        "print(bow.toarray())\n",
        "print(vector.vocabulary_)"
      ],
      "metadata": {
        "colab": {
          "base_uri": "https://localhost:8080/"
        },
        "id": "UTUbxvRNJgXu",
        "outputId": "9b031138-d218-4cbb-dee0-0769247bb032"
      },
      "execution_count": null,
      "outputs": [
        {
          "output_type": "stream",
          "name": "stdout",
          "text": [
            "[[1 1 2 2 0 1 1 0 0]\n",
            " [0 0 0 2 1 0 0 2 1]]\n",
            "{'think': 5, 'like': 2, 'man': 3, 'action': 1, 'act': 0, 'thoughts': 6, 'try': 7, 'success': 4, 'value': 8}\n"
          ]
        }
      ]
    },
    {
      "cell_type": "markdown",
      "source": [
        "## 어휘 빈도-문서 역빈도(TF-IDF) 분석"
      ],
      "metadata": {
        "id": "3I8H2S1pLtP3"
      }
    },
    {
      "cell_type": "code",
      "source": [
        "from sklearn.feature_extraction.text import TfidfVectorizer\n",
        "\n",
        "tfidv = TfidfVectorizer(stop_words = 'english').fit(corpus)\n",
        "\n",
        "print(tfidv.transform(corpus).toarray())\n",
        "print(tfidv.vocabulary_)"
      ],
      "metadata": {
        "colab": {
          "base_uri": "https://localhost:8080/"
        },
        "id": "tFtkQ_wdKvvw",
        "outputId": "3125e9cb-fe1c-4626-c306-db4ea8f2f0b5"
      },
      "execution_count": null,
      "outputs": [
        {
          "output_type": "stream",
          "name": "stdout",
          "text": [
            "[[0.3158336  0.3158336  0.6316672  0.44943642 0.         0.3158336\n",
            "  0.3158336  0.         0.        ]\n",
            " [0.         0.         0.         0.50232878 0.35300279 0.\n",
            "  0.         0.70600557 0.35300279]]\n",
            "{'think': 5, 'like': 2, 'man': 3, 'action': 1, 'act': 0, 'thoughts': 6, 'try': 7, 'success': 4, 'value': 8}\n"
          ]
        }
      ]
    },
    {
      "cell_type": "markdown",
      "source": [
        "### dataframe으로 변환"
      ],
      "metadata": {
        "id": "tmfpWnTNMhiN"
      }
    },
    {
      "cell_type": "code",
      "source": [
        "import pandas as pd\n",
        "\n",
        "columns = []\n",
        "for k, v in sorted(tfidv.vocabulary_.items(), key = lambda item: item[1]):\n",
        "  columns.append(k)\n",
        "pd.DataFrame(tfidv.transform(corpus).toarray(), columns = columns)"
      ],
      "metadata": {
        "colab": {
          "base_uri": "https://localhost:8080/",
          "height": 112
        },
        "id": "7rFyC76mMOea",
        "outputId": "6e26db34-9560-431e-ac27-8a82363207c3"
      },
      "execution_count": null,
      "outputs": [
        {
          "output_type": "execute_result",
          "data": {
            "text/html": [
              "\n",
              "  <div id=\"df-050ccba2-c8e3-4ec4-a71e-50c41ddab17e\">\n",
              "    <div class=\"colab-df-container\">\n",
              "      <div>\n",
              "<style scoped>\n",
              "    .dataframe tbody tr th:only-of-type {\n",
              "        vertical-align: middle;\n",
              "    }\n",
              "\n",
              "    .dataframe tbody tr th {\n",
              "        vertical-align: top;\n",
              "    }\n",
              "\n",
              "    .dataframe thead th {\n",
              "        text-align: right;\n",
              "    }\n",
              "</style>\n",
              "<table border=\"1\" class=\"dataframe\">\n",
              "  <thead>\n",
              "    <tr style=\"text-align: right;\">\n",
              "      <th></th>\n",
              "      <th>act</th>\n",
              "      <th>action</th>\n",
              "      <th>like</th>\n",
              "      <th>man</th>\n",
              "      <th>success</th>\n",
              "      <th>think</th>\n",
              "      <th>thoughts</th>\n",
              "      <th>try</th>\n",
              "      <th>value</th>\n",
              "    </tr>\n",
              "  </thead>\n",
              "  <tbody>\n",
              "    <tr>\n",
              "      <th>0</th>\n",
              "      <td>0.315834</td>\n",
              "      <td>0.315834</td>\n",
              "      <td>0.631667</td>\n",
              "      <td>0.449436</td>\n",
              "      <td>0.000000</td>\n",
              "      <td>0.315834</td>\n",
              "      <td>0.315834</td>\n",
              "      <td>0.000000</td>\n",
              "      <td>0.000000</td>\n",
              "    </tr>\n",
              "    <tr>\n",
              "      <th>1</th>\n",
              "      <td>0.000000</td>\n",
              "      <td>0.000000</td>\n",
              "      <td>0.000000</td>\n",
              "      <td>0.502329</td>\n",
              "      <td>0.353003</td>\n",
              "      <td>0.000000</td>\n",
              "      <td>0.000000</td>\n",
              "      <td>0.706006</td>\n",
              "      <td>0.353003</td>\n",
              "    </tr>\n",
              "  </tbody>\n",
              "</table>\n",
              "</div>\n",
              "      <button class=\"colab-df-convert\" onclick=\"convertToInteractive('df-050ccba2-c8e3-4ec4-a71e-50c41ddab17e')\"\n",
              "              title=\"Convert this dataframe to an interactive table.\"\n",
              "              style=\"display:none;\">\n",
              "        \n",
              "  <svg xmlns=\"http://www.w3.org/2000/svg\" height=\"24px\"viewBox=\"0 0 24 24\"\n",
              "       width=\"24px\">\n",
              "    <path d=\"M0 0h24v24H0V0z\" fill=\"none\"/>\n",
              "    <path d=\"M18.56 5.44l.94 2.06.94-2.06 2.06-.94-2.06-.94-.94-2.06-.94 2.06-2.06.94zm-11 1L8.5 8.5l.94-2.06 2.06-.94-2.06-.94L8.5 2.5l-.94 2.06-2.06.94zm10 10l.94 2.06.94-2.06 2.06-.94-2.06-.94-.94-2.06-.94 2.06-2.06.94z\"/><path d=\"M17.41 7.96l-1.37-1.37c-.4-.4-.92-.59-1.43-.59-.52 0-1.04.2-1.43.59L10.3 9.45l-7.72 7.72c-.78.78-.78 2.05 0 2.83L4 21.41c.39.39.9.59 1.41.59.51 0 1.02-.2 1.41-.59l7.78-7.78 2.81-2.81c.8-.78.8-2.07 0-2.86zM5.41 20L4 18.59l7.72-7.72 1.47 1.35L5.41 20z\"/>\n",
              "  </svg>\n",
              "      </button>\n",
              "      \n",
              "  <style>\n",
              "    .colab-df-container {\n",
              "      display:flex;\n",
              "      flex-wrap:wrap;\n",
              "      gap: 12px;\n",
              "    }\n",
              "\n",
              "    .colab-df-convert {\n",
              "      background-color: #E8F0FE;\n",
              "      border: none;\n",
              "      border-radius: 50%;\n",
              "      cursor: pointer;\n",
              "      display: none;\n",
              "      fill: #1967D2;\n",
              "      height: 32px;\n",
              "      padding: 0 0 0 0;\n",
              "      width: 32px;\n",
              "    }\n",
              "\n",
              "    .colab-df-convert:hover {\n",
              "      background-color: #E2EBFA;\n",
              "      box-shadow: 0px 1px 2px rgba(60, 64, 67, 0.3), 0px 1px 3px 1px rgba(60, 64, 67, 0.15);\n",
              "      fill: #174EA6;\n",
              "    }\n",
              "\n",
              "    [theme=dark] .colab-df-convert {\n",
              "      background-color: #3B4455;\n",
              "      fill: #D2E3FC;\n",
              "    }\n",
              "\n",
              "    [theme=dark] .colab-df-convert:hover {\n",
              "      background-color: #434B5C;\n",
              "      box-shadow: 0px 1px 3px 1px rgba(0, 0, 0, 0.15);\n",
              "      filter: drop-shadow(0px 1px 2px rgba(0, 0, 0, 0.3));\n",
              "      fill: #FFFFFF;\n",
              "    }\n",
              "  </style>\n",
              "\n",
              "      <script>\n",
              "        const buttonEl =\n",
              "          document.querySelector('#df-050ccba2-c8e3-4ec4-a71e-50c41ddab17e button.colab-df-convert');\n",
              "        buttonEl.style.display =\n",
              "          google.colab.kernel.accessAllowed ? 'block' : 'none';\n",
              "\n",
              "        async function convertToInteractive(key) {\n",
              "          const element = document.querySelector('#df-050ccba2-c8e3-4ec4-a71e-50c41ddab17e');\n",
              "          const dataTable =\n",
              "            await google.colab.kernel.invokeFunction('convertToInteractive',\n",
              "                                                     [key], {});\n",
              "          if (!dataTable) return;\n",
              "\n",
              "          const docLinkHtml = 'Like what you see? Visit the ' +\n",
              "            '<a target=\"_blank\" href=https://colab.research.google.com/notebooks/data_table.ipynb>data table notebook</a>'\n",
              "            + ' to learn more about interactive tables.';\n",
              "          element.innerHTML = '';\n",
              "          dataTable['output_type'] = 'display_data';\n",
              "          await google.colab.output.renderOutput(dataTable, element);\n",
              "          const docLink = document.createElement('div');\n",
              "          docLink.innerHTML = docLinkHtml;\n",
              "          element.appendChild(docLink);\n",
              "        }\n",
              "      </script>\n",
              "    </div>\n",
              "  </div>\n",
              "  "
            ],
            "text/plain": [
              "        act    action      like  ...  thoughts       try     value\n",
              "0  0.315834  0.315834  0.631667  ...  0.315834  0.000000  0.000000\n",
              "1  0.000000  0.000000  0.000000  ...  0.000000  0.706006  0.353003\n",
              "\n",
              "[2 rows x 9 columns]"
            ]
          },
          "metadata": {},
          "execution_count": 168
        }
      ]
    },
    {
      "cell_type": "code",
      "source": [
        ""
      ],
      "metadata": {
        "id": "Q5Mi6PRSM-vY"
      },
      "execution_count": null,
      "outputs": []
    }
  ]
}