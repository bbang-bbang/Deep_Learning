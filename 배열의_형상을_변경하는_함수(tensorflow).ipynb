{
  "nbformat": 4,
  "nbformat_minor": 0,
  "metadata": {
    "colab": {
      "name": "배열의 형상을 변경하는 함수(tensorflow).ipynb",
      "provenance": [],
      "collapsed_sections": [
        "TxAKWYbkuCS-",
        "bXb4CpsP19Xe"
      ],
      "machine_shape": "hm"
    },
    "kernelspec": {
      "name": "python3",
      "display_name": "Python 3"
    },
    "language_info": {
      "name": "python"
    }
  },
  "cells": [
    {
      "cell_type": "markdown",
      "source": [
        "# reshape"
      ],
      "metadata": {
        "id": "W4ft06qMlSTi"
      }
    },
    {
      "cell_type": "code",
      "execution_count": 101,
      "metadata": {
        "id": "gJJkh_Gmi1Aj"
      },
      "outputs": [],
      "source": [
        "import numpy as np\n",
        "x = np.arange(20)"
      ]
    },
    {
      "cell_type": "code",
      "source": [
        "# x를 (4,5) 2차원 배열로 리턴\n",
        "y_2 = x.reshape(4, 5)\n",
        "print(y_2)"
      ],
      "metadata": {
        "colab": {
          "base_uri": "https://localhost:8080/"
        },
        "id": "ndpXIkm4i6gV",
        "outputId": "0028d0b5-32f9-4e10-81a1-7940a771dac5"
      },
      "execution_count": 102,
      "outputs": [
        {
          "output_type": "stream",
          "name": "stdout",
          "text": [
            "[[ 0  1  2  3  4]\n",
            " [ 5  6  7  8  9]\n",
            " [10 11 12 13 14]\n",
            " [15 16 17 18 19]]\n"
          ]
        }
      ]
    },
    {
      "cell_type": "code",
      "source": [
        "# x를 (4,5) 3차원 배열로 리턴\n",
        "y_3 = x.reshape(2,2,5)\n",
        "print(y_3)"
      ],
      "metadata": {
        "colab": {
          "base_uri": "https://localhost:8080/"
        },
        "id": "cPmyAQDzmMbn",
        "outputId": "600eb302-45d2-4cd6-83ba-9a03b76e67c6"
      },
      "execution_count": 103,
      "outputs": [
        {
          "output_type": "stream",
          "name": "stdout",
          "text": [
            "[[[ 0  1  2  3  4]\n",
            "  [ 5  6  7  8  9]]\n",
            "\n",
            " [[10 11 12 13 14]\n",
            "  [15 16 17 18 19]]]\n"
          ]
        }
      ]
    },
    {
      "cell_type": "markdown",
      "source": [
        "## reshape이 -1인 경우"
      ],
      "metadata": {
        "id": "A2yDUtAsneSF"
      }
    },
    {
      "cell_type": "code",
      "source": [
        "import numpy as np\n",
        "x = np.arange(20)\n",
        "y = x.reshape(4, -1)\n",
        "print(y)"
      ],
      "metadata": {
        "colab": {
          "base_uri": "https://localhost:8080/"
        },
        "id": "_2VEOAxxnWFG",
        "outputId": "910be803-0e0d-4628-f245-3d7319e0d989"
      },
      "execution_count": 104,
      "outputs": [
        {
          "output_type": "stream",
          "name": "stdout",
          "text": [
            "[[ 0  1  2  3  4]\n",
            " [ 5  6  7  8  9]\n",
            " [10 11 12 13 14]\n",
            " [15 16 17 18 19]]\n"
          ]
        }
      ]
    },
    {
      "cell_type": "code",
      "source": [
        "# 3차원\n",
        "y = x.reshape(2,5, -1)\n",
        "print(y)"
      ],
      "metadata": {
        "colab": {
          "base_uri": "https://localhost:8080/"
        },
        "id": "VjMfBkrypIDm",
        "outputId": "2b40de1b-1210-4c12-a128-03156d4950ee"
      },
      "execution_count": 105,
      "outputs": [
        {
          "output_type": "stream",
          "name": "stdout",
          "text": [
            "[[[ 0  1]\n",
            "  [ 2  3]\n",
            "  [ 4  5]\n",
            "  [ 6  7]\n",
            "  [ 8  9]]\n",
            "\n",
            " [[10 11]\n",
            "  [12 13]\n",
            "  [14 15]\n",
            "  [16 17]\n",
            "  [18 19]]]\n"
          ]
        }
      ]
    },
    {
      "cell_type": "markdown",
      "source": [
        "### for 구문으로 만들어보기"
      ],
      "metadata": {
        "id": "airhZCXhJR-H"
      }
    },
    {
      "cell_type": "code",
      "source": [
        "org =[[ 0,  1,  2,  3,  4], [ 5,  6  ,7,  8 , 9], [10 ,11 ,12 ,13 ,14], [15 ,16, 17 ,18, 19]]\n",
        "\n",
        "org_1=[]\n",
        "for i in range(len(org)):\n",
        "  for j in range(len(org[i])) :\n",
        "    org_1.append(org[i][j])\n",
        "print(org_1)    "
      ],
      "metadata": {
        "colab": {
          "base_uri": "https://localhost:8080/"
        },
        "id": "QkB3QeGiD6xk",
        "outputId": "0e404b9b-e061-493a-e73c-d824bff1369b"
      },
      "execution_count": 106,
      "outputs": [
        {
          "output_type": "stream",
          "name": "stdout",
          "text": [
            "[0, 1, 2, 3, 4, 5, 6, 7, 8, 9, 10, 11, 12, 13, 14, 15, 16, 17, 18, 19]\n"
          ]
        }
      ]
    },
    {
      "cell_type": "code",
      "source": [
        "org =[[ 0,  1,  2,  3,  4], [ 5,  6  ,7,  8 , 9], [10 ,11 ,12 ,13 ,14], [15 ,16, 17 ,18, 19]]\n",
        "\n",
        "at = [[] for i in range(2)]\n",
        "org_1 = at\n",
        "\n",
        "for i in range(0,4):  \n",
        "  if i == 0 or i == 1:\n",
        "    for j in range(0,5):\n",
        "        org_1[0].append(org[i][j])\n",
        "  else:\n",
        "    for j in range(0,5):\n",
        "        org_1[1].append(org[i][j])\n",
        "print(org_1)"
      ],
      "metadata": {
        "colab": {
          "base_uri": "https://localhost:8080/"
        },
        "id": "S7ieHpriJlbM",
        "outputId": "4754fff9-0acf-4478-90ac-606d7652da6b"
      },
      "execution_count": 140,
      "outputs": [
        {
          "output_type": "stream",
          "name": "stdout",
          "text": [
            "[[0, 1, 2, 3, 4, 5, 6, 7, 8, 9], [10, 11, 12, 13, 14, 15, 16, 17, 18, 19]]\n"
          ]
        }
      ]
    },
    {
      "cell_type": "markdown",
      "source": [
        "# squeeze\n",
        "* 차원을 압축하는 함수(expand의 반대)\n",
        "* 크기가 1인 차원만 제거하는 함수"
      ],
      "metadata": {
        "id": "TxAKWYbkuCS-"
      }
    },
    {
      "cell_type": "code",
      "source": [
        "import numpy as np\n",
        "x = np.array([[[0], [1], [2]]])\n",
        "x.shape\n",
        "np.squeeze(x).shape"
      ],
      "metadata": {
        "colab": {
          "base_uri": "https://localhost:8080/"
        },
        "id": "4Edj9T63u8uE",
        "outputId": "9b38a9e3-33bf-41eb-def6-5a77c7e3678d"
      },
      "execution_count": 8,
      "outputs": [
        {
          "output_type": "execute_result",
          "data": {
            "text/plain": [
              "(3,)"
            ]
          },
          "metadata": {},
          "execution_count": 8
        }
      ]
    },
    {
      "cell_type": "code",
      "source": [
        "np.squeeze(x, axis = 0)"
      ],
      "metadata": {
        "colab": {
          "base_uri": "https://localhost:8080/"
        },
        "id": "p7SGjbw6tr78",
        "outputId": "2f1f757d-57ad-4048-d9b9-97b7f4021852"
      },
      "execution_count": 11,
      "outputs": [
        {
          "output_type": "execute_result",
          "data": {
            "text/plain": [
              "array([[0],\n",
              "       [1],\n",
              "       [2]])"
            ]
          },
          "metadata": {},
          "execution_count": 11
        }
      ]
    },
    {
      "cell_type": "markdown",
      "source": [
        "# expand_dims \n",
        "* 차원을 확장해주는 함수"
      ],
      "metadata": {
        "id": "bXb4CpsP19Xe"
      }
    },
    {
      "cell_type": "code",
      "source": [
        "import numpy as np\n",
        "x = np.array([3,4])\n",
        "x.shape"
      ],
      "metadata": {
        "colab": {
          "base_uri": "https://localhost:8080/"
        },
        "id": "DnO_lWT4vYwb",
        "outputId": "efc0e8d3-12d9-42ed-dbfb-e8a4c93f1fee"
      },
      "execution_count": 65,
      "outputs": [
        {
          "output_type": "execute_result",
          "data": {
            "text/plain": [
              "(2,)"
            ]
          },
          "metadata": {},
          "execution_count": 65
        }
      ]
    },
    {
      "cell_type": "code",
      "source": [
        "y = np.expand_dims(x, axis = 1)\n",
        "y.shape"
      ],
      "metadata": {
        "colab": {
          "base_uri": "https://localhost:8080/"
        },
        "id": "EsaS4q_xHZtz",
        "outputId": "407f4f85-1ffd-4c61-d14c-7e2785a1df30"
      },
      "execution_count": 70,
      "outputs": [
        {
          "output_type": "execute_result",
          "data": {
            "text/plain": [
              "(2, 1)"
            ]
          },
          "metadata": {},
          "execution_count": 70
        }
      ]
    },
    {
      "cell_type": "code",
      "source": [
        "# 튜플을 사용하여 2개의 축에 차원을 한꺼번에 추가\n",
        "y = np.expand_dims(x, axis = (0,1))\n",
        "y.shape"
      ],
      "metadata": {
        "colab": {
          "base_uri": "https://localhost:8080/"
        },
        "id": "WPdNOB2AHj9M",
        "outputId": "96527528-f2d0-4d9c-8908-30a63e6ce543"
      },
      "execution_count": 72,
      "outputs": [
        {
          "output_type": "execute_result",
          "data": {
            "text/plain": [
              "(1, 1, 2)"
            ]
          },
          "metadata": {},
          "execution_count": 72
        }
      ]
    },
    {
      "cell_type": "code",
      "source": [
        "# 1열, 2개가 하나씩\n",
        "y = np.expand_dims(x, axis = (0,2))\n",
        "print(y)\n",
        "print(y.shape)"
      ],
      "metadata": {
        "colab": {
          "base_uri": "https://localhost:8080/"
        },
        "id": "GF-kcw0zIOAy",
        "outputId": "78d72d12-3f17-40e8-f492-4dc81d351edb"
      },
      "execution_count": 75,
      "outputs": [
        {
          "output_type": "stream",
          "name": "stdout",
          "text": [
            "[[[3]\n",
            "  [4]]]\n",
            "(1, 2, 1)\n"
          ]
        }
      ]
    },
    {
      "cell_type": "code",
      "source": [
        ""
      ],
      "metadata": {
        "id": "bWO2rx-MIlga"
      },
      "execution_count": null,
      "outputs": []
    }
  ]
}