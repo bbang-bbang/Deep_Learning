{
  "nbformat": 4,
  "nbformat_minor": 0,
  "metadata": {
    "colab": {
      "name": "구글 주식 가격 예측(2022_01_11).ipynb",
      "provenance": [],
      "machine_shape": "hm"
    },
    "kernelspec": {
      "name": "python3",
      "display_name": "Python 3"
    },
    "language_info": {
      "name": "python"
    },
    "accelerator": "GPU"
  },
  "cells": [
    {
      "cell_type": "markdown",
      "source": [
        "# 데이터 경로 설정"
      ],
      "metadata": {
        "id": "ozBYjQGzWHSU"
      }
    },
    {
      "cell_type": "code",
      "execution_count": 1,
      "metadata": {
        "id": "GsIzrVhjzCAi"
      },
      "outputs": [],
      "source": [
        "import os \n",
        "os.environ['KAGGLE_USENAME'] = \"bangeunho\"\n",
        "os.environ['KAGGLE_KEY'] = \"01c3b064a27b67453aa91f6cf3b3622e\""
      ]
    },
    {
      "cell_type": "code",
      "source": [
        "!pip install kaggle"
      ],
      "metadata": {
        "colab": {
          "base_uri": "https://localhost:8080/"
        },
        "id": "R-NgajQOUUZH",
        "outputId": "dfa5a86c-4105-42a8-9982-b02e096be8a5"
      },
      "execution_count": 2,
      "outputs": [
        {
          "output_type": "stream",
          "name": "stdout",
          "text": [
            "Requirement already satisfied: kaggle in /usr/local/lib/python3.7/dist-packages (1.5.12)\n",
            "Requirement already satisfied: urllib3 in /usr/local/lib/python3.7/dist-packages (from kaggle) (1.24.3)\n",
            "Requirement already satisfied: requests in /usr/local/lib/python3.7/dist-packages (from kaggle) (2.23.0)\n",
            "Requirement already satisfied: certifi in /usr/local/lib/python3.7/dist-packages (from kaggle) (2021.10.8)\n",
            "Requirement already satisfied: six>=1.10 in /usr/local/lib/python3.7/dist-packages (from kaggle) (1.15.0)\n",
            "Requirement already satisfied: tqdm in /usr/local/lib/python3.7/dist-packages (from kaggle) (4.62.3)\n",
            "Requirement already satisfied: python-dateutil in /usr/local/lib/python3.7/dist-packages (from kaggle) (2.8.2)\n",
            "Requirement already satisfied: python-slugify in /usr/local/lib/python3.7/dist-packages (from kaggle) (5.0.2)\n",
            "Requirement already satisfied: text-unidecode>=1.3 in /usr/local/lib/python3.7/dist-packages (from python-slugify->kaggle) (1.3)\n",
            "Requirement already satisfied: chardet<4,>=3.0.2 in /usr/local/lib/python3.7/dist-packages (from requests->kaggle) (3.0.4)\n",
            "Requirement already satisfied: idna<3,>=2.5 in /usr/local/lib/python3.7/dist-packages (from requests->kaggle) (2.10)\n"
          ]
        }
      ]
    },
    {
      "cell_type": "code",
      "source": [
        "!cp /content/kaggle.json ~/.kaggle/kaggle.json"
      ],
      "metadata": {
        "id": "rYv9fiJPzP3y"
      },
      "execution_count": 10,
      "outputs": []
    },
    {
      "cell_type": "code",
      "source": [
        "! kaggle datasets download -d medharawat/google-stock-price"
      ],
      "metadata": {
        "id": "5s6ZNoQ8zVCy",
        "colab": {
          "base_uri": "https://localhost:8080/"
        },
        "outputId": "ae8b2de0-a879-4314-bfc2-abce58f4d009"
      },
      "execution_count": 11,
      "outputs": [
        {
          "output_type": "stream",
          "name": "stdout",
          "text": [
            "Warning: Your Kaggle API key is readable by other users on this system! To fix this, you can run 'chmod 600 /root/.kaggle/kaggle.json'\n",
            "Downloading google-stock-price.zip to /content\n",
            "  0% 0.00/23.4k [00:00<?, ?B/s]\n",
            "100% 23.4k/23.4k [00:00<00:00, 8.90MB/s]\n"
          ]
        }
      ]
    },
    {
      "cell_type": "code",
      "source": [
        "!unzip /content/google-stock-price.zip"
      ],
      "metadata": {
        "colab": {
          "base_uri": "https://localhost:8080/"
        },
        "id": "k5teVTJxV7i4",
        "outputId": "a9ca2d98-5edb-48c7-8981-6bc111725c7c"
      },
      "execution_count": 14,
      "outputs": [
        {
          "output_type": "stream",
          "name": "stdout",
          "text": [
            "Archive:  /content/google-stock-price.zip\n",
            "  inflating: Google_Stock_Price_Test.csv  \n",
            "  inflating: Google_Stock_Price_Train.csv  \n"
          ]
        }
      ]
    },
    {
      "cell_type": "markdown",
      "source": [
        "# 데이터 불러오기"
      ],
      "metadata": {
        "id": "gU2_1Lt8WLpw"
      }
    },
    {
      "cell_type": "code",
      "source": [
        "import pandas as pd\n",
        "import numpy as np\n",
        "import matplotlib.pyplot as plt\n",
        "df = pd.read_csv('/content/Google_Stock_Price_Train.csv')"
      ],
      "metadata": {
        "id": "vDxyz5F7VbFV"
      },
      "execution_count": 15,
      "outputs": []
    },
    {
      "cell_type": "code",
      "source": [
        "print(df.tail())\n",
        "print(len(df))"
      ],
      "metadata": {
        "colab": {
          "base_uri": "https://localhost:8080/"
        },
        "id": "aInTn9AzV3Nr",
        "outputId": "00e1d4a2-2b57-49cd-a781-2619fcd6d3e7"
      },
      "execution_count": 16,
      "outputs": [
        {
          "output_type": "stream",
          "name": "stdout",
          "text": [
            "            Date    Open    High     Low   Close     Volume\n",
            "1253  12/23/2016  790.90  792.74  787.28  789.91    623,400\n",
            "1254  12/27/2016  790.68  797.86  787.66  791.55    789,100\n",
            "1255  12/28/2016  793.70  794.23  783.20  785.05  1,153,800\n",
            "1256  12/29/2016  783.33  785.93  778.92  782.79    744,300\n",
            "1257  12/30/2016  782.75  782.78  770.41  771.82  1,770,000\n",
            "1258\n"
          ]
        }
      ]
    },
    {
      "cell_type": "markdown",
      "source": [
        "# 결측치 파악"
      ],
      "metadata": {
        "id": "EWyZe8xRroNM"
      }
    },
    {
      "cell_type": "markdown",
      "source": [
        "## null 값 파악"
      ],
      "metadata": {
        "id": "rQItdUNCibST"
      }
    },
    {
      "cell_type": "code",
      "source": [
        "df.isnull().sum()"
      ],
      "metadata": {
        "colab": {
          "base_uri": "https://localhost:8080/"
        },
        "id": "p7uERwsPrjV6",
        "outputId": "09d0fd82-d8e4-4925-fadd-b70b29ac78c3"
      },
      "execution_count": 17,
      "outputs": [
        {
          "output_type": "execute_result",
          "data": {
            "text/plain": [
              "Date      0\n",
              "Open      0\n",
              "High      0\n",
              "Low       0\n",
              "Close     0\n",
              "Volume    0\n",
              "dtype: int64"
            ]
          },
          "metadata": {},
          "execution_count": 17
        }
      ]
    },
    {
      "cell_type": "markdown",
      "source": [
        "## Date 제거"
      ],
      "metadata": {
        "id": "uGPYlrXWiZNt"
      }
    },
    {
      "cell_type": "code",
      "source": [
        "df = df.drop(columns= ['Date'])"
      ],
      "metadata": {
        "id": "3YrXU3QffKav"
      },
      "execution_count": null,
      "outputs": []
    },
    {
      "cell_type": "code",
      "source": [
        "df"
      ],
      "metadata": {
        "colab": {
          "base_uri": "https://localhost:8080/",
          "height": 424
        },
        "id": "2-56S05DfKYb",
        "outputId": "7eb1f284-356a-4f51-924f-2837b79d606e"
      },
      "execution_count": 63,
      "outputs": [
        {
          "output_type": "execute_result",
          "data": {
            "text/html": [
              "\n",
              "  <div id=\"df-d59528e5-68b6-4c33-bd38-87589383b859\">\n",
              "    <div class=\"colab-df-container\">\n",
              "      <div>\n",
              "<style scoped>\n",
              "    .dataframe tbody tr th:only-of-type {\n",
              "        vertical-align: middle;\n",
              "    }\n",
              "\n",
              "    .dataframe tbody tr th {\n",
              "        vertical-align: top;\n",
              "    }\n",
              "\n",
              "    .dataframe thead th {\n",
              "        text-align: right;\n",
              "    }\n",
              "</style>\n",
              "<table border=\"1\" class=\"dataframe\">\n",
              "  <thead>\n",
              "    <tr style=\"text-align: right;\">\n",
              "      <th></th>\n",
              "      <th>Open</th>\n",
              "      <th>High</th>\n",
              "      <th>Low</th>\n",
              "      <th>Close</th>\n",
              "      <th>Volume</th>\n",
              "    </tr>\n",
              "  </thead>\n",
              "  <tbody>\n",
              "    <tr>\n",
              "      <th>0</th>\n",
              "      <td>325.25</td>\n",
              "      <td>332.83</td>\n",
              "      <td>324.97</td>\n",
              "      <td>663.59</td>\n",
              "      <td>7,380,500</td>\n",
              "    </tr>\n",
              "    <tr>\n",
              "      <th>1</th>\n",
              "      <td>331.27</td>\n",
              "      <td>333.87</td>\n",
              "      <td>329.08</td>\n",
              "      <td>666.45</td>\n",
              "      <td>5,749,400</td>\n",
              "    </tr>\n",
              "    <tr>\n",
              "      <th>2</th>\n",
              "      <td>329.83</td>\n",
              "      <td>330.75</td>\n",
              "      <td>326.89</td>\n",
              "      <td>657.21</td>\n",
              "      <td>6,590,300</td>\n",
              "    </tr>\n",
              "    <tr>\n",
              "      <th>3</th>\n",
              "      <td>328.34</td>\n",
              "      <td>328.77</td>\n",
              "      <td>323.68</td>\n",
              "      <td>648.24</td>\n",
              "      <td>5,405,900</td>\n",
              "    </tr>\n",
              "    <tr>\n",
              "      <th>4</th>\n",
              "      <td>322.04</td>\n",
              "      <td>322.29</td>\n",
              "      <td>309.46</td>\n",
              "      <td>620.76</td>\n",
              "      <td>11,688,800</td>\n",
              "    </tr>\n",
              "    <tr>\n",
              "      <th>...</th>\n",
              "      <td>...</td>\n",
              "      <td>...</td>\n",
              "      <td>...</td>\n",
              "      <td>...</td>\n",
              "      <td>...</td>\n",
              "    </tr>\n",
              "    <tr>\n",
              "      <th>1253</th>\n",
              "      <td>790.90</td>\n",
              "      <td>792.74</td>\n",
              "      <td>787.28</td>\n",
              "      <td>789.91</td>\n",
              "      <td>623,400</td>\n",
              "    </tr>\n",
              "    <tr>\n",
              "      <th>1254</th>\n",
              "      <td>790.68</td>\n",
              "      <td>797.86</td>\n",
              "      <td>787.66</td>\n",
              "      <td>791.55</td>\n",
              "      <td>789,100</td>\n",
              "    </tr>\n",
              "    <tr>\n",
              "      <th>1255</th>\n",
              "      <td>793.70</td>\n",
              "      <td>794.23</td>\n",
              "      <td>783.20</td>\n",
              "      <td>785.05</td>\n",
              "      <td>1,153,800</td>\n",
              "    </tr>\n",
              "    <tr>\n",
              "      <th>1256</th>\n",
              "      <td>783.33</td>\n",
              "      <td>785.93</td>\n",
              "      <td>778.92</td>\n",
              "      <td>782.79</td>\n",
              "      <td>744,300</td>\n",
              "    </tr>\n",
              "    <tr>\n",
              "      <th>1257</th>\n",
              "      <td>782.75</td>\n",
              "      <td>782.78</td>\n",
              "      <td>770.41</td>\n",
              "      <td>771.82</td>\n",
              "      <td>1,770,000</td>\n",
              "    </tr>\n",
              "  </tbody>\n",
              "</table>\n",
              "<p>1258 rows × 5 columns</p>\n",
              "</div>\n",
              "      <button class=\"colab-df-convert\" onclick=\"convertToInteractive('df-d59528e5-68b6-4c33-bd38-87589383b859')\"\n",
              "              title=\"Convert this dataframe to an interactive table.\"\n",
              "              style=\"display:none;\">\n",
              "        \n",
              "  <svg xmlns=\"http://www.w3.org/2000/svg\" height=\"24px\"viewBox=\"0 0 24 24\"\n",
              "       width=\"24px\">\n",
              "    <path d=\"M0 0h24v24H0V0z\" fill=\"none\"/>\n",
              "    <path d=\"M18.56 5.44l.94 2.06.94-2.06 2.06-.94-2.06-.94-.94-2.06-.94 2.06-2.06.94zm-11 1L8.5 8.5l.94-2.06 2.06-.94-2.06-.94L8.5 2.5l-.94 2.06-2.06.94zm10 10l.94 2.06.94-2.06 2.06-.94-2.06-.94-.94-2.06-.94 2.06-2.06.94z\"/><path d=\"M17.41 7.96l-1.37-1.37c-.4-.4-.92-.59-1.43-.59-.52 0-1.04.2-1.43.59L10.3 9.45l-7.72 7.72c-.78.78-.78 2.05 0 2.83L4 21.41c.39.39.9.59 1.41.59.51 0 1.02-.2 1.41-.59l7.78-7.78 2.81-2.81c.8-.78.8-2.07 0-2.86zM5.41 20L4 18.59l7.72-7.72 1.47 1.35L5.41 20z\"/>\n",
              "  </svg>\n",
              "      </button>\n",
              "      \n",
              "  <style>\n",
              "    .colab-df-container {\n",
              "      display:flex;\n",
              "      flex-wrap:wrap;\n",
              "      gap: 12px;\n",
              "    }\n",
              "\n",
              "    .colab-df-convert {\n",
              "      background-color: #E8F0FE;\n",
              "      border: none;\n",
              "      border-radius: 50%;\n",
              "      cursor: pointer;\n",
              "      display: none;\n",
              "      fill: #1967D2;\n",
              "      height: 32px;\n",
              "      padding: 0 0 0 0;\n",
              "      width: 32px;\n",
              "    }\n",
              "\n",
              "    .colab-df-convert:hover {\n",
              "      background-color: #E2EBFA;\n",
              "      box-shadow: 0px 1px 2px rgba(60, 64, 67, 0.3), 0px 1px 3px 1px rgba(60, 64, 67, 0.15);\n",
              "      fill: #174EA6;\n",
              "    }\n",
              "\n",
              "    [theme=dark] .colab-df-convert {\n",
              "      background-color: #3B4455;\n",
              "      fill: #D2E3FC;\n",
              "    }\n",
              "\n",
              "    [theme=dark] .colab-df-convert:hover {\n",
              "      background-color: #434B5C;\n",
              "      box-shadow: 0px 1px 3px 1px rgba(0, 0, 0, 0.15);\n",
              "      filter: drop-shadow(0px 1px 2px rgba(0, 0, 0, 0.3));\n",
              "      fill: #FFFFFF;\n",
              "    }\n",
              "  </style>\n",
              "\n",
              "      <script>\n",
              "        const buttonEl =\n",
              "          document.querySelector('#df-d59528e5-68b6-4c33-bd38-87589383b859 button.colab-df-convert');\n",
              "        buttonEl.style.display =\n",
              "          google.colab.kernel.accessAllowed ? 'block' : 'none';\n",
              "\n",
              "        async function convertToInteractive(key) {\n",
              "          const element = document.querySelector('#df-d59528e5-68b6-4c33-bd38-87589383b859');\n",
              "          const dataTable =\n",
              "            await google.colab.kernel.invokeFunction('convertToInteractive',\n",
              "                                                     [key], {});\n",
              "          if (!dataTable) return;\n",
              "\n",
              "          const docLinkHtml = 'Like what you see? Visit the ' +\n",
              "            '<a target=\"_blank\" href=https://colab.research.google.com/notebooks/data_table.ipynb>data table notebook</a>'\n",
              "            + ' to learn more about interactive tables.';\n",
              "          element.innerHTML = '';\n",
              "          dataTable['output_type'] = 'display_data';\n",
              "          await google.colab.output.renderOutput(dataTable, element);\n",
              "          const docLink = document.createElement('div');\n",
              "          docLink.innerHTML = docLinkHtml;\n",
              "          element.appendChild(docLink);\n",
              "        }\n",
              "      </script>\n",
              "    </div>\n",
              "  </div>\n",
              "  "
            ],
            "text/plain": [
              "        Open    High     Low   Close      Volume\n",
              "0     325.25  332.83  324.97  663.59   7,380,500\n",
              "1     331.27  333.87  329.08  666.45   5,749,400\n",
              "2     329.83  330.75  326.89  657.21   6,590,300\n",
              "3     328.34  328.77  323.68  648.24   5,405,900\n",
              "4     322.04  322.29  309.46  620.76  11,688,800\n",
              "...      ...     ...     ...     ...         ...\n",
              "1253  790.90  792.74  787.28  789.91     623,400\n",
              "1254  790.68  797.86  787.66  791.55     789,100\n",
              "1255  793.70  794.23  783.20  785.05   1,153,800\n",
              "1256  783.33  785.93  778.92  782.79     744,300\n",
              "1257  782.75  782.78  770.41  771.82   1,770,000\n",
              "\n",
              "[1258 rows x 5 columns]"
            ]
          },
          "metadata": {},
          "execution_count": 63
        }
      ]
    },
    {
      "cell_type": "markdown",
      "source": [
        "# 각 컬럼 분포 보기"
      ],
      "metadata": {
        "id": "p2ccO4dKj6F1"
      }
    },
    {
      "cell_type": "code",
      "source": [
        "for i in range(len(df.columns)):\n",
        "    print(df.columns[i])\n",
        "    plt.hist(df.iloc[:,i], bins=1000)\n",
        "    plt.show()"
      ],
      "metadata": {
        "colab": {
          "base_uri": "https://localhost:8080/",
          "height": 1000
        },
        "id": "UoCUaPnHj5aO",
        "outputId": "5d07e58b-1816-49dc-ef98-df88f3015674"
      },
      "execution_count": 64,
      "outputs": [
        {
          "output_type": "stream",
          "name": "stdout",
          "text": [
            "Open\n"
          ]
        },
        {
          "output_type": "display_data",
          "data": {
            "image/png": "[encoded data removed]",
            "text/plain": [
              "<Figure size 432x288 with 1 Axes>"
            ]
          },
          "metadata": {
            "needs_background": "light"
          }
        },
        {
          "output_type": "stream",
          "name": "stdout",
          "text": [
            "High\n"
          ]
        },
        {
          "output_type": "display_data",
          "data": {
            "image/png": "[encoded data removed]",
            "text/plain": [
              "<Figure size 432x288 with 1 Axes>"
            ]
          },
          "metadata": {
            "needs_background": "light"
          }
        },
        {
          "output_type": "stream",
          "name": "stdout",
          "text": [
            "Low\n"
          ]
        },
        {
          "output_type": "display_data",
          "data": {
            "image/png": "[encoded data removed]",
            "text/plain": [
              "<Figure size 432x288 with 1 Axes>"
            ]
          },
          "metadata": {
            "needs_background": "light"
          }
        },
        {
          "output_type": "stream",
          "name": "stdout",
          "text": [
            "Close\n"
          ]
        },
        {
          "output_type": "display_data",
          "data": {
            "image/png": "[encoded data removed]",
            "text/plain": [
              "<Figure size 432x288 with 1 Axes>"
            ]
          },
          "metadata": {
            "needs_background": "light"
          }
        },
        {
          "output_type": "stream",
          "name": "stdout",
          "text": [
            "Volume\n"
          ]
        },
        {
          "output_type": "display_data",
          "data": {
            "image/png": "[encoded data removed]",
            "text/plain": [
              "<Figure size 432x288 with 1 Axes>"
            ]
          },
          "metadata": {
            "needs_background": "light"
          }
        }
      ]
    },
    {
      "cell_type": "code",
      "source": [
        "raw_data = df.to_numpy()\n",
        "print(raw_data.shape)"
      ],
      "metadata": {
        "colab": {
          "base_uri": "https://localhost:8080/"
        },
        "id": "OhZTDPOuWjTO",
        "outputId": "e4a744d0-34e6-4165-c332-556add650875"
      },
      "execution_count": 18,
      "outputs": [
        {
          "output_type": "stream",
          "name": "stdout",
          "text": [
            "(1258, 6)\n"
          ]
        }
      ]
    },
    {
      "cell_type": "markdown",
      "metadata": {
        "id": "37eayrO3y-3K"
      },
      "source": [
        "# 파라매터 설정"
      ]
    },
    {
      "cell_type": "code",
      "execution_count": 54,
      "metadata": {
        "id": "F2iE0M7Hy6Q6"
      },
      "outputs": [],
      "source": [
        "SEQUENCE_LENGTH = 30* 20\n",
        "OFFSET = 30*20\n",
        "BATCH_SIZE = 30\n",
        "SAMPLING_COUNT = 1500 "
      ]
    },
    {
      "cell_type": "markdown",
      "metadata": {
        "id": "c0LQqW08jtvW"
      },
      "source": [
        "# by Data Sampling"
      ]
    },
    {
      "cell_type": "markdown",
      "metadata": {
        "id": "dUZQebpeyRdk"
      },
      "source": [
        "## 샘플링"
      ]
    },
    {
      "cell_type": "code",
      "execution_count": 55,
      "metadata": {
        "id": "r7NQikGPipTM"
      },
      "outputs": [],
      "source": [
        "raw_x = []\n",
        "raw_y = []\n",
        "\n",
        "for j in range(SAMPLING_COUNT):\n",
        "  i = np.random.randint(len(numbers)-SEQUENCE_LENGTH-OFFSET)\n",
        "  if i+SEQUENCE_LENGTH+OFFSET >= len(numbers): break\n",
        "  raw_x.append(numbers[i:i+SEQUENCE_LENGTH,:])\n",
        "  raw_y.append(numbers[i+SEQUENCE_LENGTH+OFFSET-1,:])\n",
        "#              0         1              \n",
        "#              01234567890123456789\n",
        "# numbers[0] = 12345678901234567890\n",
        "#                 i = 3\n",
        "#                 <-x->   = [3:8] = 45678\n",
        "#                      y  = [8]   = 9\n",
        "\n"
      ]
    },
    {
      "cell_type": "code",
      "execution_count": 56,
      "metadata": {
        "colab": {
          "base_uri": "https://localhost:8080/"
        },
        "id": "2dT4KkJrkRbo",
        "outputId": "b8d5071d-49d8-458e-e993-c4861ebd31f0"
      },
      "outputs": [
        {
          "output_type": "stream",
          "name": "stdout",
          "text": [
            "[['3/9/2012' 302.84 304.81 298.88 '598.61' '5,361,100']\n",
            " ['3/12/2012' 298.88 302.37 298.51 '603.49' '3,350,400']\n",
            " ['3/13/2012' 303.24 307.77 301.64 '616.09' '4,508,300']\n",
            " ...\n",
            " ['7/25/2014' 588.78 590.24 585.42 '587.41' '932,400']\n",
            " ['7/28/2014' 586.46 590.88 583.15 '588.98' '986,800']\n",
            " ['7/29/2014' 587.14 588.09 581.92 '584.01' '1,349,800']]\n",
            "['12/13/2016' 793.9 804.38 793.34 '796.1' '2,145,200']\n",
            "\n",
            "[['1/10/2012' 313.7 315.72 307.3 '621.43' '8,824,000']\n",
            " ['1/11/2012' 310.59 313.52 309.4 '624.25' '4,817,800']\n",
            " ['1/12/2012' 314.43 315.26 312.08 '627.92' '3,764,400']\n",
            " ...\n",
            " ['5/28/2014' 563.02 566.29 559.46 '560.14' '1,652,000']\n",
            " ['5/29/2014' 561.81 562.46 557.18 '558.55' '1,354,100']\n",
            " ['5/30/2014' 559.26 559.81 554.39 '558.36' '1,771,100']]\n",
            "['10/14/2016' 781.65 783.95 776.0 '778.53' '852,500']\n"
          ]
        }
      ],
      "source": [
        "print(raw_x[0])\n",
        "print(raw_y[0])\n",
        "print()\n",
        "print(raw_x[1])\n",
        "print(raw_y[1])"
      ]
    },
    {
      "cell_type": "code",
      "execution_count": 57,
      "metadata": {
        "colab": {
          "base_uri": "https://localhost:8080/"
        },
        "id": "EAJWL5bckiLk",
        "outputId": "c69b2270-1cc4-488b-d8fd-39bac06eee30"
      },
      "outputs": [
        {
          "output_type": "stream",
          "name": "stdout",
          "text": [
            "(1500, 600, 6)\n",
            "(1500, 6)\n",
            "Training Data:\n",
            "(1350, 600, 6)\n",
            "(1350, 6)\n",
            "Test Data:\n",
            "(150, 600, 6)\n",
            "(150, 6)\n"
          ]
        }
      ],
      "source": [
        "x = np.array(raw_x)\n",
        "y = np.array(raw_y)\n",
        "print(x.shape)\n",
        "print(y.shape)\n",
        "\n",
        "from sklearn.model_selection import train_test_split\n",
        "\n",
        "train_x, test_x, train_y, test_y = train_test_split(x, y, test_size=0.1, shuffle=True)\n",
        "\n",
        "\n",
        "print(\"Training Data:\")\n",
        "print(train_x.shape)\n",
        "print(train_y.shape)\n",
        "\n",
        "print(\"Test Data:\")\n",
        "print(test_x.shape)\n",
        "print(test_y.shape)\n"
      ]
    },
    {
      "cell_type": "code",
      "execution_count": 58,
      "metadata": {
        "colab": {
          "base_uri": "https://localhost:8080/",
          "height": 467
        },
        "id": "u_70o6bWknIN",
        "outputId": "a35241b9-34e2-4854-cf89-6f6f9a7e00e1"
      },
      "outputs": [
        {
          "output_type": "stream",
          "name": "stdout",
          "text": [
            "train_x[0]\n",
            " [['2/27/2012' 302.16 305.04 301.4 '607.64' '3,641,300']\n",
            " ['2/28/2012' 303.86 308.73 302.71 '616.7' '5,716,400']\n",
            " ['2/29/2012' 308.14 311.63 306.6 '616.56' '6,297,200']\n",
            " ...\n",
            " ['7/14/2014' 581.0 583.61 576.45 '583.27' '1,854,000']\n",
            " ['7/15/2014' 584.14 584.2 574.98 '583.18' '1,623,000']\n",
            " ['7/16/2014' 586.39 586.79 580.61 '581.06' '1,397,100']]\n",
            "\n",
            "train_y[0]\n",
            " ['11/30/2016' 770.07 772.99 754.83 '758.04' '2,392,900']\n"
          ]
        },
        {
          "output_type": "display_data",
          "data": {
            "image/png": "[encoded data removed]",
            "text/plain": [
              "<Figure size 432x288 with 1 Axes>"
            ]
          },
          "metadata": {
            "needs_background": "light"
          }
        }
      ],
      "source": [
        "print(\"train_x[0]\\n\", train_x[0])\n",
        "print()\n",
        "print(\"train_y[0]\\n\", train_y[0])\n",
        "\n",
        "plt.plot(train_x[0].T[0], '.', color='blue')\n",
        "plt.plot([len(train_x[0])], train_y[0,0], 'x', color='blue')\n",
        "plt.plot(train_x[0].T[1], '.', color='red')\n",
        "plt.plot([len(train_x[0])], train_y[0,1], 'o', color='red')\n",
        "\n",
        "plt.show()"
      ]
    },
    {
      "cell_type": "code",
      "source": [
        ""
      ],
      "metadata": {
        "id": "95vGb6y9cwXL"
      },
      "execution_count": 58,
      "outputs": []
    }
  ]
}