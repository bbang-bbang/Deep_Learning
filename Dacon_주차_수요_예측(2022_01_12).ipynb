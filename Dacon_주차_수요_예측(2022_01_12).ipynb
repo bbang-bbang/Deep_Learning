{
  "nbformat": 4,
  "nbformat_minor": 0,
  "metadata": {
    "colab": {
      "name": "Dacon_주차 수요 예측(2022_01_11).ipynb",
      "provenance": [],
      "collapsed_sections": []
    },
    "kernelspec": {
      "name": "python3",
      "display_name": "Python 3"
    },
    "language_info": {
      "name": "python"
    },
    "accelerator": "GPU"
  },
  "cells": [
    {
      "cell_type": "markdown",
      "source": [
        "# 데이터 불러오기"
      ],
      "metadata": {
        "id": "LSgDgH3yv09g"
      }
    },
    {
      "cell_type": "code",
      "execution_count": 4,
      "metadata": {
        "id": "hNwN0p_BISO9"
      },
      "outputs": [],
      "source": [
        "import pandas as pd \n",
        "age_gender = pd.read_csv('/content/age_gender_info.csv')\n",
        "train = pd.read_csv('/content/train.csv')\n",
        "test = pd.read_csv('/content/test.csv')\n",
        "sample = pd.read_csv('/content/sample_submission.csv')"
      ]
    },
    {
      "cell_type": "code",
      "source": [
        "train_data_count = len(train)\n",
        "test_data_count = len(test)\n",
        "\n",
        "print(train_data_count, test_data_count)"
      ],
      "metadata": {
        "colab": {
          "base_uri": "https://localhost:8080/"
        },
        "id": "DmeEoU3QBuVB",
        "outputId": "cb6bf1a2-6940-47a7-ee64-ab9dfe4feb6a"
      },
      "execution_count": 5,
      "outputs": [
        {
          "output_type": "stream",
          "name": "stdout",
          "text": [
            "2952 1022\n"
          ]
        }
      ]
    },
    {
      "cell_type": "markdown",
      "source": [
        "# 데이터 합치기"
      ],
      "metadata": {
        "id": "ZPTsNkE-2_Z7"
      }
    },
    {
      "cell_type": "code",
      "source": [
        "print(len(train), len(test))\n",
        "test['등록차량수'] = -1\n",
        "train = train.append(test)\n",
        "print(len(train))"
      ],
      "metadata": {
        "colab": {
          "base_uri": "https://localhost:8080/"
        },
        "id": "ptbZyusn2-cX",
        "outputId": "37f6fe70-fa51-4a3f-a7a7-497d5bc879f6"
      },
      "execution_count": 6,
      "outputs": [
        {
          "output_type": "stream",
          "name": "stdout",
          "text": [
            "2952 1022\n",
            "3974\n"
          ]
        }
      ]
    },
    {
      "cell_type": "code",
      "source": [
        "train.isnull().sum()"
      ],
      "metadata": {
        "colab": {
          "base_uri": "https://localhost:8080/"
        },
        "id": "ms7malJzI_TK",
        "outputId": "6433d5ac-d4a0-4379-fe6d-cdb4f648d9bd"
      },
      "execution_count": 7,
      "outputs": [
        {
          "output_type": "execute_result",
          "data": {
            "text/plain": [
              "단지코드                              0\n",
              "총세대수                              0\n",
              "임대건물구분                            0\n",
              "지역                                0\n",
              "공급유형                              0\n",
              "전용면적                              0\n",
              "전용면적별세대수                          0\n",
              "공가수                               0\n",
              "자격유형                              2\n",
              "임대보증금                           749\n",
              "임대료                             749\n",
              "도보 10분거리 내 지하철역 수(환승노선 수 반영)    253\n",
              "도보 10분거리 내 버스정류장 수                4\n",
              "단지내주차면수                           0\n",
              "등록차량수                             0\n",
              "dtype: int64"
            ]
          },
          "metadata": {},
          "execution_count": 7
        }
      ]
    },
    {
      "cell_type": "code",
      "source": [
        "test.isnull().sum()"
      ],
      "metadata": {
        "colab": {
          "base_uri": "https://localhost:8080/"
        },
        "id": "svRgtSVPumey",
        "outputId": "c263cbf0-5a06-47ae-a98f-e2ab8e1b7711"
      },
      "execution_count": 8,
      "outputs": [
        {
          "output_type": "execute_result",
          "data": {
            "text/plain": [
              "단지코드                              0\n",
              "총세대수                              0\n",
              "임대건물구분                            0\n",
              "지역                                0\n",
              "공급유형                              0\n",
              "전용면적                              0\n",
              "전용면적별세대수                          0\n",
              "공가수                               0\n",
              "자격유형                              2\n",
              "임대보증금                           180\n",
              "임대료                             180\n",
              "도보 10분거리 내 지하철역 수(환승노선 수 반영)     42\n",
              "도보 10분거리 내 버스정류장 수                0\n",
              "단지내주차면수                           0\n",
              "등록차량수                             0\n",
              "dtype: int64"
            ]
          },
          "metadata": {},
          "execution_count": 8
        }
      ]
    },
    {
      "cell_type": "markdown",
      "source": [
        "# 데이터 전처리"
      ],
      "metadata": {
        "id": "GifledULv-Ee"
      }
    },
    {
      "cell_type": "markdown",
      "source": [
        "## 컬럼 삭제"
      ],
      "metadata": {
        "id": "c00h4dzh5Vag"
      }
    },
    {
      "cell_type": "markdown",
      "source": [
        "임대료, 도보 10분거리 내 지하철역 수(환승노선 수 반영),도보 10분거리 내 버스정류장 수는 버린다.\n",
        "\n",
        "도보 10분거리 내 버스정류장 수는 0으로 채움"
      ],
      "metadata": {
        "id": "aJlbq9vquvtW"
      }
    },
    {
      "cell_type": "code",
      "source": [
        "train.drop(columns = ['임대보증금', '임대료', '도보 10분거리 내 지하철역 수(환승노선 수 반영)'], inplace = True)\n",
        "test.drop(columns = ['임대보증금', '임대료', '도보 10분거리 내 지하철역 수(환승노선 수 반영)'], inplace = True)"
      ],
      "metadata": {
        "id": "eFVqOAy8Nm2I"
      },
      "execution_count": 9,
      "outputs": []
    },
    {
      "cell_type": "markdown",
      "source": [
        "## 자격유형 결측치 처리"
      ],
      "metadata": {
        "id": "5a8EuPAQ7OgJ"
      }
    },
    {
      "cell_type": "markdown",
      "source": [
        "### 자격유형의 null값은 가장 많은 A로 채움"
      ],
      "metadata": {
        "id": "hVrS0V8I5hc0"
      }
    },
    {
      "cell_type": "code",
      "source": [
        "train.자격유형.value_counts()"
      ],
      "metadata": {
        "colab": {
          "base_uri": "https://localhost:8080/"
        },
        "outputId": "f9f416d1-6962-4de0-d4e8-76b5eb210132",
        "id": "J09afVm25hc7"
      },
      "execution_count": 10,
      "outputs": [
        {
          "output_type": "execute_result",
          "data": {
            "text/plain": [
              "A    2373\n",
              "D     749\n",
              "H     247\n",
              "J     198\n",
              "C     129\n",
              "I      56\n",
              "K      49\n",
              "E      47\n",
              "L      45\n",
              "N      40\n",
              "B      21\n",
              "G      10\n",
              "M       4\n",
              "F       3\n",
              "O       1\n",
              "Name: 자격유형, dtype: int64"
            ]
          },
          "metadata": {},
          "execution_count": 10
        }
      ]
    },
    {
      "cell_type": "code",
      "source": [
        "train['자격유형'].fillna('A', inplace = True)\n",
        "test['자격유형'].fillna('A', inplace = True)"
      ],
      "metadata": {
        "id": "fIGcynZR5hc8"
      },
      "execution_count": 11,
      "outputs": []
    },
    {
      "cell_type": "code",
      "source": [
        "train['자격유형'].value_counts()"
      ],
      "metadata": {
        "colab": {
          "base_uri": "https://localhost:8080/"
        },
        "outputId": "89c2fbaf-35da-4a8c-8d57-a72ae85eb77b",
        "id": "mcvslgRB5hc8"
      },
      "execution_count": 12,
      "outputs": [
        {
          "output_type": "execute_result",
          "data": {
            "text/plain": [
              "A    2375\n",
              "D     749\n",
              "H     247\n",
              "J     198\n",
              "C     129\n",
              "I      56\n",
              "K      49\n",
              "E      47\n",
              "L      45\n",
              "N      40\n",
              "B      21\n",
              "G      10\n",
              "M       4\n",
              "F       3\n",
              "O       1\n",
              "Name: 자격유형, dtype: int64"
            ]
          },
          "metadata": {},
          "execution_count": 12
        }
      ]
    },
    {
      "cell_type": "code",
      "source": [
        "train.isnull().sum()"
      ],
      "metadata": {
        "colab": {
          "base_uri": "https://localhost:8080/"
        },
        "id": "z7W0rDT-6L8X",
        "outputId": "b730821c-d08e-447c-a893-2237f85b9e6b"
      },
      "execution_count": 13,
      "outputs": [
        {
          "output_type": "execute_result",
          "data": {
            "text/plain": [
              "단지코드                  0\n",
              "총세대수                  0\n",
              "임대건물구분                0\n",
              "지역                    0\n",
              "공급유형                  0\n",
              "전용면적                  0\n",
              "전용면적별세대수              0\n",
              "공가수                   0\n",
              "자격유형                  0\n",
              "도보 10분거리 내 버스정류장 수    4\n",
              "단지내주차면수               0\n",
              "등록차량수                 0\n",
              "dtype: int64"
            ]
          },
          "metadata": {},
          "execution_count": 13
        }
      ]
    },
    {
      "cell_type": "markdown",
      "source": [
        "## 도보 10분거리 내 버스정류장 수 결측치 처리"
      ],
      "metadata": {
        "id": "jvMH91rt5t0R"
      }
    },
    {
      "cell_type": "code",
      "source": [
        "train['도보 10분거리 내 버스정류장 수'].fillna(0, inplace = True)"
      ],
      "metadata": {
        "id": "eKhRNyl_5z9p"
      },
      "execution_count": 14,
      "outputs": []
    },
    {
      "cell_type": "code",
      "source": [
        "print(train.isnull().sum())"
      ],
      "metadata": {
        "colab": {
          "base_uri": "https://localhost:8080/"
        },
        "id": "c8kMhYQz5-Rb",
        "outputId": "123954e4-3e23-4b27-ed99-8ed3388b722e"
      },
      "execution_count": 15,
      "outputs": [
        {
          "output_type": "stream",
          "name": "stdout",
          "text": [
            "단지코드                  0\n",
            "총세대수                  0\n",
            "임대건물구분                0\n",
            "지역                    0\n",
            "공급유형                  0\n",
            "전용면적                  0\n",
            "전용면적별세대수              0\n",
            "공가수                   0\n",
            "자격유형                  0\n",
            "도보 10분거리 내 버스정류장 수    0\n",
            "단지내주차면수               0\n",
            "등록차량수                 0\n",
            "dtype: int64\n"
          ]
        }
      ]
    },
    {
      "cell_type": "markdown",
      "source": [
        "# 로그처리"
      ],
      "metadata": {
        "id": "tBlEYCa37pVp"
      }
    },
    {
      "cell_type": "code",
      "source": [
        "import matplotlib.pyplot as plt\n",
        "\n",
        "value_columns = ['총세대수', '전용면적', '전용면적별세대수', '공가수', '도보 10분거리 내 버스정류장 수', '단지내주차면수', '등록차량수']\n",
        "for column_name in value_columns:\n",
        "    print(column_name)\n",
        "    plt.hist(train[column_name], bins=100)\n",
        "    plt.show()"
      ],
      "metadata": {
        "colab": {
          "base_uri": "https://localhost:8080/",
          "height": 1000
        },
        "id": "dxVad6Hk7t7D",
        "outputId": "5c674d88-03dd-49fe-f047-880c75d9648d"
      },
      "execution_count": 16,
      "outputs": [
        {
          "output_type": "stream",
          "name": "stdout",
          "text": [
            "총세대수\n"
          ]
        },
        {
          "output_type": "display_data",
          "data": {
            "image/png": "[encoded data removed]",
            "text/plain": [
              "<Figure size 432x288 with 1 Axes>"
            ]
          },
          "metadata": {
            "needs_background": "light"
          }
        },
        {
          "output_type": "stream",
          "name": "stdout",
          "text": [
            "전용면적\n"
          ]
        },
        {
          "output_type": "display_data",
          "data": {
            "image/png": "[encoded data removed]",
            "text/plain": [
              "<Figure size 432x288 with 1 Axes>"
            ]
          },
          "metadata": {
            "needs_background": "light"
          }
        },
        {
          "output_type": "stream",
          "name": "stdout",
          "text": [
            "전용면적별세대수\n"
          ]
        },
        {
          "output_type": "display_data",
          "data": {
            "image/png": "[encoded data removed]",
            "text/plain": [
              "<Figure size 432x288 with 1 Axes>"
            ]
          },
          "metadata": {
            "needs_background": "light"
          }
        },
        {
          "output_type": "stream",
          "name": "stdout",
          "text": [
            "공가수\n"
          ]
        },
        {
          "output_type": "display_data",
          "data": {
            "image/png": "[encoded data removed]",
            "text/plain": [
              "<Figure size 432x288 with 1 Axes>"
            ]
          },
          "metadata": {
            "needs_background": "light"
          }
        },
        {
          "output_type": "stream",
          "name": "stdout",
          "text": [
            "도보 10분거리 내 버스정류장 수\n"
          ]
        },
        {
          "output_type": "display_data",
          "data": {
            "image/png": "[encoded data removed]",
            "text/plain": [
              "<Figure size 432x288 with 1 Axes>"
            ]
          },
          "metadata": {
            "needs_background": "light"
          }
        },
        {
          "output_type": "stream",
          "name": "stdout",
          "text": [
            "단지내주차면수\n"
          ]
        },
        {
          "output_type": "display_data",
          "data": {
            "image/png": "[encoded data removed]",
            "text/plain": [
              "<Figure size 432x288 with 1 Axes>"
            ]
          },
          "metadata": {
            "needs_background": "light"
          }
        },
        {
          "output_type": "stream",
          "name": "stdout",
          "text": [
            "등록차량수\n"
          ]
        },
        {
          "output_type": "display_data",
          "data": {
            "image/png": "[encoded data removed]",
            "text/plain": [
              "<Figure size 432x288 with 1 Axes>"
            ]
          },
          "metadata": {
            "needs_background": "light"
          }
        }
      ]
    },
    {
      "cell_type": "code",
      "source": [
        "max_values = {\n",
        "    '전용면적':100,\n",
        "    '공가수':40,\n",
        "    '도보 10분거리 내 버스정류장 수':10,\n",
        "}"
      ],
      "metadata": {
        "id": "A-B4t467-o8E"
      },
      "execution_count": 17,
      "outputs": []
    },
    {
      "cell_type": "code",
      "source": [
        "to_be_removed_columns = []\n",
        "import numpy as np\n",
        "log_columns = ['전용면적별세대수']\n",
        "\n",
        "for column_name in log_columns:\n",
        "    print(column_name)\n",
        "    plt.hist(train[column_name], bins=100)\n",
        "    plt.show()    \n",
        "    train['log_'+column_name] = np.log(train[column_name])\n",
        "    plt.hist(train['log_'+column_name], bins=100)\n",
        "    plt.show()    \n",
        "\n",
        "to_be_removed_columns.extend(log_columns) "
      ],
      "metadata": {
        "colab": {
          "base_uri": "https://localhost:8080/",
          "height": 531
        },
        "id": "Y3QGm6TV8kM2",
        "outputId": "385a4567-4785-4ba6-fdd1-cbca752c10f9"
      },
      "execution_count": 18,
      "outputs": [
        {
          "output_type": "stream",
          "name": "stdout",
          "text": [
            "전용면적별세대수\n"
          ]
        },
        {
          "output_type": "display_data",
          "data": {
            "image/png": "[encoded data removed]",
            "text/plain": [
              "<Figure size 432x288 with 1 Axes>"
            ]
          },
          "metadata": {
            "needs_background": "light"
          }
        },
        {
          "output_type": "display_data",
          "data": {
            "image/png": "[encoded data removed]",
            "text/plain": [
              "<Figure size 432x288 with 1 Axes>"
            ]
          },
          "metadata": {
            "needs_background": "light"
          }
        }
      ]
    },
    {
      "cell_type": "markdown",
      "source": [
        "# 카테고리성 데이터 처리"
      ],
      "metadata": {
        "id": "AvLwzedhwODJ"
      }
    },
    {
      "cell_type": "code",
      "source": [
        "category_columns = ['단지코드', '임대건물구분','지역','공급유형', '자격유형']"
      ],
      "metadata": {
        "id": "E2Jyd14nwG1s"
      },
      "execution_count": 19,
      "outputs": []
    },
    {
      "cell_type": "code",
      "source": [
        "to_be_removed_columns = []\n",
        "\n",
        "for column_name in category_columns:\n",
        "  train[column_name] = train[column_name].astype('category')\n",
        "  train[column_name+'_code'] = train[column_name].cat.codes\n",
        "\n",
        "  test[column_name] = test[column_name].astype('category')\n",
        "  test[column_name+'_code'] = test[column_name].cat.codes\n",
        "\n",
        "train.info()\n",
        "to_be_removed_columns.extend(category_columns)"
      ],
      "metadata": {
        "colab": {
          "base_uri": "https://localhost:8080/"
        },
        "id": "V-5NdPvnw4AN",
        "outputId": "6b5f3345-bac2-47ad-fdbd-cfb58276007c"
      },
      "execution_count": 20,
      "outputs": [
        {
          "output_type": "stream",
          "name": "stdout",
          "text": [
            "<class 'pandas.core.frame.DataFrame'>\n",
            "Int64Index: 3974 entries, 0 to 1021\n",
            "Data columns (total 18 columns):\n",
            " #   Column              Non-Null Count  Dtype   \n",
            "---  ------              --------------  -----   \n",
            " 0   단지코드                3974 non-null   category\n",
            " 1   총세대수                3974 non-null   int64   \n",
            " 2   임대건물구분              3974 non-null   category\n",
            " 3   지역                  3974 non-null   category\n",
            " 4   공급유형                3974 non-null   category\n",
            " 5   전용면적                3974 non-null   float64 \n",
            " 6   전용면적별세대수            3974 non-null   int64   \n",
            " 7   공가수                 3974 non-null   float64 \n",
            " 8   자격유형                3974 non-null   category\n",
            " 9   도보 10분거리 내 버스정류장 수  3974 non-null   float64 \n",
            " 10  단지내주차면수             3974 non-null   float64 \n",
            " 11  등록차량수               3974 non-null   float64 \n",
            " 12  log_전용면적별세대수        3974 non-null   float64 \n",
            " 13  단지코드_code           3974 non-null   int16   \n",
            " 14  임대건물구분_code         3974 non-null   int8    \n",
            " 15  지역_code             3974 non-null   int8    \n",
            " 16  공급유형_code           3974 non-null   int8    \n",
            " 17  자격유형_code           3974 non-null   int8    \n",
            "dtypes: category(5), float64(6), int16(1), int64(2), int8(4)\n",
            "memory usage: 352.4 KB\n"
          ]
        }
      ]
    },
    {
      "cell_type": "code",
      "source": [
        "print(train.info())\n",
        "print(test.info())"
      ],
      "metadata": {
        "colab": {
          "base_uri": "https://localhost:8080/"
        },
        "id": "_0c3mIOlxwuG",
        "outputId": "9758836b-bb60-4f68-e8a6-3bd5451ba8e8"
      },
      "execution_count": 21,
      "outputs": [
        {
          "output_type": "stream",
          "name": "stdout",
          "text": [
            "<class 'pandas.core.frame.DataFrame'>\n",
            "Int64Index: 3974 entries, 0 to 1021\n",
            "Data columns (total 18 columns):\n",
            " #   Column              Non-Null Count  Dtype   \n",
            "---  ------              --------------  -----   \n",
            " 0   단지코드                3974 non-null   category\n",
            " 1   총세대수                3974 non-null   int64   \n",
            " 2   임대건물구분              3974 non-null   category\n",
            " 3   지역                  3974 non-null   category\n",
            " 4   공급유형                3974 non-null   category\n",
            " 5   전용면적                3974 non-null   float64 \n",
            " 6   전용면적별세대수            3974 non-null   int64   \n",
            " 7   공가수                 3974 non-null   float64 \n",
            " 8   자격유형                3974 non-null   category\n",
            " 9   도보 10분거리 내 버스정류장 수  3974 non-null   float64 \n",
            " 10  단지내주차면수             3974 non-null   float64 \n",
            " 11  등록차량수               3974 non-null   float64 \n",
            " 12  log_전용면적별세대수        3974 non-null   float64 \n",
            " 13  단지코드_code           3974 non-null   int16   \n",
            " 14  임대건물구분_code         3974 non-null   int8    \n",
            " 15  지역_code             3974 non-null   int8    \n",
            " 16  공급유형_code           3974 non-null   int8    \n",
            " 17  자격유형_code           3974 non-null   int8    \n",
            "dtypes: category(5), float64(6), int16(1), int64(2), int8(4)\n",
            "memory usage: 352.4 KB\n",
            "None\n",
            "<class 'pandas.core.frame.DataFrame'>\n",
            "RangeIndex: 1022 entries, 0 to 1021\n",
            "Data columns (total 17 columns):\n",
            " #   Column              Non-Null Count  Dtype   \n",
            "---  ------              --------------  -----   \n",
            " 0   단지코드                1022 non-null   category\n",
            " 1   총세대수                1022 non-null   int64   \n",
            " 2   임대건물구분              1022 non-null   category\n",
            " 3   지역                  1022 non-null   category\n",
            " 4   공급유형                1022 non-null   category\n",
            " 5   전용면적                1022 non-null   float64 \n",
            " 6   전용면적별세대수            1022 non-null   int64   \n",
            " 7   공가수                 1022 non-null   float64 \n",
            " 8   자격유형                1022 non-null   category\n",
            " 9   도보 10분거리 내 버스정류장 수  1022 non-null   float64 \n",
            " 10  단지내주차면수             1022 non-null   float64 \n",
            " 11  등록차량수               1022 non-null   int64   \n",
            " 12  단지코드_code           1022 non-null   int16   \n",
            " 13  임대건물구분_code         1022 non-null   int8    \n",
            " 14  지역_code             1022 non-null   int8    \n",
            " 15  공급유형_code           1022 non-null   int8    \n",
            " 16  자격유형_code           1022 non-null   int8    \n",
            "dtypes: category(5), float64(4), int16(1), int64(3), int8(4)\n",
            "memory usage: 75.8 KB\n",
            "None\n"
          ]
        }
      ]
    },
    {
      "cell_type": "markdown",
      "source": [
        "## 카테고리 컬럼을 one-hot-encoding"
      ],
      "metadata": {
        "id": "FHiN7mrc1kq4"
      }
    },
    {
      "cell_type": "code",
      "source": [
        "category_name = '단지코드'\n",
        "column_name = column_name+'_code'\n",
        "train = pd.get_dummies(train, columns= [column_name])"
      ],
      "metadata": {
        "id": "dKvbe1enyYqM"
      },
      "execution_count": 22,
      "outputs": []
    },
    {
      "cell_type": "code",
      "source": [
        "print(train.info())\n",
        "print(test.info())"
      ],
      "metadata": {
        "colab": {
          "base_uri": "https://localhost:8080/"
        },
        "id": "z5kSvDVe2Icc",
        "outputId": "9da87220-bb78-4e55-e608-e4a7aa53da1c"
      },
      "execution_count": 23,
      "outputs": [
        {
          "output_type": "stream",
          "name": "stdout",
          "text": [
            "<class 'pandas.core.frame.DataFrame'>\n",
            "Int64Index: 3974 entries, 0 to 1021\n",
            "Data columns (total 32 columns):\n",
            " #   Column              Non-Null Count  Dtype   \n",
            "---  ------              --------------  -----   \n",
            " 0   단지코드                3974 non-null   category\n",
            " 1   총세대수                3974 non-null   int64   \n",
            " 2   임대건물구분              3974 non-null   category\n",
            " 3   지역                  3974 non-null   category\n",
            " 4   공급유형                3974 non-null   category\n",
            " 5   전용면적                3974 non-null   float64 \n",
            " 6   전용면적별세대수            3974 non-null   int64   \n",
            " 7   공가수                 3974 non-null   float64 \n",
            " 8   자격유형                3974 non-null   category\n",
            " 9   도보 10분거리 내 버스정류장 수  3974 non-null   float64 \n",
            " 10  단지내주차면수             3974 non-null   float64 \n",
            " 11  등록차량수               3974 non-null   float64 \n",
            " 12  log_전용면적별세대수        3974 non-null   float64 \n",
            " 13  단지코드_code           3974 non-null   int16   \n",
            " 14  임대건물구분_code         3974 non-null   int8    \n",
            " 15  지역_code             3974 non-null   int8    \n",
            " 16  공급유형_code           3974 non-null   int8    \n",
            " 17  자격유형_code_0         3974 non-null   uint8   \n",
            " 18  자격유형_code_1         3974 non-null   uint8   \n",
            " 19  자격유형_code_2         3974 non-null   uint8   \n",
            " 20  자격유형_code_3         3974 non-null   uint8   \n",
            " 21  자격유형_code_4         3974 non-null   uint8   \n",
            " 22  자격유형_code_5         3974 non-null   uint8   \n",
            " 23  자격유형_code_6         3974 non-null   uint8   \n",
            " 24  자격유형_code_7         3974 non-null   uint8   \n",
            " 25  자격유형_code_8         3974 non-null   uint8   \n",
            " 26  자격유형_code_9         3974 non-null   uint8   \n",
            " 27  자격유형_code_10        3974 non-null   uint8   \n",
            " 28  자격유형_code_11        3974 non-null   uint8   \n",
            " 29  자격유형_code_12        3974 non-null   uint8   \n",
            " 30  자격유형_code_13        3974 non-null   uint8   \n",
            " 31  자격유형_code_14        3974 non-null   uint8   \n",
            "dtypes: category(5), float64(6), int16(1), int64(2), int8(3), uint8(15)\n",
            "memory usage: 406.8 KB\n",
            "None\n",
            "<class 'pandas.core.frame.DataFrame'>\n",
            "RangeIndex: 1022 entries, 0 to 1021\n",
            "Data columns (total 17 columns):\n",
            " #   Column              Non-Null Count  Dtype   \n",
            "---  ------              --------------  -----   \n",
            " 0   단지코드                1022 non-null   category\n",
            " 1   총세대수                1022 non-null   int64   \n",
            " 2   임대건물구분              1022 non-null   category\n",
            " 3   지역                  1022 non-null   category\n",
            " 4   공급유형                1022 non-null   category\n",
            " 5   전용면적                1022 non-null   float64 \n",
            " 6   전용면적별세대수            1022 non-null   int64   \n",
            " 7   공가수                 1022 non-null   float64 \n",
            " 8   자격유형                1022 non-null   category\n",
            " 9   도보 10분거리 내 버스정류장 수  1022 non-null   float64 \n",
            " 10  단지내주차면수             1022 non-null   float64 \n",
            " 11  등록차량수               1022 non-null   int64   \n",
            " 12  단지코드_code           1022 non-null   int16   \n",
            " 13  임대건물구분_code         1022 non-null   int8    \n",
            " 14  지역_code             1022 non-null   int8    \n",
            " 15  공급유형_code           1022 non-null   int8    \n",
            " 16  자격유형_code           1022 non-null   int8    \n",
            "dtypes: category(5), float64(4), int16(1), int64(3), int8(4)\n",
            "memory usage: 75.8 KB\n",
            "None\n"
          ]
        }
      ]
    },
    {
      "cell_type": "markdown",
      "source": [
        "# 불필요한 컬럼 삭제"
      ],
      "metadata": {
        "id": "lFdlQl7g9lRI"
      }
    },
    {
      "cell_type": "code",
      "source": [
        "train.drop(columns=to_be_removed_columns, inplace=True)"
      ],
      "metadata": {
        "id": "slVwTjQW9nmw"
      },
      "execution_count": 24,
      "outputs": []
    },
    {
      "cell_type": "code",
      "source": [
        "print(train.info())"
      ],
      "metadata": {
        "colab": {
          "base_uri": "https://localhost:8080/"
        },
        "id": "-JA2KCAu9sXU",
        "outputId": "8faa862b-ce77-4cc3-9999-f35e3904ef99"
      },
      "execution_count": 25,
      "outputs": [
        {
          "output_type": "stream",
          "name": "stdout",
          "text": [
            "<class 'pandas.core.frame.DataFrame'>\n",
            "Int64Index: 3974 entries, 0 to 1021\n",
            "Data columns (total 27 columns):\n",
            " #   Column              Non-Null Count  Dtype  \n",
            "---  ------              --------------  -----  \n",
            " 0   총세대수                3974 non-null   int64  \n",
            " 1   전용면적                3974 non-null   float64\n",
            " 2   전용면적별세대수            3974 non-null   int64  \n",
            " 3   공가수                 3974 non-null   float64\n",
            " 4   도보 10분거리 내 버스정류장 수  3974 non-null   float64\n",
            " 5   단지내주차면수             3974 non-null   float64\n",
            " 6   등록차량수               3974 non-null   float64\n",
            " 7   log_전용면적별세대수        3974 non-null   float64\n",
            " 8   단지코드_code           3974 non-null   int16  \n",
            " 9   임대건물구분_code         3974 non-null   int8   \n",
            " 10  지역_code             3974 non-null   int8   \n",
            " 11  공급유형_code           3974 non-null   int8   \n",
            " 12  자격유형_code_0         3974 non-null   uint8  \n",
            " 13  자격유형_code_1         3974 non-null   uint8  \n",
            " 14  자격유형_code_2         3974 non-null   uint8  \n",
            " 15  자격유형_code_3         3974 non-null   uint8  \n",
            " 16  자격유형_code_4         3974 non-null   uint8  \n",
            " 17  자격유형_code_5         3974 non-null   uint8  \n",
            " 18  자격유형_code_6         3974 non-null   uint8  \n",
            " 19  자격유형_code_7         3974 non-null   uint8  \n",
            " 20  자격유형_code_8         3974 non-null   uint8  \n",
            " 21  자격유형_code_9         3974 non-null   uint8  \n",
            " 22  자격유형_code_10        3974 non-null   uint8  \n",
            " 23  자격유형_code_11        3974 non-null   uint8  \n",
            " 24  자격유형_code_12        3974 non-null   uint8  \n",
            " 25  자격유형_code_13        3974 non-null   uint8  \n",
            " 26  자격유형_code_14        3974 non-null   uint8  \n",
            "dtypes: float64(6), int16(1), int64(2), int8(3), uint8(15)\n",
            "memory usage: 357.0 KB\n",
            "None\n"
          ]
        }
      ]
    },
    {
      "cell_type": "markdown",
      "source": [
        "# Normalization"
      ],
      "metadata": {
        "id": "RyoFZzPJ85od"
      }
    },
    {
      "cell_type": "code",
      "source": [
        "y_df = train['등록차량수']\n",
        "x_df = train.drop(columns=['등록차량수'])"
      ],
      "metadata": {
        "id": "y-7sEaX867YX"
      },
      "execution_count": 26,
      "outputs": []
    },
    {
      "cell_type": "code",
      "source": [
        "x_df = (x_df - x_df.min()) / (x_df.max() - x_df.min())"
      ],
      "metadata": {
        "id": "BS53zb2e1P1L"
      },
      "execution_count": 27,
      "outputs": []
    },
    {
      "cell_type": "code",
      "source": [
        "print(len(y_df))\n",
        "print(y_df.value_counts())"
      ],
      "metadata": {
        "colab": {
          "base_uri": "https://localhost:8080/"
        },
        "id": "S1SYkYu-1Pyd",
        "outputId": "bd2dd32c-686a-48dd-90ad-aef1c2cdef7f"
      },
      "execution_count": 28,
      "outputs": [
        {
          "output_type": "stream",
          "name": "stdout",
          "text": [
            "3974\n",
            "-1.0      1022\n",
            " 359.0      61\n",
            " 172.0      48\n",
            " 62.0       44\n",
            " 116.0      40\n",
            "          ... \n",
            " 149.0       2\n",
            " 873.0       2\n",
            " 73.0        2\n",
            " 16.0        1\n",
            " 386.0       1\n",
            "Name: 등록차량수, Length: 355, dtype: int64\n"
          ]
        }
      ]
    },
    {
      "cell_type": "code",
      "source": [
        "y_df = (y_df - y_df.min()) / (y_df.max() - y_df.min())"
      ],
      "metadata": {
        "id": "nmoU5RvRBZZs"
      },
      "execution_count": 29,
      "outputs": []
    },
    {
      "cell_type": "markdown",
      "source": [
        "# train, test 분리"
      ],
      "metadata": {
        "id": "o4SC3t1W-3mh"
      }
    },
    {
      "cell_type": "code",
      "source": [
        "import numpy as np\n",
        "x = x_df.to_numpy()\n",
        "y = y_df.to_numpy()\n",
        "\n",
        "print(x.shape)\n",
        "print(y.shape)"
      ],
      "metadata": {
        "colab": {
          "base_uri": "https://localhost:8080/"
        },
        "id": "4tXPDgrs-5f-",
        "outputId": "812cce9f-2158-44c9-e008-ec37d435645b"
      },
      "execution_count": 30,
      "outputs": [
        {
          "output_type": "stream",
          "name": "stdout",
          "text": [
            "(3974, 26)\n",
            "(3974,)\n"
          ]
        }
      ]
    },
    {
      "cell_type": "markdown",
      "source": [
        "# train / test 분리"
      ],
      "metadata": {
        "id": "8bXgytWc-qaV"
      }
    },
    {
      "cell_type": "code",
      "source": [
        "\n",
        "train_x, test_x = x[:train_data_count], x[:test_data_count]\n",
        "train_y, test_y = y[:train_data_count], y[:test_data_count]"
      ],
      "metadata": {
        "id": "eDwcY4yl1PtN"
      },
      "execution_count": 31,
      "outputs": []
    },
    {
      "cell_type": "markdown",
      "source": [
        "# 모델 학습"
      ],
      "metadata": {
        "id": "-q9vza3p_Nlk"
      }
    },
    {
      "cell_type": "code",
      "source": [
        "import numpy as np\n",
        "import pandas as pd\n",
        "import matplotlib.pyplot as plt\n",
        "\n",
        "import tensorflow as tf\n",
        "\n",
        "from tensorflow import keras\n",
        "from tensorflow.keras import optimizers\n",
        "from tensorflow.keras.layers import Dense\n",
        "\n",
        "model = keras.Sequential()\n",
        "model.add(Dense(10, activation='relu', input_shape=(train_x.shape[-1],)))\n",
        "model.add(Dense(10, activation='relu'))\n",
        "model.add(Dense(1))\n",
        "\n",
        "model.compile(optimizer=\"SGD\", loss=\"mse\", metrics=[\"mae\"])\n",
        "model.summary()\n",
        "\n",
        "from tensorflow.keras.callbacks import EarlyStopping\n",
        "early_stopping = EarlyStopping(\n",
        "    monitor='val_loss',  # 모니터링 대상\n",
        "    verbose=1,\n",
        "    patience=50)         # 중지까지의 여유분\n",
        "\n",
        "history = model.fit(train_x, train_y, epochs=2000, verbose=1, batch_size=256, validation_split=0.1,\n",
        "                    callbacks=[early_stopping])\n",
        "\n",
        "plt.plot(history.history['loss'])\n",
        "plt.plot(history.history['val_loss'])\n",
        "plt.show()\n",
        "\n",
        "\n",
        "\n",
        "loss, mae = model.evaluate(test_x, test_y)\n",
        "print('mae =', mae)\n",
        "print(\"loss=\", loss)\n",
        "\n",
        "\n",
        "y_ = model.predict(test_x)\n",
        "\n",
        "plt.scatter(test_y, y_)\n",
        "plt.show()"
      ],
      "metadata": {
        "colab": {
          "base_uri": "https://localhost:8080/",
          "height": 1000
        },
        "id": "cRG40KD9u30A",
        "outputId": "ac406e90-5ac8-44dc-b98a-a83cf5077a91"
      },
      "execution_count": 52,
      "outputs": [
        {
          "output_type": "stream",
          "name": "stdout",
          "text": [
            "Model: \"sequential_4\"\n",
            "_________________________________________________________________\n",
            " Layer (type)                Output Shape              Param #   \n",
            "=================================================================\n",
            " dense_12 (Dense)            (None, 10)                270       \n",
            "                                                                 \n",
            " dense_13 (Dense)            (None, 10)                110       \n",
            "                                                                 \n",
            " dense_14 (Dense)            (None, 1)                 11        \n",
            "                                                                 \n",
            "=================================================================\n",
            "Total params: 391\n",
            "Trainable params: 391\n",
            "Non-trainable params: 0\n",
            "_________________________________________________________________\n",
            "Epoch 1/2000\n",
            "11/11 [==============================] - 0s 17ms/step - loss: 0.2442 - mae: 0.4488 - val_loss: 0.1116 - val_mae: 0.2946\n",
            "Epoch 2/2000\n",
            "11/11 [==============================] - 0s 4ms/step - loss: 0.0598 - mae: 0.1894 - val_loss: 0.0461 - val_mae: 0.1794\n",
            "Epoch 3/2000\n",
            "11/11 [==============================] - 0s 4ms/step - loss: 0.0310 - mae: 0.1261 - val_loss: 0.0306 - val_mae: 0.1478\n",
            "Epoch 4/2000\n",
            "11/11 [==============================] - 0s 4ms/step - loss: 0.0258 - mae: 0.1175 - val_loss: 0.0261 - val_mae: 0.1364\n",
            "Epoch 5/2000\n",
            "11/11 [==============================] - 0s 5ms/step - loss: 0.0245 - mae: 0.1154 - val_loss: 0.0245 - val_mae: 0.1318\n",
            "Epoch 6/2000\n",
            "11/11 [==============================] - 0s 5ms/step - loss: 0.0239 - mae: 0.1144 - val_loss: 0.0234 - val_mae: 0.1283\n",
            "Epoch 7/2000\n",
            "11/11 [==============================] - 0s 4ms/step - loss: 0.0235 - mae: 0.1138 - val_loss: 0.0229 - val_mae: 0.1268\n",
            "Epoch 8/2000\n",
            "11/11 [==============================] - 0s 4ms/step - loss: 0.0231 - mae: 0.1128 - val_loss: 0.0224 - val_mae: 0.1250\n",
            "Epoch 9/2000\n",
            "11/11 [==============================] - 0s 4ms/step - loss: 0.0227 - mae: 0.1120 - val_loss: 0.0220 - val_mae: 0.1238\n",
            "Epoch 10/2000\n",
            "11/11 [==============================] - 0s 5ms/step - loss: 0.0224 - mae: 0.1110 - val_loss: 0.0216 - val_mae: 0.1224\n",
            "Epoch 11/2000\n",
            "11/11 [==============================] - 0s 4ms/step - loss: 0.0220 - mae: 0.1102 - val_loss: 0.0212 - val_mae: 0.1213\n",
            "Epoch 12/2000\n",
            "11/11 [==============================] - 0s 4ms/step - loss: 0.0217 - mae: 0.1094 - val_loss: 0.0211 - val_mae: 0.1208\n",
            "Epoch 13/2000\n",
            "11/11 [==============================] - 0s 4ms/step - loss: 0.0214 - mae: 0.1083 - val_loss: 0.0207 - val_mae: 0.1198\n",
            "Epoch 14/2000\n",
            "11/11 [==============================] - 0s 4ms/step - loss: 0.0211 - mae: 0.1076 - val_loss: 0.0205 - val_mae: 0.1191\n",
            "Epoch 15/2000\n",
            "11/11 [==============================] - 0s 4ms/step - loss: 0.0208 - mae: 0.1068 - val_loss: 0.0202 - val_mae: 0.1182\n",
            "Epoch 16/2000\n",
            "11/11 [==============================] - 0s 4ms/step - loss: 0.0205 - mae: 0.1058 - val_loss: 0.0199 - val_mae: 0.1172\n",
            "Epoch 17/2000\n",
            "11/11 [==============================] - 0s 5ms/step - loss: 0.0203 - mae: 0.1053 - val_loss: 0.0198 - val_mae: 0.1167\n",
            "Epoch 18/2000\n",
            "11/11 [==============================] - 0s 4ms/step - loss: 0.0200 - mae: 0.1044 - val_loss: 0.0196 - val_mae: 0.1162\n",
            "Epoch 19/2000\n",
            "11/11 [==============================] - 0s 4ms/step - loss: 0.0198 - mae: 0.1037 - val_loss: 0.0194 - val_mae: 0.1156\n",
            "Epoch 20/2000\n",
            "11/11 [==============================] - 0s 4ms/step - loss: 0.0195 - mae: 0.1029 - val_loss: 0.0191 - val_mae: 0.1148\n",
            "Epoch 21/2000\n",
            "11/11 [==============================] - 0s 4ms/step - loss: 0.0193 - mae: 0.1023 - val_loss: 0.0190 - val_mae: 0.1143\n",
            "Epoch 22/2000\n",
            "11/11 [==============================] - 0s 4ms/step - loss: 0.0191 - mae: 0.1015 - val_loss: 0.0188 - val_mae: 0.1136\n",
            "Epoch 23/2000\n",
            "11/11 [==============================] - 0s 4ms/step - loss: 0.0189 - mae: 0.1009 - val_loss: 0.0185 - val_mae: 0.1129\n",
            "Epoch 24/2000\n",
            "11/11 [==============================] - 0s 4ms/step - loss: 0.0187 - mae: 0.1003 - val_loss: 0.0183 - val_mae: 0.1123\n",
            "Epoch 25/2000\n",
            "11/11 [==============================] - 0s 4ms/step - loss: 0.0185 - mae: 0.0998 - val_loss: 0.0183 - val_mae: 0.1121\n",
            "Epoch 26/2000\n",
            "11/11 [==============================] - 0s 5ms/step - loss: 0.0183 - mae: 0.0989 - val_loss: 0.0181 - val_mae: 0.1114\n",
            "Epoch 27/2000\n",
            "11/11 [==============================] - 0s 4ms/step - loss: 0.0181 - mae: 0.0984 - val_loss: 0.0180 - val_mae: 0.1110\n",
            "Epoch 28/2000\n",
            "11/11 [==============================] - 0s 4ms/step - loss: 0.0179 - mae: 0.0977 - val_loss: 0.0177 - val_mae: 0.1103\n",
            "Epoch 29/2000\n",
            "11/11 [==============================] - 0s 5ms/step - loss: 0.0177 - mae: 0.0973 - val_loss: 0.0176 - val_mae: 0.1099\n",
            "Epoch 30/2000\n",
            "11/11 [==============================] - 0s 4ms/step - loss: 0.0175 - mae: 0.0966 - val_loss: 0.0174 - val_mae: 0.1093\n",
            "Epoch 31/2000\n",
            "11/11 [==============================] - 0s 4ms/step - loss: 0.0174 - mae: 0.0962 - val_loss: 0.0173 - val_mae: 0.1089\n",
            "Epoch 32/2000\n",
            "11/11 [==============================] - 0s 4ms/step - loss: 0.0172 - mae: 0.0955 - val_loss: 0.0172 - val_mae: 0.1082\n",
            "Epoch 33/2000\n",
            "11/11 [==============================] - 0s 4ms/step - loss: 0.0170 - mae: 0.0951 - val_loss: 0.0171 - val_mae: 0.1078\n",
            "Epoch 34/2000\n",
            "11/11 [==============================] - 0s 6ms/step - loss: 0.0169 - mae: 0.0946 - val_loss: 0.0169 - val_mae: 0.1073\n",
            "Epoch 35/2000\n",
            "11/11 [==============================] - 0s 4ms/step - loss: 0.0167 - mae: 0.0942 - val_loss: 0.0168 - val_mae: 0.1069\n",
            "Epoch 36/2000\n",
            "11/11 [==============================] - 0s 4ms/step - loss: 0.0166 - mae: 0.0936 - val_loss: 0.0167 - val_mae: 0.1063\n",
            "Epoch 37/2000\n",
            "11/11 [==============================] - 0s 5ms/step - loss: 0.0164 - mae: 0.0933 - val_loss: 0.0166 - val_mae: 0.1059\n",
            "Epoch 38/2000\n",
            "11/11 [==============================] - 0s 4ms/step - loss: 0.0163 - mae: 0.0927 - val_loss: 0.0165 - val_mae: 0.1054\n",
            "Epoch 39/2000\n",
            "11/11 [==============================] - 0s 4ms/step - loss: 0.0161 - mae: 0.0923 - val_loss: 0.0165 - val_mae: 0.1051\n",
            "Epoch 40/2000\n",
            "11/11 [==============================] - 0s 5ms/step - loss: 0.0160 - mae: 0.0917 - val_loss: 0.0164 - val_mae: 0.1045\n",
            "Epoch 41/2000\n",
            "11/11 [==============================] - 0s 4ms/step - loss: 0.0159 - mae: 0.0914 - val_loss: 0.0163 - val_mae: 0.1042\n",
            "Epoch 42/2000\n",
            "11/11 [==============================] - 0s 4ms/step - loss: 0.0157 - mae: 0.0909 - val_loss: 0.0162 - val_mae: 0.1038\n",
            "Epoch 43/2000\n",
            "11/11 [==============================] - 0s 4ms/step - loss: 0.0156 - mae: 0.0905 - val_loss: 0.0161 - val_mae: 0.1034\n",
            "Epoch 44/2000\n",
            "11/11 [==============================] - 0s 4ms/step - loss: 0.0155 - mae: 0.0902 - val_loss: 0.0161 - val_mae: 0.1031\n",
            "Epoch 45/2000\n",
            "11/11 [==============================] - 0s 5ms/step - loss: 0.0153 - mae: 0.0898 - val_loss: 0.0160 - val_mae: 0.1028\n",
            "Epoch 46/2000\n",
            "11/11 [==============================] - 0s 4ms/step - loss: 0.0152 - mae: 0.0894 - val_loss: 0.0160 - val_mae: 0.1025\n",
            "Epoch 47/2000\n",
            "11/11 [==============================] - 0s 4ms/step - loss: 0.0151 - mae: 0.0889 - val_loss: 0.0160 - val_mae: 0.1022\n",
            "Epoch 48/2000\n",
            "11/11 [==============================] - 0s 4ms/step - loss: 0.0150 - mae: 0.0886 - val_loss: 0.0159 - val_mae: 0.1018\n",
            "Epoch 49/2000\n",
            "11/11 [==============================] - 0s 4ms/step - loss: 0.0149 - mae: 0.0883 - val_loss: 0.0159 - val_mae: 0.1015\n",
            "Epoch 50/2000\n",
            "11/11 [==============================] - 0s 4ms/step - loss: 0.0147 - mae: 0.0879 - val_loss: 0.0158 - val_mae: 0.1012\n",
            "Epoch 51/2000\n",
            "11/11 [==============================] - 0s 5ms/step - loss: 0.0146 - mae: 0.0876 - val_loss: 0.0158 - val_mae: 0.1009\n",
            "Epoch 52/2000\n",
            "11/11 [==============================] - 0s 4ms/step - loss: 0.0145 - mae: 0.0873 - val_loss: 0.0158 - val_mae: 0.1006\n",
            "Epoch 53/2000\n",
            "11/11 [==============================] - 0s 4ms/step - loss: 0.0144 - mae: 0.0869 - val_loss: 0.0157 - val_mae: 0.1004\n",
            "Epoch 54/2000\n",
            "11/11 [==============================] - 0s 4ms/step - loss: 0.0143 - mae: 0.0866 - val_loss: 0.0157 - val_mae: 0.1001\n",
            "Epoch 55/2000\n",
            "11/11 [==============================] - 0s 4ms/step - loss: 0.0142 - mae: 0.0861 - val_loss: 0.0157 - val_mae: 0.0999\n",
            "Epoch 56/2000\n",
            "11/11 [==============================] - 0s 4ms/step - loss: 0.0141 - mae: 0.0861 - val_loss: 0.0157 - val_mae: 0.0997\n",
            "Epoch 57/2000\n",
            "11/11 [==============================] - 0s 4ms/step - loss: 0.0140 - mae: 0.0858 - val_loss: 0.0156 - val_mae: 0.0995\n",
            "Epoch 58/2000\n",
            "11/11 [==============================] - 0s 4ms/step - loss: 0.0139 - mae: 0.0854 - val_loss: 0.0156 - val_mae: 0.0993\n",
            "Epoch 59/2000\n",
            "11/11 [==============================] - 0s 5ms/step - loss: 0.0138 - mae: 0.0852 - val_loss: 0.0156 - val_mae: 0.0991\n",
            "Epoch 60/2000\n",
            "11/11 [==============================] - 0s 4ms/step - loss: 0.0137 - mae: 0.0848 - val_loss: 0.0156 - val_mae: 0.0989\n",
            "Epoch 61/2000\n",
            "11/11 [==============================] - 0s 4ms/step - loss: 0.0136 - mae: 0.0844 - val_loss: 0.0156 - val_mae: 0.0988\n",
            "Epoch 62/2000\n",
            "11/11 [==============================] - 0s 4ms/step - loss: 0.0135 - mae: 0.0842 - val_loss: 0.0156 - val_mae: 0.0987\n",
            "Epoch 63/2000\n",
            "11/11 [==============================] - 0s 4ms/step - loss: 0.0135 - mae: 0.0838 - val_loss: 0.0156 - val_mae: 0.0986\n",
            "Epoch 64/2000\n",
            "11/11 [==============================] - 0s 4ms/step - loss: 0.0134 - mae: 0.0837 - val_loss: 0.0156 - val_mae: 0.0985\n",
            "Epoch 65/2000\n",
            "11/11 [==============================] - 0s 5ms/step - loss: 0.0133 - mae: 0.0834 - val_loss: 0.0156 - val_mae: 0.0985\n",
            "Epoch 66/2000\n",
            "11/11 [==============================] - 0s 4ms/step - loss: 0.0132 - mae: 0.0832 - val_loss: 0.0156 - val_mae: 0.0983\n",
            "Epoch 67/2000\n",
            "11/11 [==============================] - 0s 4ms/step - loss: 0.0131 - mae: 0.0828 - val_loss: 0.0156 - val_mae: 0.0982\n",
            "Epoch 68/2000\n",
            "11/11 [==============================] - 0s 4ms/step - loss: 0.0130 - mae: 0.0826 - val_loss: 0.0156 - val_mae: 0.0982\n",
            "Epoch 69/2000\n",
            "11/11 [==============================] - 0s 4ms/step - loss: 0.0130 - mae: 0.0825 - val_loss: 0.0156 - val_mae: 0.0981\n",
            "Epoch 70/2000\n",
            "11/11 [==============================] - 0s 4ms/step - loss: 0.0129 - mae: 0.0820 - val_loss: 0.0156 - val_mae: 0.0980\n",
            "Epoch 71/2000\n",
            "11/11 [==============================] - 0s 4ms/step - loss: 0.0128 - mae: 0.0819 - val_loss: 0.0156 - val_mae: 0.0978\n",
            "Epoch 72/2000\n",
            "11/11 [==============================] - 0s 4ms/step - loss: 0.0127 - mae: 0.0814 - val_loss: 0.0156 - val_mae: 0.0978\n",
            "Epoch 73/2000\n",
            "11/11 [==============================] - 0s 4ms/step - loss: 0.0126 - mae: 0.0812 - val_loss: 0.0156 - val_mae: 0.0977\n",
            "Epoch 74/2000\n",
            "11/11 [==============================] - 0s 4ms/step - loss: 0.0126 - mae: 0.0809 - val_loss: 0.0156 - val_mae: 0.0978\n",
            "Epoch 75/2000\n",
            "11/11 [==============================] - 0s 5ms/step - loss: 0.0125 - mae: 0.0808 - val_loss: 0.0156 - val_mae: 0.0976\n",
            "Epoch 76/2000\n",
            "11/11 [==============================] - 0s 4ms/step - loss: 0.0124 - mae: 0.0804 - val_loss: 0.0157 - val_mae: 0.0978\n",
            "Epoch 77/2000\n",
            "11/11 [==============================] - 0s 4ms/step - loss: 0.0124 - mae: 0.0802 - val_loss: 0.0157 - val_mae: 0.0979\n",
            "Epoch 78/2000\n",
            "11/11 [==============================] - 0s 4ms/step - loss: 0.0123 - mae: 0.0801 - val_loss: 0.0157 - val_mae: 0.0979\n",
            "Epoch 79/2000\n",
            "11/11 [==============================] - 0s 4ms/step - loss: 0.0122 - mae: 0.0798 - val_loss: 0.0157 - val_mae: 0.0979\n",
            "Epoch 80/2000\n",
            "11/11 [==============================] - 0s 4ms/step - loss: 0.0122 - mae: 0.0796 - val_loss: 0.0157 - val_mae: 0.0979\n",
            "Epoch 81/2000\n",
            "11/11 [==============================] - 0s 4ms/step - loss: 0.0121 - mae: 0.0794 - val_loss: 0.0158 - val_mae: 0.0979\n",
            "Epoch 82/2000\n",
            "11/11 [==============================] - 0s 4ms/step - loss: 0.0120 - mae: 0.0792 - val_loss: 0.0158 - val_mae: 0.0980\n",
            "Epoch 83/2000\n",
            "11/11 [==============================] - 0s 5ms/step - loss: 0.0120 - mae: 0.0790 - val_loss: 0.0158 - val_mae: 0.0980\n",
            "Epoch 84/2000\n",
            "11/11 [==============================] - 0s 5ms/step - loss: 0.0119 - mae: 0.0787 - val_loss: 0.0158 - val_mae: 0.0980\n",
            "Epoch 85/2000\n",
            "11/11 [==============================] - 0s 5ms/step - loss: 0.0118 - mae: 0.0785 - val_loss: 0.0159 - val_mae: 0.0981\n",
            "Epoch 86/2000\n",
            "11/11 [==============================] - 0s 4ms/step - loss: 0.0118 - mae: 0.0783 - val_loss: 0.0159 - val_mae: 0.0980\n",
            "Epoch 87/2000\n",
            "11/11 [==============================] - 0s 4ms/step - loss: 0.0117 - mae: 0.0782 - val_loss: 0.0159 - val_mae: 0.0979\n",
            "Epoch 88/2000\n",
            "11/11 [==============================] - 0s 4ms/step - loss: 0.0117 - mae: 0.0779 - val_loss: 0.0159 - val_mae: 0.0978\n",
            "Epoch 89/2000\n",
            "11/11 [==============================] - 0s 4ms/step - loss: 0.0116 - mae: 0.0777 - val_loss: 0.0159 - val_mae: 0.0977\n",
            "Epoch 90/2000\n",
            "11/11 [==============================] - 0s 4ms/step - loss: 0.0116 - mae: 0.0773 - val_loss: 0.0160 - val_mae: 0.0979\n",
            "Epoch 91/2000\n",
            "11/11 [==============================] - 0s 4ms/step - loss: 0.0115 - mae: 0.0771 - val_loss: 0.0160 - val_mae: 0.0981\n",
            "Epoch 92/2000\n",
            "11/11 [==============================] - 0s 4ms/step - loss: 0.0114 - mae: 0.0770 - val_loss: 0.0160 - val_mae: 0.0980\n",
            "Epoch 93/2000\n",
            "11/11 [==============================] - 0s 4ms/step - loss: 0.0114 - mae: 0.0769 - val_loss: 0.0160 - val_mae: 0.0978\n",
            "Epoch 94/2000\n",
            "11/11 [==============================] - 0s 4ms/step - loss: 0.0113 - mae: 0.0765 - val_loss: 0.0161 - val_mae: 0.0981\n",
            "Epoch 95/2000\n",
            "11/11 [==============================] - 0s 4ms/step - loss: 0.0113 - mae: 0.0765 - val_loss: 0.0161 - val_mae: 0.0978\n",
            "Epoch 96/2000\n",
            "11/11 [==============================] - 0s 4ms/step - loss: 0.0112 - mae: 0.0762 - val_loss: 0.0161 - val_mae: 0.0981\n",
            "Epoch 97/2000\n",
            "11/11 [==============================] - 0s 4ms/step - loss: 0.0112 - mae: 0.0761 - val_loss: 0.0161 - val_mae: 0.0980\n",
            "Epoch 98/2000\n",
            "11/11 [==============================] - 0s 4ms/step - loss: 0.0111 - mae: 0.0759 - val_loss: 0.0162 - val_mae: 0.0983\n",
            "Epoch 99/2000\n",
            "11/11 [==============================] - 0s 4ms/step - loss: 0.0111 - mae: 0.0759 - val_loss: 0.0162 - val_mae: 0.0980\n",
            "Epoch 100/2000\n",
            "11/11 [==============================] - 0s 4ms/step - loss: 0.0110 - mae: 0.0755 - val_loss: 0.0162 - val_mae: 0.0979\n",
            "Epoch 101/2000\n",
            "11/11 [==============================] - 0s 4ms/step - loss: 0.0110 - mae: 0.0754 - val_loss: 0.0162 - val_mae: 0.0979\n",
            "Epoch 102/2000\n",
            "11/11 [==============================] - 0s 4ms/step - loss: 0.0109 - mae: 0.0752 - val_loss: 0.0162 - val_mae: 0.0978\n",
            "Epoch 103/2000\n",
            "11/11 [==============================] - 0s 4ms/step - loss: 0.0109 - mae: 0.0750 - val_loss: 0.0163 - val_mae: 0.0980\n",
            "Epoch 104/2000\n",
            "11/11 [==============================] - 0s 5ms/step - loss: 0.0109 - mae: 0.0749 - val_loss: 0.0163 - val_mae: 0.0979\n",
            "Epoch 105/2000\n",
            "11/11 [==============================] - 0s 4ms/step - loss: 0.0108 - mae: 0.0746 - val_loss: 0.0163 - val_mae: 0.0979\n",
            "Epoch 106/2000\n",
            "11/11 [==============================] - 0s 4ms/step - loss: 0.0108 - mae: 0.0745 - val_loss: 0.0163 - val_mae: 0.0976\n",
            "Epoch 107/2000\n",
            "11/11 [==============================] - 0s 5ms/step - loss: 0.0107 - mae: 0.0742 - val_loss: 0.0164 - val_mae: 0.0978\n",
            "Epoch 108/2000\n",
            "11/11 [==============================] - 0s 4ms/step - loss: 0.0107 - mae: 0.0741 - val_loss: 0.0164 - val_mae: 0.0981\n",
            "Epoch 109/2000\n",
            "11/11 [==============================] - 0s 4ms/step - loss: 0.0106 - mae: 0.0740 - val_loss: 0.0165 - val_mae: 0.0980\n",
            "Epoch 110/2000\n",
            "11/11 [==============================] - 0s 4ms/step - loss: 0.0106 - mae: 0.0740 - val_loss: 0.0165 - val_mae: 0.0979\n",
            "Epoch 111/2000\n",
            "11/11 [==============================] - 0s 4ms/step - loss: 0.0106 - mae: 0.0738 - val_loss: 0.0165 - val_mae: 0.0978\n",
            "Epoch 112/2000\n",
            "11/11 [==============================] - 0s 4ms/step - loss: 0.0105 - mae: 0.0735 - val_loss: 0.0165 - val_mae: 0.0978\n",
            "Epoch 113/2000\n",
            "11/11 [==============================] - 0s 4ms/step - loss: 0.0105 - mae: 0.0735 - val_loss: 0.0166 - val_mae: 0.0980\n",
            "Epoch 114/2000\n",
            "11/11 [==============================] - 0s 4ms/step - loss: 0.0104 - mae: 0.0734 - val_loss: 0.0166 - val_mae: 0.0979\n",
            "Epoch 115/2000\n",
            "11/11 [==============================] - 0s 4ms/step - loss: 0.0104 - mae: 0.0732 - val_loss: 0.0166 - val_mae: 0.0981\n",
            "Epoch 116/2000\n",
            "11/11 [==============================] - 0s 4ms/step - loss: 0.0104 - mae: 0.0730 - val_loss: 0.0167 - val_mae: 0.0983\n",
            "Epoch 00116: early stopping\n"
          ]
        },
        {
          "output_type": "display_data",
          "data": {
            "image/png": "[encoded data removed]",
            "text/plain": [
              "<Figure size 432x288 with 1 Axes>"
            ]
          },
          "metadata": {
            "needs_background": "light"
          }
        },
        {
          "output_type": "stream",
          "name": "stdout",
          "text": [
            "32/32 [==============================] - 0s 2ms/step - loss: 0.0069 - mae: 0.0651\n",
            "mae = 0.06511235237121582\n",
            "loss= 0.006931604817509651\n"
          ]
        },
        {
          "output_type": "display_data",
          "data": {
            "image/png": "[encoded data removed]",
            "text/plain": [
              "<Figure size 432x288 with 1 Axes>"
            ]
          },
          "metadata": {
            "needs_background": "light"
          }
        }
      ]
    },
    {
      "cell_type": "code",
      "source": [
        "!head sample_submission.csv"
      ],
      "metadata": {
        "colab": {
          "base_uri": "https://localhost:8080/"
        },
        "id": "cQaHM-RL_NXk",
        "outputId": "6e4daee1-39f4-47b4-c8be-10ef99781dae"
      },
      "execution_count": 53,
      "outputs": [
        {
          "output_type": "stream",
          "name": "stdout",
          "text": [
            "code,num\r\n",
            "C1072,0\r\n",
            "C1128,0\r\n",
            "C1456,0\r\n",
            "C1840,0\r\n",
            "C1332,0\r\n",
            "C1563,0\r\n",
            "C1794,0\r\n",
            "C1640,0\r\n",
            "C1377,0\r\n"
          ]
        }
      ]
    },
    {
      "cell_type": "markdown",
      "source": [
        ""
      ],
      "metadata": {
        "id": "fENIgIEAJFir"
      }
    },
    {
      "cell_type": "code",
      "source": [
        "!head test.csv"
      ],
      "metadata": {
        "colab": {
          "base_uri": "https://localhost:8080/"
        },
        "id": "bD7y44Cz_NVU",
        "outputId": "1b8a84b4-12e7-4cf5-d647-6ec504f5e250"
      },
      "execution_count": 54,
      "outputs": [
        {
          "output_type": "stream",
          "name": "stdout",
          "text": [
            "단지코드,총세대수,임대건물구분,지역,공급유형,전용면적,전용면적별세대수,공가수,자격유형,임대보증금,임대료,도보 10분거리 내 지하철역 수(환승노선 수 반영),도보 10분거리 내 버스정류장 수,단지내주차면수\r\n",
            "C1072,754,아파트,경기도,국민임대,39.79,116,14.0,H,22830000,189840,0.0,2.0,683.0\r\n",
            "C1072,754,아파트,경기도,국민임대,46.81,30,14.0,A,36048000,249930,0.0,2.0,683.0\r\n",
            "C1072,754,아파트,경기도,국민임대,46.9,112,14.0,H,36048000,249930,0.0,2.0,683.0\r\n",
            "C1072,754,아파트,경기도,국민임대,46.9,120,14.0,H,36048000,249930,0.0,2.0,683.0\r\n",
            "C1072,754,아파트,경기도,국민임대,51.46,60,14.0,H,43497000,296780,0.0,2.0,683.0\r\n",
            "C1072,754,아파트,경기도,국민임대,51.71,51,14.0,H,43497000,296780,0.0,2.0,683.0\r\n",
            "C1072,754,아파트,경기도,국민임대,51.96,198,14.0,H,43497000,296780,0.0,2.0,683.0\r\n",
            "C1072,754,아파트,경기도,국민임대,51.96,67,14.0,H,43497000,296780,0.0,2.0,683.0\r\n",
            "C1128,1354,아파트,경기도,국민임대,39.79,368,9.0,H,22830000,189840,0.0,3.0,1216.0\r\n"
          ]
        }
      ]
    },
    {
      "cell_type": "code",
      "source": [
        "!wc sample_submission.csv\n",
        "!wc test.csv"
      ],
      "metadata": {
        "colab": {
          "base_uri": "https://localhost:8080/"
        },
        "id": "pyGVk-tL_NS0",
        "outputId": "5494dc31-760a-4876-f9db-4856e5751dcc"
      },
      "execution_count": 55,
      "outputs": [
        {
          "output_type": "stream",
          "name": "stdout",
          "text": [
            " 151  151 1360 sample_submission.csv\n",
            " 1023  1033 92574 test.csv\n"
          ]
        }
      ]
    },
    {
      "cell_type": "markdown",
      "source": [
        "# 예측값 구하기"
      ],
      "metadata": {
        "id": "KbvFVrZMIh_z"
      }
    },
    {
      "cell_type": "code",
      "source": [
        "y_min = y_df.min()\n",
        "y_max = y_df.max()\n",
        "y_ = model.predict(test_x)\n",
        "recovered_y = y_ * (y_max - y_min) + y_min"
      ],
      "metadata": {
        "id": "SAhJEKzDIgbj"
      },
      "execution_count": 56,
      "outputs": []
    },
    {
      "cell_type": "code",
      "source": [
        "test['등록차량수'] = recovered_y"
      ],
      "metadata": {
        "id": "-tEIKF-2_NNQ"
      },
      "execution_count": 57,
      "outputs": []
    },
    {
      "cell_type": "code",
      "source": [
        "result_df= test.groupby('단지코드').mean()"
      ],
      "metadata": {
        "id": "v5cxlFLT_NKc"
      },
      "execution_count": 58,
      "outputs": []
    },
    {
      "cell_type": "code",
      "source": [
        "result_df = result_df.reset_index()"
      ],
      "metadata": {
        "id": "w6itqAP9_NH3"
      },
      "execution_count": 59,
      "outputs": []
    },
    {
      "cell_type": "code",
      "source": [
        "result_df = result_df[['단지코드', '등록차량수']]"
      ],
      "metadata": {
        "id": "lNkrRkjoM33g"
      },
      "execution_count": 60,
      "outputs": []
    },
    {
      "cell_type": "code",
      "source": [
        "result = result_df.to_numpy()\n",
        "print(result.shape)\n",
        "print(result[:5])"
      ],
      "metadata": {
        "colab": {
          "base_uri": "https://localhost:8080/"
        },
        "id": "YGX5aBTjM30z",
        "outputId": "aa51cf46-d49b-4c72-94c6-99f132c98e61"
      },
      "execution_count": 61,
      "outputs": [
        {
          "output_type": "stream",
          "name": "stdout",
          "text": [
            "(150, 2)\n",
            "[['C1003' 0.30952176451683044]\n",
            " ['C1006' 0.13354124128818512]\n",
            " ['C1016' 0.15922626852989197]\n",
            " ['C1019' 0.17728875577449799]\n",
            " ['C1030' 0.42134881019592285]]\n"
          ]
        }
      ]
    },
    {
      "cell_type": "code",
      "source": [
        "result_map = {}\n",
        "for code, value in result:\n",
        "    result_map[code] = value\n",
        "\n",
        "print(result_map)"
      ],
      "metadata": {
        "colab": {
          "base_uri": "https://localhost:8080/"
        },
        "id": "dWLyFISfM3x4",
        "outputId": "b48830c4-ea22-4de7-b5f6-df548eb9d830"
      },
      "execution_count": 62,
      "outputs": [
        {
          "output_type": "stream",
          "name": "stdout",
          "text": [
            "{'C1003': 0.30952176451683044, 'C1006': 0.13354124128818512, 'C1016': 0.15922626852989197, 'C1019': 0.17728875577449799, 'C1030': 0.42134881019592285, 'C1038': 0.26041316986083984, 'C1040': 0.07720454037189484, 'C1060': -0.012836441397666931, 'C1064': 0.17880457639694214, 'C1071': -0.03670758381485939, 'C1072': 0.3916819393634796, 'C1083': -0.03243010863661766, 'C1105': 0.056500181555747986, 'C1128': 0.262701153755188, 'C1135': 0.1353999674320221, 'C1147': 0.012016554363071918, 'C1149': 0.1805289089679718, 'C1152': 0.09038177132606506, 'C1158': 0.05068684741854668, 'C1166': 0.1517225205898285, 'C1189': 0.020029287785291672, 'C1215': -0.00849594920873642, 'C1216': 0.17172060906887054, 'C1225': 0.11967366933822632, 'C1229': 0.22757752239704132, 'C1239': 0.07424595952033997, 'C1250': 0.029462000355124474, 'C1253': 0.15291312336921692, 'C1266': 0.17877306044101715, 'C1267': 0.22502291202545166, 'C1282': 0.22448618710041046, 'C1289': 0.45709699392318726, 'C1294': 0.109913170337677, 'C1297': 0.07370522618293762, 'C1311': -0.008158577606081963, 'C1318': 0.07808715105056763, 'C1323': 0.18210485577583313, 'C1327': 0.45587024092674255, 'C1332': 0.2630661129951477, 'C1349': 0.3275761902332306, 'C1377': 0.28594285249710083, 'C1392': 0.08798467367887497, 'C1414': 0.38968321681022644, 'C1416': 0.17010892927646637, 'C1456': 0.4188636839389801, 'C1457': 0.07078519463539124, 'C1472': 0.156978577375412, 'C1474': 0.05368708446621895, 'C1494': 0.03754052892327309, 'C1495': -0.017850030213594437, 'C1496': 0.3881632685661316, 'C1521': 0.21092933416366577, 'C1525': 0.05572109669446945, 'C1563': 0.3812350034713745, 'C1564': 0.00830175168812275, 'C1570': 0.007764600217342377, 'C1593': 0.023544855415821075, 'C1602': 0.03853335231542587, 'C1603': 0.15485849976539612, 'C1604': 0.07811523973941803, 'C1617': 0.19174382090568542, 'C1621': 0.06623632460832596, 'C1623': 0.003933119121938944, 'C1629': 0.06860953569412231, 'C1633': 0.04397165775299072, 'C1637': 0.12078133225440979, 'C1640': 0.2851298749446869, 'C1683': 0.23251700401306152, 'C1692': 0.01098434068262577, 'C1708': 0.0651312917470932, 'C1712': 0.17666937410831451, 'C1721': 0.25984013080596924, 'C1729': 0.06713241338729858, 'C1741': 0.1599508821964264, 'C1749': 0.36904072761535645, 'C1772': 0.10542351007461548, 'C1782': 0.06860983371734619, 'C1794': 0.45846059918403625, 'C1812': 0.0876946896314621, 'C1826': 0.0021163623314350843, 'C1827': -0.04308979958295822, 'C1830': 0.08867643773555756, 'C1835': 0.0715508833527565, 'C1840': 0.23284605145454407, 'C1841': 0.37626782059669495, 'C1844': 0.15478213131427765, 'C1849': 0.250389039516449, 'C1852': 0.028426695615053177, 'C1855': -0.01300337165594101, 'C1887': 0.04602659121155739, 'C1902': 0.23054620623588562, 'C2028': 0.15176163613796234, 'C2033': 0.055034980177879333, 'C2039': 0.1553795337677002, 'C2043': 0.2676198184490204, 'C2072': 0.2534075975418091, 'C2076': -0.012836441397666931, 'C2091': 0.36254405975341797, 'C2112': 0.02302323281764984, 'C2113': 0.0752921849489212, 'C2128': 0.0998106300830841, 'C2131': -0.03494220972061157, 'C2144': 0.17464487254619598, 'C2152': 0.15837901830673218, 'C2174': 0.2878150939941406, 'C2175': 0.11332183331251144, 'C2177': 0.101328045129776, 'C2189': 0.28781017661094666, 'C2215': 0.06982734054327011, 'C2222': 0.0709378644824028, 'C2224': 0.0709514319896698, 'C2253': 0.095491424202919, 'C2267': 0.048245228826999664, 'C2268': 0.25646334886550903, 'C2269': 0.1753830760717392, 'C2292': 0.13589544594287872, 'C2295': 0.06864656507968903, 'C2303': 0.0497819222509861, 'C2318': 0.07095083594322205, 'C2323': 0.0705215334892273, 'C2335': 0.36411452293395996, 'C2363': 0.3758738338947296, 'C2369': 0.05073012411594391, 'C2374': 0.11955734342336655, 'C2397': 0.11917129158973694, 'C2404': 0.2763445973396301, 'C2411': 0.02130919322371483, 'C2417': 0.07432986795902252, 'C2423': 0.06086655706167221, 'C2430': 0.07022322714328766, 'C2436': 0.15714314579963684, 'C2451': 0.37225639820098877, 'C2456': 0.1888788640499115, 'C2473': 0.16234460473060608, 'C2497': 0.025720052421092987, 'C2523': 0.15485849976539612, 'C2535': 0.07801946997642517, 'C2547': 0.07216432690620422, 'C2551': 0.17886343598365784, 'C2555': 0.07515724748373032, 'C2557': 0.05102459341287613, 'C2600': 0.012789919972419739, 'C2602': 0.08610131591558456, 'C2608': 0.10025359690189362, 'C2646': 0.10325101017951965, 'C2653': 0.03720676153898239, 'C2675': 0.15774816274642944, 'C2676': 0.08549763262271881, 'C2688': 0.1675792932510376, 'C2691': -0.05886543169617653}\n"
          ]
        }
      ]
    },
    {
      "cell_type": "code",
      "source": [
        ""
      ],
      "metadata": {
        "id": "sHMX6xsRM3u7"
      },
      "execution_count": 62,
      "outputs": []
    },
    {
      "cell_type": "code",
      "source": [
        "sample.head()"
      ],
      "metadata": {
        "colab": {
          "base_uri": "https://localhost:8080/",
          "height": 206
        },
        "id": "sjztcu0FM3si",
        "outputId": "e1fe8b2b-f9fa-4d14-e58e-7ee7cd414662"
      },
      "execution_count": 63,
      "outputs": [
        {
          "output_type": "execute_result",
          "data": {
            "text/html": [
              "\n",
              "  <div id=\"df-1704aa65-d758-4f31-a6cb-36a4ce91eadb\">\n",
              "    <div class=\"colab-df-container\">\n",
              "      <div>\n",
              "<style scoped>\n",
              "    .dataframe tbody tr th:only-of-type {\n",
              "        vertical-align: middle;\n",
              "    }\n",
              "\n",
              "    .dataframe tbody tr th {\n",
              "        vertical-align: top;\n",
              "    }\n",
              "\n",
              "    .dataframe thead th {\n",
              "        text-align: right;\n",
              "    }\n",
              "</style>\n",
              "<table border=\"1\" class=\"dataframe\">\n",
              "  <thead>\n",
              "    <tr style=\"text-align: right;\">\n",
              "      <th></th>\n",
              "      <th>code</th>\n",
              "      <th>num</th>\n",
              "    </tr>\n",
              "  </thead>\n",
              "  <tbody>\n",
              "    <tr>\n",
              "      <th>0</th>\n",
              "      <td>C1072</td>\n",
              "      <td>0</td>\n",
              "    </tr>\n",
              "    <tr>\n",
              "      <th>1</th>\n",
              "      <td>C1128</td>\n",
              "      <td>0</td>\n",
              "    </tr>\n",
              "    <tr>\n",
              "      <th>2</th>\n",
              "      <td>C1456</td>\n",
              "      <td>0</td>\n",
              "    </tr>\n",
              "    <tr>\n",
              "      <th>3</th>\n",
              "      <td>C1840</td>\n",
              "      <td>0</td>\n",
              "    </tr>\n",
              "    <tr>\n",
              "      <th>4</th>\n",
              "      <td>C1332</td>\n",
              "      <td>0</td>\n",
              "    </tr>\n",
              "  </tbody>\n",
              "</table>\n",
              "</div>\n",
              "      <button class=\"colab-df-convert\" onclick=\"convertToInteractive('df-1704aa65-d758-4f31-a6cb-36a4ce91eadb')\"\n",
              "              title=\"Convert this dataframe to an interactive table.\"\n",
              "              style=\"display:none;\">\n",
              "        \n",
              "  <svg xmlns=\"http://www.w3.org/2000/svg\" height=\"24px\"viewBox=\"0 0 24 24\"\n",
              "       width=\"24px\">\n",
              "    <path d=\"M0 0h24v24H0V0z\" fill=\"none\"/>\n",
              "    <path d=\"M18.56 5.44l.94 2.06.94-2.06 2.06-.94-2.06-.94-.94-2.06-.94 2.06-2.06.94zm-11 1L8.5 8.5l.94-2.06 2.06-.94-2.06-.94L8.5 2.5l-.94 2.06-2.06.94zm10 10l.94 2.06.94-2.06 2.06-.94-2.06-.94-.94-2.06-.94 2.06-2.06.94z\"/><path d=\"M17.41 7.96l-1.37-1.37c-.4-.4-.92-.59-1.43-.59-.52 0-1.04.2-1.43.59L10.3 9.45l-7.72 7.72c-.78.78-.78 2.05 0 2.83L4 21.41c.39.39.9.59 1.41.59.51 0 1.02-.2 1.41-.59l7.78-7.78 2.81-2.81c.8-.78.8-2.07 0-2.86zM5.41 20L4 18.59l7.72-7.72 1.47 1.35L5.41 20z\"/>\n",
              "  </svg>\n",
              "      </button>\n",
              "      \n",
              "  <style>\n",
              "    .colab-df-container {\n",
              "      display:flex;\n",
              "      flex-wrap:wrap;\n",
              "      gap: 12px;\n",
              "    }\n",
              "\n",
              "    .colab-df-convert {\n",
              "      background-color: #E8F0FE;\n",
              "      border: none;\n",
              "      border-radius: 50%;\n",
              "      cursor: pointer;\n",
              "      display: none;\n",
              "      fill: #1967D2;\n",
              "      height: 32px;\n",
              "      padding: 0 0 0 0;\n",
              "      width: 32px;\n",
              "    }\n",
              "\n",
              "    .colab-df-convert:hover {\n",
              "      background-color: #E2EBFA;\n",
              "      box-shadow: 0px 1px 2px rgba(60, 64, 67, 0.3), 0px 1px 3px 1px rgba(60, 64, 67, 0.15);\n",
              "      fill: #174EA6;\n",
              "    }\n",
              "\n",
              "    [theme=dark] .colab-df-convert {\n",
              "      background-color: #3B4455;\n",
              "      fill: #D2E3FC;\n",
              "    }\n",
              "\n",
              "    [theme=dark] .colab-df-convert:hover {\n",
              "      background-color: #434B5C;\n",
              "      box-shadow: 0px 1px 3px 1px rgba(0, 0, 0, 0.15);\n",
              "      filter: drop-shadow(0px 1px 2px rgba(0, 0, 0, 0.3));\n",
              "      fill: #FFFFFF;\n",
              "    }\n",
              "  </style>\n",
              "\n",
              "      <script>\n",
              "        const buttonEl =\n",
              "          document.querySelector('#df-1704aa65-d758-4f31-a6cb-36a4ce91eadb button.colab-df-convert');\n",
              "        buttonEl.style.display =\n",
              "          google.colab.kernel.accessAllowed ? 'block' : 'none';\n",
              "\n",
              "        async function convertToInteractive(key) {\n",
              "          const element = document.querySelector('#df-1704aa65-d758-4f31-a6cb-36a4ce91eadb');\n",
              "          const dataTable =\n",
              "            await google.colab.kernel.invokeFunction('convertToInteractive',\n",
              "                                                     [key], {});\n",
              "          if (!dataTable) return;\n",
              "\n",
              "          const docLinkHtml = 'Like what you see? Visit the ' +\n",
              "            '<a target=\"_blank\" href=https://colab.research.google.com/notebooks/data_table.ipynb>data table notebook</a>'\n",
              "            + ' to learn more about interactive tables.';\n",
              "          element.innerHTML = '';\n",
              "          dataTable['output_type'] = 'display_data';\n",
              "          await google.colab.output.renderOutput(dataTable, element);\n",
              "          const docLink = document.createElement('div');\n",
              "          docLink.innerHTML = docLinkHtml;\n",
              "          element.appendChild(docLink);\n",
              "        }\n",
              "      </script>\n",
              "    </div>\n",
              "  </div>\n",
              "  "
            ],
            "text/plain": [
              "    code  num\n",
              "0  C1072    0\n",
              "1  C1128    0\n",
              "2  C1456    0\n",
              "3  C1840    0\n",
              "4  C1332    0"
            ]
          },
          "metadata": {},
          "execution_count": 63
        }
      ]
    },
    {
      "cell_type": "code",
      "source": [
        "submission_code = sample.code.to_numpy()\n",
        "\n",
        "submission = []\n",
        "\n",
        "for code in submission_code:\n",
        "    submission.append([code, result_map[code]])\n",
        "\n",
        "submission = np.array(submission)\n",
        "\n",
        "submission_df = pd.DataFrame(submission, columns=[\"code\", \"num\"])\n",
        "\n",
        "submission_df.head()"
      ],
      "metadata": {
        "colab": {
          "base_uri": "https://localhost:8080/",
          "height": 206
        },
        "id": "ti2GbUo_gOKh",
        "outputId": "45e33407-a8bf-4348-802a-4ecca1f4204c"
      },
      "execution_count": 64,
      "outputs": [
        {
          "output_type": "execute_result",
          "data": {
            "text/html": [
              "\n",
              "  <div id=\"df-1c16c37b-4aa3-448f-9ec5-f1e1581b9865\">\n",
              "    <div class=\"colab-df-container\">\n",
              "      <div>\n",
              "<style scoped>\n",
              "    .dataframe tbody tr th:only-of-type {\n",
              "        vertical-align: middle;\n",
              "    }\n",
              "\n",
              "    .dataframe tbody tr th {\n",
              "        vertical-align: top;\n",
              "    }\n",
              "\n",
              "    .dataframe thead th {\n",
              "        text-align: right;\n",
              "    }\n",
              "</style>\n",
              "<table border=\"1\" class=\"dataframe\">\n",
              "  <thead>\n",
              "    <tr style=\"text-align: right;\">\n",
              "      <th></th>\n",
              "      <th>code</th>\n",
              "      <th>num</th>\n",
              "    </tr>\n",
              "  </thead>\n",
              "  <tbody>\n",
              "    <tr>\n",
              "      <th>0</th>\n",
              "      <td>C1072</td>\n",
              "      <td>0.3916819393634796</td>\n",
              "    </tr>\n",
              "    <tr>\n",
              "      <th>1</th>\n",
              "      <td>C1128</td>\n",
              "      <td>0.262701153755188</td>\n",
              "    </tr>\n",
              "    <tr>\n",
              "      <th>2</th>\n",
              "      <td>C1456</td>\n",
              "      <td>0.4188636839389801</td>\n",
              "    </tr>\n",
              "    <tr>\n",
              "      <th>3</th>\n",
              "      <td>C1840</td>\n",
              "      <td>0.23284605145454407</td>\n",
              "    </tr>\n",
              "    <tr>\n",
              "      <th>4</th>\n",
              "      <td>C1332</td>\n",
              "      <td>0.2630661129951477</td>\n",
              "    </tr>\n",
              "  </tbody>\n",
              "</table>\n",
              "</div>\n",
              "      <button class=\"colab-df-convert\" onclick=\"convertToInteractive('df-1c16c37b-4aa3-448f-9ec5-f1e1581b9865')\"\n",
              "              title=\"Convert this dataframe to an interactive table.\"\n",
              "              style=\"display:none;\">\n",
              "        \n",
              "  <svg xmlns=\"http://www.w3.org/2000/svg\" height=\"24px\"viewBox=\"0 0 24 24\"\n",
              "       width=\"24px\">\n",
              "    <path d=\"M0 0h24v24H0V0z\" fill=\"none\"/>\n",
              "    <path d=\"M18.56 5.44l.94 2.06.94-2.06 2.06-.94-2.06-.94-.94-2.06-.94 2.06-2.06.94zm-11 1L8.5 8.5l.94-2.06 2.06-.94-2.06-.94L8.5 2.5l-.94 2.06-2.06.94zm10 10l.94 2.06.94-2.06 2.06-.94-2.06-.94-.94-2.06-.94 2.06-2.06.94z\"/><path d=\"M17.41 7.96l-1.37-1.37c-.4-.4-.92-.59-1.43-.59-.52 0-1.04.2-1.43.59L10.3 9.45l-7.72 7.72c-.78.78-.78 2.05 0 2.83L4 21.41c.39.39.9.59 1.41.59.51 0 1.02-.2 1.41-.59l7.78-7.78 2.81-2.81c.8-.78.8-2.07 0-2.86zM5.41 20L4 18.59l7.72-7.72 1.47 1.35L5.41 20z\"/>\n",
              "  </svg>\n",
              "      </button>\n",
              "      \n",
              "  <style>\n",
              "    .colab-df-container {\n",
              "      display:flex;\n",
              "      flex-wrap:wrap;\n",
              "      gap: 12px;\n",
              "    }\n",
              "\n",
              "    .colab-df-convert {\n",
              "      background-color: #E8F0FE;\n",
              "      border: none;\n",
              "      border-radius: 50%;\n",
              "      cursor: pointer;\n",
              "      display: none;\n",
              "      fill: #1967D2;\n",
              "      height: 32px;\n",
              "      padding: 0 0 0 0;\n",
              "      width: 32px;\n",
              "    }\n",
              "\n",
              "    .colab-df-convert:hover {\n",
              "      background-color: #E2EBFA;\n",
              "      box-shadow: 0px 1px 2px rgba(60, 64, 67, 0.3), 0px 1px 3px 1px rgba(60, 64, 67, 0.15);\n",
              "      fill: #174EA6;\n",
              "    }\n",
              "\n",
              "    [theme=dark] .colab-df-convert {\n",
              "      background-color: #3B4455;\n",
              "      fill: #D2E3FC;\n",
              "    }\n",
              "\n",
              "    [theme=dark] .colab-df-convert:hover {\n",
              "      background-color: #434B5C;\n",
              "      box-shadow: 0px 1px 3px 1px rgba(0, 0, 0, 0.15);\n",
              "      filter: drop-shadow(0px 1px 2px rgba(0, 0, 0, 0.3));\n",
              "      fill: #FFFFFF;\n",
              "    }\n",
              "  </style>\n",
              "\n",
              "      <script>\n",
              "        const buttonEl =\n",
              "          document.querySelector('#df-1c16c37b-4aa3-448f-9ec5-f1e1581b9865 button.colab-df-convert');\n",
              "        buttonEl.style.display =\n",
              "          google.colab.kernel.accessAllowed ? 'block' : 'none';\n",
              "\n",
              "        async function convertToInteractive(key) {\n",
              "          const element = document.querySelector('#df-1c16c37b-4aa3-448f-9ec5-f1e1581b9865');\n",
              "          const dataTable =\n",
              "            await google.colab.kernel.invokeFunction('convertToInteractive',\n",
              "                                                     [key], {});\n",
              "          if (!dataTable) return;\n",
              "\n",
              "          const docLinkHtml = 'Like what you see? Visit the ' +\n",
              "            '<a target=\"_blank\" href=https://colab.research.google.com/notebooks/data_table.ipynb>data table notebook</a>'\n",
              "            + ' to learn more about interactive tables.';\n",
              "          element.innerHTML = '';\n",
              "          dataTable['output_type'] = 'display_data';\n",
              "          await google.colab.output.renderOutput(dataTable, element);\n",
              "          const docLink = document.createElement('div');\n",
              "          docLink.innerHTML = docLinkHtml;\n",
              "          element.appendChild(docLink);\n",
              "        }\n",
              "      </script>\n",
              "    </div>\n",
              "  </div>\n",
              "  "
            ],
            "text/plain": [
              "    code                  num\n",
              "0  C1072   0.3916819393634796\n",
              "1  C1128    0.262701153755188\n",
              "2  C1456   0.4188636839389801\n",
              "3  C1840  0.23284605145454407\n",
              "4  C1332   0.2630661129951477"
            ]
          },
          "metadata": {},
          "execution_count": 64
        }
      ]
    },
    {
      "cell_type": "code",
      "source": [
        "submission_df.to_csv('submission.csv', index =False)"
      ],
      "metadata": {
        "id": "G-gOQtydgYXZ"
      },
      "execution_count": 65,
      "outputs": []
    },
    {
      "cell_type": "code",
      "source": [
        ""
      ],
      "metadata": {
        "id": "iW1S2VOFgjAM"
      },
      "execution_count": null,
      "outputs": []
    }
  ]
}