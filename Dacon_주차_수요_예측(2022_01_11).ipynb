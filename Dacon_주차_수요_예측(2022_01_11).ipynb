{
  "nbformat": 4,
  "nbformat_minor": 0,
  "metadata": {
    "colab": {
      "name": "Dacon_주차 수요 예측(2022_01_11).ipynb",
      "provenance": [],
      "collapsed_sections": [],
      "machine_shape": "hm"
    },
    "kernelspec": {
      "name": "python3",
      "display_name": "Python 3"
    },
    "language_info": {
      "name": "python"
    },
    "accelerator": "GPU"
  },
  "cells": [
    {
      "cell_type": "markdown",
      "source": [
        "# 데이터 불러오기"
      ],
      "metadata": {
        "id": "LSgDgH3yv09g"
      }
    },
    {
      "cell_type": "code",
      "execution_count": 1,
      "metadata": {
        "id": "hNwN0p_BISO9"
      },
      "outputs": [],
      "source": [
        "import pandas as pd \n",
        "age_gender = pd.read_csv('/content/age_gender_info.csv')\n",
        "train = pd.read_csv('/content/train.csv')\n",
        "test = pd.read_csv('/content/test.csv')\n",
        "sample = pd.read_csv('/content/sample_submission.csv')"
      ]
    },
    {
      "cell_type": "code",
      "source": [
        "train_data_count = len(train)\n",
        "test_data_count = len(test)\n",
        "\n",
        "print(train_data_count, test_data_count)"
      ],
      "metadata": {
        "colab": {
          "base_uri": "https://localhost:8080/"
        },
        "id": "DmeEoU3QBuVB",
        "outputId": "d5ad2b4c-917c-4822-f4e4-a9813bf4fe6f"
      },
      "execution_count": 35,
      "outputs": [
        {
          "output_type": "stream",
          "name": "stdout",
          "text": [
            "3974 1022\n"
          ]
        }
      ]
    },
    {
      "cell_type": "markdown",
      "source": [
        "# 데이터 합치기"
      ],
      "metadata": {
        "id": "ZPTsNkE-2_Z7"
      }
    },
    {
      "cell_type": "code",
      "source": [
        "print(len(train), len(test))\n",
        "test['등록차량수'] = -1\n",
        "train = train.append(test)\n",
        "print(len(train))"
      ],
      "metadata": {
        "colab": {
          "base_uri": "https://localhost:8080/"
        },
        "id": "ptbZyusn2-cX",
        "outputId": "3fa239ed-68af-42c6-e98d-b04cceaff630"
      },
      "execution_count": 2,
      "outputs": [
        {
          "output_type": "stream",
          "name": "stdout",
          "text": [
            "2952 1022\n",
            "3974\n"
          ]
        }
      ]
    },
    {
      "cell_type": "code",
      "source": [
        "train.isnull().sum()"
      ],
      "metadata": {
        "colab": {
          "base_uri": "https://localhost:8080/"
        },
        "id": "ms7malJzI_TK",
        "outputId": "c906c193-4a36-4beb-b0c5-026e304c35c7"
      },
      "execution_count": 3,
      "outputs": [
        {
          "output_type": "execute_result",
          "data": {
            "text/plain": [
              "단지코드                              0\n",
              "총세대수                              0\n",
              "임대건물구분                            0\n",
              "지역                                0\n",
              "공급유형                              0\n",
              "전용면적                              0\n",
              "전용면적별세대수                          0\n",
              "공가수                               0\n",
              "자격유형                              2\n",
              "임대보증금                           749\n",
              "임대료                             749\n",
              "도보 10분거리 내 지하철역 수(환승노선 수 반영)    253\n",
              "도보 10분거리 내 버스정류장 수                4\n",
              "단지내주차면수                           0\n",
              "등록차량수                             0\n",
              "dtype: int64"
            ]
          },
          "metadata": {},
          "execution_count": 3
        }
      ]
    },
    {
      "cell_type": "code",
      "source": [
        "test.isnull().sum()"
      ],
      "metadata": {
        "colab": {
          "base_uri": "https://localhost:8080/"
        },
        "id": "svRgtSVPumey",
        "outputId": "3ba7768c-c804-48f8-e6b2-729712b7ddad"
      },
      "execution_count": 4,
      "outputs": [
        {
          "output_type": "execute_result",
          "data": {
            "text/plain": [
              "단지코드                              0\n",
              "총세대수                              0\n",
              "임대건물구분                            0\n",
              "지역                                0\n",
              "공급유형                              0\n",
              "전용면적                              0\n",
              "전용면적별세대수                          0\n",
              "공가수                               0\n",
              "자격유형                              2\n",
              "임대보증금                           180\n",
              "임대료                             180\n",
              "도보 10분거리 내 지하철역 수(환승노선 수 반영)     42\n",
              "도보 10분거리 내 버스정류장 수                0\n",
              "단지내주차면수                           0\n",
              "등록차량수                             0\n",
              "dtype: int64"
            ]
          },
          "metadata": {},
          "execution_count": 4
        }
      ]
    },
    {
      "cell_type": "markdown",
      "source": [
        "# 데이터 전처리"
      ],
      "metadata": {
        "id": "GifledULv-Ee"
      }
    },
    {
      "cell_type": "markdown",
      "source": [
        "## 컬럼 삭제"
      ],
      "metadata": {
        "id": "c00h4dzh5Vag"
      }
    },
    {
      "cell_type": "markdown",
      "source": [
        "임대료, 도보 10분거리 내 지하철역 수(환승노선 수 반영),도보 10분거리 내 버스정류장 수는 버린다.\n",
        "\n",
        "도보 10분거리 내 버스정류장 수는 0으로 채움"
      ],
      "metadata": {
        "id": "aJlbq9vquvtW"
      }
    },
    {
      "cell_type": "code",
      "source": [
        "train.drop(columns = ['임대보증금', '임대료', '도보 10분거리 내 지하철역 수(환승노선 수 반영)'], inplace = True)\n",
        "test.drop(columns = ['임대보증금', '임대료', '도보 10분거리 내 지하철역 수(환승노선 수 반영)'], inplace = True)"
      ],
      "metadata": {
        "id": "eFVqOAy8Nm2I"
      },
      "execution_count": 5,
      "outputs": []
    },
    {
      "cell_type": "markdown",
      "source": [
        "## 자격유형 결측치 처리"
      ],
      "metadata": {
        "id": "5a8EuPAQ7OgJ"
      }
    },
    {
      "cell_type": "markdown",
      "source": [
        "### 자격유형의 null값은 가장 많은 A로 채움"
      ],
      "metadata": {
        "id": "hVrS0V8I5hc0"
      }
    },
    {
      "cell_type": "code",
      "source": [
        "train.자격유형.value_counts()"
      ],
      "metadata": {
        "colab": {
          "base_uri": "https://localhost:8080/"
        },
        "outputId": "65b0bf87-8671-478a-f5cc-293b9ace893c",
        "id": "J09afVm25hc7"
      },
      "execution_count": 6,
      "outputs": [
        {
          "output_type": "execute_result",
          "data": {
            "text/plain": [
              "A    2373\n",
              "D     749\n",
              "H     247\n",
              "J     198\n",
              "C     129\n",
              "I      56\n",
              "K      49\n",
              "E      47\n",
              "L      45\n",
              "N      40\n",
              "B      21\n",
              "G      10\n",
              "M       4\n",
              "F       3\n",
              "O       1\n",
              "Name: 자격유형, dtype: int64"
            ]
          },
          "metadata": {},
          "execution_count": 6
        }
      ]
    },
    {
      "cell_type": "code",
      "source": [
        "train['자격유형'].fillna('A', inplace = True)\n",
        "test['자격유형'].fillna('A', inplace = True)"
      ],
      "metadata": {
        "id": "fIGcynZR5hc8"
      },
      "execution_count": 7,
      "outputs": []
    },
    {
      "cell_type": "code",
      "source": [
        "train['자격유형'].value_counts()"
      ],
      "metadata": {
        "colab": {
          "base_uri": "https://localhost:8080/"
        },
        "outputId": "685c2981-b5e4-480c-ef6e-e69b2b38d43a",
        "id": "mcvslgRB5hc8"
      },
      "execution_count": 8,
      "outputs": [
        {
          "output_type": "execute_result",
          "data": {
            "text/plain": [
              "A    2375\n",
              "D     749\n",
              "H     247\n",
              "J     198\n",
              "C     129\n",
              "I      56\n",
              "K      49\n",
              "E      47\n",
              "L      45\n",
              "N      40\n",
              "B      21\n",
              "G      10\n",
              "M       4\n",
              "F       3\n",
              "O       1\n",
              "Name: 자격유형, dtype: int64"
            ]
          },
          "metadata": {},
          "execution_count": 8
        }
      ]
    },
    {
      "cell_type": "code",
      "source": [
        "train.isnull().sum()"
      ],
      "metadata": {
        "colab": {
          "base_uri": "https://localhost:8080/"
        },
        "id": "z7W0rDT-6L8X",
        "outputId": "4e1d9e24-da0b-4943-c753-431c546fc8ec"
      },
      "execution_count": 9,
      "outputs": [
        {
          "output_type": "execute_result",
          "data": {
            "text/plain": [
              "단지코드                  0\n",
              "총세대수                  0\n",
              "임대건물구분                0\n",
              "지역                    0\n",
              "공급유형                  0\n",
              "전용면적                  0\n",
              "전용면적별세대수              0\n",
              "공가수                   0\n",
              "자격유형                  0\n",
              "도보 10분거리 내 버스정류장 수    4\n",
              "단지내주차면수               0\n",
              "등록차량수                 0\n",
              "dtype: int64"
            ]
          },
          "metadata": {},
          "execution_count": 9
        }
      ]
    },
    {
      "cell_type": "markdown",
      "source": [
        "## 도보 10분거리 내 버스정류장 수 결측치 처리"
      ],
      "metadata": {
        "id": "jvMH91rt5t0R"
      }
    },
    {
      "cell_type": "code",
      "source": [
        "train['도보 10분거리 내 버스정류장 수'].fillna(0, inplace = True)"
      ],
      "metadata": {
        "id": "eKhRNyl_5z9p"
      },
      "execution_count": 10,
      "outputs": []
    },
    {
      "cell_type": "code",
      "source": [
        "print(train.isnull().sum())"
      ],
      "metadata": {
        "colab": {
          "base_uri": "https://localhost:8080/"
        },
        "id": "c8kMhYQz5-Rb",
        "outputId": "30787146-06b4-4185-d667-96b1e7b1c0de"
      },
      "execution_count": 11,
      "outputs": [
        {
          "output_type": "stream",
          "name": "stdout",
          "text": [
            "단지코드                  0\n",
            "총세대수                  0\n",
            "임대건물구분                0\n",
            "지역                    0\n",
            "공급유형                  0\n",
            "전용면적                  0\n",
            "전용면적별세대수              0\n",
            "공가수                   0\n",
            "자격유형                  0\n",
            "도보 10분거리 내 버스정류장 수    0\n",
            "단지내주차면수               0\n",
            "등록차량수                 0\n",
            "dtype: int64\n"
          ]
        }
      ]
    },
    {
      "cell_type": "markdown",
      "source": [
        "# 로그처리"
      ],
      "metadata": {
        "id": "tBlEYCa37pVp"
      }
    },
    {
      "cell_type": "code",
      "source": [
        "import matplotlib.pyplot as plt\n",
        "\n",
        "value_columns = ['총세대수', '전용면적', '전용면적별세대수', '공가수', '도보 10분거리 내 버스정류장 수', '단지내주차면수', '등록차량수']\n",
        "for column_name in value_columns:\n",
        "    print(column_name)\n",
        "    plt.hist(train[column_name], bins=100)\n",
        "    plt.show()"
      ],
      "metadata": {
        "colab": {
          "base_uri": "https://localhost:8080/",
          "height": 1000
        },
        "id": "dxVad6Hk7t7D",
        "outputId": "53cf964e-0564-4b1a-de2d-e523f1568947"
      },
      "execution_count": 13,
      "outputs": [
        {
          "output_type": "stream",
          "name": "stdout",
          "text": [
            "총세대수\n"
          ]
        },
        {
          "output_type": "display_data",
          "data": {
            "image/png": "[encoded data removed]",
            "text/plain": [
              "<Figure size 432x288 with 1 Axes>"
            ]
          },
          "metadata": {
            "needs_background": "light"
          }
        },
        {
          "output_type": "stream",
          "name": "stdout",
          "text": [
            "전용면적\n"
          ]
        },
        {
          "output_type": "display_data",
          "data": {
            "image/png": "[encoded data removed]",
            "text/plain": [
              "<Figure size 432x288 with 1 Axes>"
            ]
          },
          "metadata": {
            "needs_background": "light"
          }
        },
        {
          "output_type": "stream",
          "name": "stdout",
          "text": [
            "전용면적별세대수\n"
          ]
        },
        {
          "output_type": "display_data",
          "data": {
            "image/png": "[encoded data removed]",
            "text/plain": [
              "<Figure size 432x288 with 1 Axes>"
            ]
          },
          "metadata": {
            "needs_background": "light"
          }
        },
        {
          "output_type": "stream",
          "name": "stdout",
          "text": [
            "공가수\n"
          ]
        },
        {
          "output_type": "display_data",
          "data": {
            "image/png": "[encoded data removed]",
            "text/plain": [
              "<Figure size 432x288 with 1 Axes>"
            ]
          },
          "metadata": {
            "needs_background": "light"
          }
        },
        {
          "output_type": "stream",
          "name": "stdout",
          "text": [
            "도보 10분거리 내 버스정류장 수\n"
          ]
        },
        {
          "output_type": "display_data",
          "data": {
            "image/png": "[encoded data removed]",
            "text/plain": [
              "<Figure size 432x288 with 1 Axes>"
            ]
          },
          "metadata": {
            "needs_background": "light"
          }
        },
        {
          "output_type": "stream",
          "name": "stdout",
          "text": [
            "단지내주차면수\n"
          ]
        },
        {
          "output_type": "display_data",
          "data": {
            "image/png": "[encoded data removed]",
            "text/plain": [
              "<Figure size 432x288 with 1 Axes>"
            ]
          },
          "metadata": {
            "needs_background": "light"
          }
        },
        {
          "output_type": "stream",
          "name": "stdout",
          "text": [
            "등록차량수\n"
          ]
        },
        {
          "output_type": "display_data",
          "data": {
            "image/png": "[encoded data removed]",
            "text/plain": [
              "<Figure size 432x288 with 1 Axes>"
            ]
          },
          "metadata": {
            "needs_background": "light"
          }
        }
      ]
    },
    {
      "cell_type": "code",
      "source": [
        "max_values = {\n",
        "    '전용면적':100,\n",
        "    '공가수':40,\n",
        "    '도보 10분거리 내 버스정류장 수':10,\n",
        "}"
      ],
      "metadata": {
        "id": "A-B4t467-o8E"
      },
      "execution_count": 14,
      "outputs": []
    },
    {
      "cell_type": "code",
      "source": [
        "to_be_removed_columns = []\n",
        "import numpy as np\n",
        "log_columns = ['전용면적별세대수']\n",
        "\n",
        "for column_name in log_columns:\n",
        "    print(column_name)\n",
        "    plt.hist(train[column_name], bins=100)\n",
        "    plt.show()    \n",
        "    train['log_'+column_name] = np.log(train[column_name])\n",
        "    plt.hist(train['log_'+column_name], bins=100)\n",
        "    plt.show()    \n",
        "\n",
        "to_be_removed_columns.extend(log_columns) "
      ],
      "metadata": {
        "colab": {
          "base_uri": "https://localhost:8080/",
          "height": 531
        },
        "id": "Y3QGm6TV8kM2",
        "outputId": "36512ff1-054d-4b91-ec86-27bc5583c379"
      },
      "execution_count": 17,
      "outputs": [
        {
          "output_type": "stream",
          "name": "stdout",
          "text": [
            "전용면적별세대수\n"
          ]
        },
        {
          "output_type": "display_data",
          "data": {
            "image/png": "[encoded data removed]",
            "text/plain": [
              "<Figure size 432x288 with 1 Axes>"
            ]
          },
          "metadata": {
            "needs_background": "light"
          }
        },
        {
          "output_type": "display_data",
          "data": {
            "image/png": "[encoded data removed]",
            "text/plain": [
              "<Figure size 432x288 with 1 Axes>"
            ]
          },
          "metadata": {
            "needs_background": "light"
          }
        }
      ]
    },
    {
      "cell_type": "markdown",
      "source": [
        "# 카테고리성 데이터 처리"
      ],
      "metadata": {
        "id": "AvLwzedhwODJ"
      }
    },
    {
      "cell_type": "code",
      "source": [
        "category_columns = ['단지코드', '임대건물구분','지역','공급유형', '자격유형']"
      ],
      "metadata": {
        "id": "E2Jyd14nwG1s"
      },
      "execution_count": 18,
      "outputs": []
    },
    {
      "cell_type": "code",
      "source": [
        "to_be_removed_columns = []\n",
        "\n",
        "for column_name in category_columns:\n",
        "  train[column_name] = train[column_name].astype('category')\n",
        "  train[column_name+'_code'] = train[column_name].cat.codes\n",
        "\n",
        "  test[column_name] = test[column_name].astype('category')\n",
        "  test[column_name+'_code'] = test[column_name].cat.codes\n",
        "\n",
        "train.info()\n",
        "to_be_removed_columns.extend(category_columns)"
      ],
      "metadata": {
        "colab": {
          "base_uri": "https://localhost:8080/"
        },
        "id": "V-5NdPvnw4AN",
        "outputId": "dff88aa3-8740-457e-b43d-dc1ef567db18"
      },
      "execution_count": 19,
      "outputs": [
        {
          "output_type": "stream",
          "name": "stdout",
          "text": [
            "<class 'pandas.core.frame.DataFrame'>\n",
            "Int64Index: 3974 entries, 0 to 1021\n",
            "Data columns (total 18 columns):\n",
            " #   Column              Non-Null Count  Dtype   \n",
            "---  ------              --------------  -----   \n",
            " 0   단지코드                3974 non-null   category\n",
            " 1   총세대수                3974 non-null   int64   \n",
            " 2   임대건물구분              3974 non-null   category\n",
            " 3   지역                  3974 non-null   category\n",
            " 4   공급유형                3974 non-null   category\n",
            " 5   전용면적                3974 non-null   float64 \n",
            " 6   전용면적별세대수            3974 non-null   int64   \n",
            " 7   공가수                 3974 non-null   float64 \n",
            " 8   자격유형                3974 non-null   category\n",
            " 9   도보 10분거리 내 버스정류장 수  3974 non-null   float64 \n",
            " 10  단지내주차면수             3974 non-null   float64 \n",
            " 11  등록차량수               3974 non-null   float64 \n",
            " 12  log_전용면적별세대수        3974 non-null   float64 \n",
            " 13  단지코드_code           3974 non-null   int16   \n",
            " 14  임대건물구분_code         3974 non-null   int8    \n",
            " 15  지역_code             3974 non-null   int8    \n",
            " 16  공급유형_code           3974 non-null   int8    \n",
            " 17  자격유형_code           3974 non-null   int8    \n",
            "dtypes: category(5), float64(6), int16(1), int64(2), int8(4)\n",
            "memory usage: 352.4 KB\n"
          ]
        }
      ]
    },
    {
      "cell_type": "code",
      "source": [
        "print(train.info())\n",
        "print(test.info())"
      ],
      "metadata": {
        "colab": {
          "base_uri": "https://localhost:8080/"
        },
        "id": "_0c3mIOlxwuG",
        "outputId": "9f658b2f-14cd-42eb-b402-350dbcb3a7ef"
      },
      "execution_count": 20,
      "outputs": [
        {
          "output_type": "stream",
          "name": "stdout",
          "text": [
            "<class 'pandas.core.frame.DataFrame'>\n",
            "Int64Index: 3974 entries, 0 to 1021\n",
            "Data columns (total 18 columns):\n",
            " #   Column              Non-Null Count  Dtype   \n",
            "---  ------              --------------  -----   \n",
            " 0   단지코드                3974 non-null   category\n",
            " 1   총세대수                3974 non-null   int64   \n",
            " 2   임대건물구분              3974 non-null   category\n",
            " 3   지역                  3974 non-null   category\n",
            " 4   공급유형                3974 non-null   category\n",
            " 5   전용면적                3974 non-null   float64 \n",
            " 6   전용면적별세대수            3974 non-null   int64   \n",
            " 7   공가수                 3974 non-null   float64 \n",
            " 8   자격유형                3974 non-null   category\n",
            " 9   도보 10분거리 내 버스정류장 수  3974 non-null   float64 \n",
            " 10  단지내주차면수             3974 non-null   float64 \n",
            " 11  등록차량수               3974 non-null   float64 \n",
            " 12  log_전용면적별세대수        3974 non-null   float64 \n",
            " 13  단지코드_code           3974 non-null   int16   \n",
            " 14  임대건물구분_code         3974 non-null   int8    \n",
            " 15  지역_code             3974 non-null   int8    \n",
            " 16  공급유형_code           3974 non-null   int8    \n",
            " 17  자격유형_code           3974 non-null   int8    \n",
            "dtypes: category(5), float64(6), int16(1), int64(2), int8(4)\n",
            "memory usage: 352.4 KB\n",
            "None\n",
            "<class 'pandas.core.frame.DataFrame'>\n",
            "RangeIndex: 1022 entries, 0 to 1021\n",
            "Data columns (total 17 columns):\n",
            " #   Column              Non-Null Count  Dtype   \n",
            "---  ------              --------------  -----   \n",
            " 0   단지코드                1022 non-null   category\n",
            " 1   총세대수                1022 non-null   int64   \n",
            " 2   임대건물구분              1022 non-null   category\n",
            " 3   지역                  1022 non-null   category\n",
            " 4   공급유형                1022 non-null   category\n",
            " 5   전용면적                1022 non-null   float64 \n",
            " 6   전용면적별세대수            1022 non-null   int64   \n",
            " 7   공가수                 1022 non-null   float64 \n",
            " 8   자격유형                1022 non-null   category\n",
            " 9   도보 10분거리 내 버스정류장 수  1022 non-null   float64 \n",
            " 10  단지내주차면수             1022 non-null   float64 \n",
            " 11  등록차량수               1022 non-null   int64   \n",
            " 12  단지코드_code           1022 non-null   int16   \n",
            " 13  임대건물구분_code         1022 non-null   int8    \n",
            " 14  지역_code             1022 non-null   int8    \n",
            " 15  공급유형_code           1022 non-null   int8    \n",
            " 16  자격유형_code           1022 non-null   int8    \n",
            "dtypes: category(5), float64(4), int16(1), int64(3), int8(4)\n",
            "memory usage: 75.8 KB\n",
            "None\n"
          ]
        }
      ]
    },
    {
      "cell_type": "markdown",
      "source": [
        "## 카테고리 컬럼을 one-hot-encoding"
      ],
      "metadata": {
        "id": "FHiN7mrc1kq4"
      }
    },
    {
      "cell_type": "code",
      "source": [
        "category_name = '단지코드'\n",
        "column_name = column_name+'_code'\n",
        "train = pd.get_dummies(train, columns= [column_name])\n",
        "test = pd.get_dummies(test, columns= [column_name])"
      ],
      "metadata": {
        "id": "dKvbe1enyYqM"
      },
      "execution_count": 21,
      "outputs": []
    },
    {
      "cell_type": "code",
      "source": [
        "print(train.info())\n",
        "print(test.info())"
      ],
      "metadata": {
        "colab": {
          "base_uri": "https://localhost:8080/"
        },
        "id": "z5kSvDVe2Icc",
        "outputId": "b95900a2-d9f4-41ca-db48-36d7fd2f0db3"
      },
      "execution_count": 22,
      "outputs": [
        {
          "output_type": "stream",
          "name": "stdout",
          "text": [
            "<class 'pandas.core.frame.DataFrame'>\n",
            "Int64Index: 3974 entries, 0 to 1021\n",
            "Data columns (total 32 columns):\n",
            " #   Column              Non-Null Count  Dtype   \n",
            "---  ------              --------------  -----   \n",
            " 0   단지코드                3974 non-null   category\n",
            " 1   총세대수                3974 non-null   int64   \n",
            " 2   임대건물구분              3974 non-null   category\n",
            " 3   지역                  3974 non-null   category\n",
            " 4   공급유형                3974 non-null   category\n",
            " 5   전용면적                3974 non-null   float64 \n",
            " 6   전용면적별세대수            3974 non-null   int64   \n",
            " 7   공가수                 3974 non-null   float64 \n",
            " 8   자격유형                3974 non-null   category\n",
            " 9   도보 10분거리 내 버스정류장 수  3974 non-null   float64 \n",
            " 10  단지내주차면수             3974 non-null   float64 \n",
            " 11  등록차량수               3974 non-null   float64 \n",
            " 12  log_전용면적별세대수        3974 non-null   float64 \n",
            " 13  단지코드_code           3974 non-null   int16   \n",
            " 14  임대건물구분_code         3974 non-null   int8    \n",
            " 15  지역_code             3974 non-null   int8    \n",
            " 16  공급유형_code           3974 non-null   int8    \n",
            " 17  자격유형_code_0         3974 non-null   uint8   \n",
            " 18  자격유형_code_1         3974 non-null   uint8   \n",
            " 19  자격유형_code_2         3974 non-null   uint8   \n",
            " 20  자격유형_code_3         3974 non-null   uint8   \n",
            " 21  자격유형_code_4         3974 non-null   uint8   \n",
            " 22  자격유형_code_5         3974 non-null   uint8   \n",
            " 23  자격유형_code_6         3974 non-null   uint8   \n",
            " 24  자격유형_code_7         3974 non-null   uint8   \n",
            " 25  자격유형_code_8         3974 non-null   uint8   \n",
            " 26  자격유형_code_9         3974 non-null   uint8   \n",
            " 27  자격유형_code_10        3974 non-null   uint8   \n",
            " 28  자격유형_code_11        3974 non-null   uint8   \n",
            " 29  자격유형_code_12        3974 non-null   uint8   \n",
            " 30  자격유형_code_13        3974 non-null   uint8   \n",
            " 31  자격유형_code_14        3974 non-null   uint8   \n",
            "dtypes: category(5), float64(6), int16(1), int64(2), int8(3), uint8(15)\n",
            "memory usage: 406.8 KB\n",
            "None\n",
            "<class 'pandas.core.frame.DataFrame'>\n",
            "RangeIndex: 1022 entries, 0 to 1021\n",
            "Data columns (total 28 columns):\n",
            " #   Column              Non-Null Count  Dtype   \n",
            "---  ------              --------------  -----   \n",
            " 0   단지코드                1022 non-null   category\n",
            " 1   총세대수                1022 non-null   int64   \n",
            " 2   임대건물구분              1022 non-null   category\n",
            " 3   지역                  1022 non-null   category\n",
            " 4   공급유형                1022 non-null   category\n",
            " 5   전용면적                1022 non-null   float64 \n",
            " 6   전용면적별세대수            1022 non-null   int64   \n",
            " 7   공가수                 1022 non-null   float64 \n",
            " 8   자격유형                1022 non-null   category\n",
            " 9   도보 10분거리 내 버스정류장 수  1022 non-null   float64 \n",
            " 10  단지내주차면수             1022 non-null   float64 \n",
            " 11  등록차량수               1022 non-null   int64   \n",
            " 12  단지코드_code           1022 non-null   int16   \n",
            " 13  임대건물구분_code         1022 non-null   int8    \n",
            " 14  지역_code             1022 non-null   int8    \n",
            " 15  공급유형_code           1022 non-null   int8    \n",
            " 16  자격유형_code_0         1022 non-null   uint8   \n",
            " 17  자격유형_code_1         1022 non-null   uint8   \n",
            " 18  자격유형_code_2         1022 non-null   uint8   \n",
            " 19  자격유형_code_3         1022 non-null   uint8   \n",
            " 20  자격유형_code_4         1022 non-null   uint8   \n",
            " 21  자격유형_code_5         1022 non-null   uint8   \n",
            " 22  자격유형_code_6         1022 non-null   uint8   \n",
            " 23  자격유형_code_7         1022 non-null   uint8   \n",
            " 24  자격유형_code_8         1022 non-null   uint8   \n",
            " 25  자격유형_code_9         1022 non-null   uint8   \n",
            " 26  자격유형_code_10        1022 non-null   uint8   \n",
            " 27  자격유형_code_11        1022 non-null   uint8   \n",
            "dtypes: category(5), float64(4), int16(1), int64(3), int8(3), uint8(12)\n",
            "memory usage: 86.8 KB\n",
            "None\n"
          ]
        }
      ]
    },
    {
      "cell_type": "markdown",
      "source": [
        "# 불필요한 컬럼 삭제"
      ],
      "metadata": {
        "id": "lFdlQl7g9lRI"
      }
    },
    {
      "cell_type": "code",
      "source": [
        "train.drop(columns=to_be_removed_columns, inplace=True)"
      ],
      "metadata": {
        "id": "slVwTjQW9nmw"
      },
      "execution_count": 25,
      "outputs": []
    },
    {
      "cell_type": "code",
      "source": [
        "print(train.info())"
      ],
      "metadata": {
        "colab": {
          "base_uri": "https://localhost:8080/"
        },
        "id": "-JA2KCAu9sXU",
        "outputId": "37a4dd6e-83cf-4ff7-fc0b-0508233f738a"
      },
      "execution_count": 26,
      "outputs": [
        {
          "output_type": "stream",
          "name": "stdout",
          "text": [
            "<class 'pandas.core.frame.DataFrame'>\n",
            "Int64Index: 3974 entries, 0 to 1021\n",
            "Data columns (total 27 columns):\n",
            " #   Column              Non-Null Count  Dtype  \n",
            "---  ------              --------------  -----  \n",
            " 0   총세대수                3974 non-null   int64  \n",
            " 1   전용면적                3974 non-null   float64\n",
            " 2   전용면적별세대수            3974 non-null   int64  \n",
            " 3   공가수                 3974 non-null   float64\n",
            " 4   도보 10분거리 내 버스정류장 수  3974 non-null   float64\n",
            " 5   단지내주차면수             3974 non-null   float64\n",
            " 6   등록차량수               3974 non-null   float64\n",
            " 7   log_전용면적별세대수        3974 non-null   float64\n",
            " 8   단지코드_code           3974 non-null   int16  \n",
            " 9   임대건물구분_code         3974 non-null   int8   \n",
            " 10  지역_code             3974 non-null   int8   \n",
            " 11  공급유형_code           3974 non-null   int8   \n",
            " 12  자격유형_code_0         3974 non-null   uint8  \n",
            " 13  자격유형_code_1         3974 non-null   uint8  \n",
            " 14  자격유형_code_2         3974 non-null   uint8  \n",
            " 15  자격유형_code_3         3974 non-null   uint8  \n",
            " 16  자격유형_code_4         3974 non-null   uint8  \n",
            " 17  자격유형_code_5         3974 non-null   uint8  \n",
            " 18  자격유형_code_6         3974 non-null   uint8  \n",
            " 19  자격유형_code_7         3974 non-null   uint8  \n",
            " 20  자격유형_code_8         3974 non-null   uint8  \n",
            " 21  자격유형_code_9         3974 non-null   uint8  \n",
            " 22  자격유형_code_10        3974 non-null   uint8  \n",
            " 23  자격유형_code_11        3974 non-null   uint8  \n",
            " 24  자격유형_code_12        3974 non-null   uint8  \n",
            " 25  자격유형_code_13        3974 non-null   uint8  \n",
            " 26  자격유형_code_14        3974 non-null   uint8  \n",
            "dtypes: float64(6), int16(1), int64(2), int8(3), uint8(15)\n",
            "memory usage: 357.0 KB\n",
            "None\n"
          ]
        }
      ]
    },
    {
      "cell_type": "markdown",
      "source": [
        "# Normalization"
      ],
      "metadata": {
        "id": "RyoFZzPJ85od"
      }
    },
    {
      "cell_type": "code",
      "source": [
        "y_df = train['등록차량수']\n",
        "x_df = train.drop(columns=['등록차량수'])"
      ],
      "metadata": {
        "id": "y-7sEaX867YX"
      },
      "execution_count": 27,
      "outputs": []
    },
    {
      "cell_type": "code",
      "source": [
        "x_df = (x_df - x_df.min()) / (x_df.max() - x_df.min())"
      ],
      "metadata": {
        "id": "BS53zb2e1P1L"
      },
      "execution_count": 28,
      "outputs": []
    },
    {
      "cell_type": "code",
      "source": [
        "print(len(y_df))\n",
        "print(y_df.value_counts())"
      ],
      "metadata": {
        "colab": {
          "base_uri": "https://localhost:8080/"
        },
        "id": "S1SYkYu-1Pyd",
        "outputId": "d7ad7ada-b973-4e43-cec4-993b914a563b"
      },
      "execution_count": 29,
      "outputs": [
        {
          "output_type": "stream",
          "name": "stdout",
          "text": [
            "3974\n",
            "-1.0      1022\n",
            " 359.0      61\n",
            " 172.0      48\n",
            " 62.0       44\n",
            " 116.0      40\n",
            "          ... \n",
            " 149.0       2\n",
            " 873.0       2\n",
            " 73.0        2\n",
            " 16.0        1\n",
            " 386.0       1\n",
            "Name: 등록차량수, Length: 355, dtype: int64\n"
          ]
        }
      ]
    },
    {
      "cell_type": "code",
      "source": [
        "y_df = (y_df - y_df.min()) / (y_df.max() - y_df.min())"
      ],
      "metadata": {
        "id": "nmoU5RvRBZZs"
      },
      "execution_count": 30,
      "outputs": []
    },
    {
      "cell_type": "markdown",
      "source": [
        "# train, test 분리"
      ],
      "metadata": {
        "id": "o4SC3t1W-3mh"
      }
    },
    {
      "cell_type": "code",
      "source": [
        "import numpy as np\n",
        "x = x_df.to_numpy()\n",
        "y = y_df.to_numpy()\n",
        "\n",
        "print(x.shape)\n",
        "print(y.shape)"
      ],
      "metadata": {
        "colab": {
          "base_uri": "https://localhost:8080/"
        },
        "id": "4tXPDgrs-5f-",
        "outputId": "52f6e8e8-9a31-456e-8600-7a3b4f5729c5"
      },
      "execution_count": 32,
      "outputs": [
        {
          "output_type": "stream",
          "name": "stdout",
          "text": [
            "(3974, 26)\n",
            "(3974,)\n"
          ]
        }
      ]
    },
    {
      "cell_type": "markdown",
      "source": [
        "# train / test 분리"
      ],
      "metadata": {
        "id": "8bXgytWc-qaV"
      }
    },
    {
      "cell_type": "code",
      "source": [
        "\n",
        "train_x, test_x = x[:train_data_count], x[:test_data_count]\n",
        "train_y, test_y = y[:train_data_count], y[:test_data_count]"
      ],
      "metadata": {
        "id": "eDwcY4yl1PtN"
      },
      "execution_count": 36,
      "outputs": []
    },
    {
      "cell_type": "markdown",
      "source": [
        "# 모델 학습"
      ],
      "metadata": {
        "id": "-q9vza3p_Nlk"
      }
    },
    {
      "cell_type": "code",
      "source": [
        "import numpy as np\n",
        "import pandas as pd\n",
        "import matplotlib.pyplot as plt\n",
        "\n",
        "import tensorflow as tf\n",
        "\n",
        "from tensorflow import keras\n",
        "from tensorflow.keras import optimizers\n",
        "from tensorflow.keras.layers import Dense\n",
        "\n",
        "model = keras.Sequential()\n",
        "model.add(Dense(10, activation='relu', input_shape=(train_x.shape[-1],)))\n",
        "model.add(Dense(10, activation='relu'))\n",
        "model.add(Dense(1))\n",
        "\n",
        "model.compile(optimizer=\"SGD\", loss=\"mse\", metrics=[\"mape\"])\n",
        "model.summary()\n",
        "\n",
        "from tensorflow.keras.callbacks import EarlyStopping\n",
        "early_stopping = EarlyStopping(\n",
        "    monitor='val_loss',  # 모니터링 대상\n",
        "    verbose=1,\n",
        "    patience=50)         # 중지까지의 여유분\n",
        "\n",
        "history = model.fit(train_x, train_y, epochs=1000, verbose=1, batch_size=128, validation_split=0.1,\n",
        "                    callbacks=[early_stopping])\n",
        "\n",
        "plt.plot(history.history['loss'])\n",
        "plt.plot(history.history['val_loss'])\n",
        "plt.show()\n",
        "\n",
        "\n",
        "\n",
        "loss, mape = model.evaluate(test_x, test_y)\n",
        "print(\"loss=\", loss)\n",
        "print(\"mape=\", mape)\n",
        "\n",
        "y_ = model.predict(test_x)\n",
        "\n",
        "plt.scatter(test_y, y_)\n",
        "plt.show()"
      ],
      "metadata": {
        "colab": {
          "base_uri": "https://localhost:8080/",
          "height": 1000
        },
        "id": "cRG40KD9u30A",
        "outputId": "72d5957a-f27f-49aa-d5d1-c50ea030541d"
      },
      "execution_count": 39,
      "outputs": [
        {
          "output_type": "stream",
          "name": "stdout",
          "text": [
            "Model: \"sequential_2\"\n",
            "_________________________________________________________________\n",
            " Layer (type)                Output Shape              Param #   \n",
            "=================================================================\n",
            " dense_6 (Dense)             (None, 10)                270       \n",
            "                                                                 \n",
            " dense_7 (Dense)             (None, 10)                110       \n",
            "                                                                 \n",
            " dense_8 (Dense)             (None, 1)                 11        \n",
            "                                                                 \n",
            "=================================================================\n",
            "Total params: 391\n",
            "Trainable params: 391\n",
            "Non-trainable params: 0\n",
            "_________________________________________________________________\n",
            "Epoch 1/1000\n",
            "28/28 [==============================] - 0s 7ms/step - loss: 0.0538 - mape: 10071411.0000 - val_loss: 0.0186 - val_mape: 117807168.0000\n",
            "Epoch 2/1000\n",
            "28/28 [==============================] - 0s 3ms/step - loss: 0.0336 - mape: 21127930.0000 - val_loss: 0.0319 - val_mape: 166269152.0000\n",
            "Epoch 3/1000\n",
            "28/28 [==============================] - 0s 3ms/step - loss: 0.0296 - mape: 26471662.0000 - val_loss: 0.0383 - val_mape: 185217840.0000\n",
            "Epoch 4/1000\n",
            "28/28 [==============================] - 0s 3ms/step - loss: 0.0280 - mape: 28388096.0000 - val_loss: 0.0412 - val_mape: 193110528.0000\n",
            "Epoch 5/1000\n",
            "28/28 [==============================] - 0s 3ms/step - loss: 0.0271 - mape: 29205798.0000 - val_loss: 0.0422 - val_mape: 196169680.0000\n",
            "Epoch 6/1000\n",
            "28/28 [==============================] - 0s 3ms/step - loss: 0.0263 - mape: 29408778.0000 - val_loss: 0.0429 - val_mape: 197994656.0000\n",
            "Epoch 7/1000\n",
            "28/28 [==============================] - 0s 3ms/step - loss: 0.0257 - mape: 29547302.0000 - val_loss: 0.0431 - val_mape: 198558192.0000\n",
            "Epoch 8/1000\n",
            "28/28 [==============================] - 0s 3ms/step - loss: 0.0252 - mape: 29590248.0000 - val_loss: 0.0431 - val_mape: 198458096.0000\n",
            "Epoch 9/1000\n",
            "28/28 [==============================] - 0s 3ms/step - loss: 0.0247 - mape: 29416588.0000 - val_loss: 0.0434 - val_mape: 198945360.0000\n",
            "Epoch 10/1000\n",
            "28/28 [==============================] - 0s 3ms/step - loss: 0.0242 - mape: 29099280.0000 - val_loss: 0.0443 - val_mape: 201017184.0000\n",
            "Epoch 11/1000\n",
            "28/28 [==============================] - 0s 3ms/step - loss: 0.0238 - mape: 29045220.0000 - val_loss: 0.0452 - val_mape: 202812672.0000\n",
            "Epoch 12/1000\n",
            "28/28 [==============================] - 0s 3ms/step - loss: 0.0233 - mape: 29215010.0000 - val_loss: 0.0455 - val_mape: 203111392.0000\n",
            "Epoch 13/1000\n",
            "28/28 [==============================] - 0s 3ms/step - loss: 0.0229 - mape: 28993080.0000 - val_loss: 0.0460 - val_mape: 204024192.0000\n",
            "Epoch 14/1000\n",
            "28/28 [==============================] - 0s 3ms/step - loss: 0.0225 - mape: 29121382.0000 - val_loss: 0.0460 - val_mape: 203563728.0000\n",
            "Epoch 15/1000\n",
            "28/28 [==============================] - 0s 3ms/step - loss: 0.0221 - mape: 28591416.0000 - val_loss: 0.0471 - val_mape: 205839760.0000\n",
            "Epoch 16/1000\n",
            "28/28 [==============================] - 0s 3ms/step - loss: 0.0218 - mape: 29073270.0000 - val_loss: 0.0467 - val_mape: 204422080.0000\n",
            "Epoch 17/1000\n",
            "28/28 [==============================] - 0s 3ms/step - loss: 0.0214 - mape: 28572736.0000 - val_loss: 0.0473 - val_mape: 205413344.0000\n",
            "Epoch 18/1000\n",
            "28/28 [==============================] - 0s 3ms/step - loss: 0.0210 - mape: 28613300.0000 - val_loss: 0.0475 - val_mape: 205389744.0000\n",
            "Epoch 19/1000\n",
            "28/28 [==============================] - 0s 3ms/step - loss: 0.0207 - mape: 28545524.0000 - val_loss: 0.0475 - val_mape: 204927200.0000\n",
            "Epoch 20/1000\n",
            "28/28 [==============================] - 0s 3ms/step - loss: 0.0203 - mape: 28519454.0000 - val_loss: 0.0471 - val_mape: 203568784.0000\n",
            "Epoch 21/1000\n",
            "28/28 [==============================] - 0s 3ms/step - loss: 0.0200 - mape: 28092410.0000 - val_loss: 0.0476 - val_mape: 204245664.0000\n",
            "Epoch 22/1000\n",
            "28/28 [==============================] - 0s 3ms/step - loss: 0.0198 - mape: 27947816.0000 - val_loss: 0.0480 - val_mape: 204839520.0000\n",
            "Epoch 23/1000\n",
            "28/28 [==============================] - 0s 3ms/step - loss: 0.0195 - mape: 27844042.0000 - val_loss: 0.0483 - val_mape: 205332704.0000\n",
            "Epoch 24/1000\n",
            "28/28 [==============================] - 0s 3ms/step - loss: 0.0192 - mape: 27916382.0000 - val_loss: 0.0480 - val_mape: 204281472.0000\n",
            "Epoch 25/1000\n",
            "28/28 [==============================] - 0s 3ms/step - loss: 0.0190 - mape: 27599148.0000 - val_loss: 0.0484 - val_mape: 204875648.0000\n",
            "Epoch 26/1000\n",
            "28/28 [==============================] - 0s 3ms/step - loss: 0.0188 - mape: 27571486.0000 - val_loss: 0.0484 - val_mape: 204572400.0000\n",
            "Epoch 27/1000\n",
            "28/28 [==============================] - 0s 3ms/step - loss: 0.0186 - mape: 27449804.0000 - val_loss: 0.0484 - val_mape: 204406208.0000\n",
            "Epoch 28/1000\n",
            "28/28 [==============================] - 0s 3ms/step - loss: 0.0184 - mape: 27319464.0000 - val_loss: 0.0486 - val_mape: 204620064.0000\n",
            "Epoch 29/1000\n",
            "28/28 [==============================] - 0s 3ms/step - loss: 0.0183 - mape: 27396994.0000 - val_loss: 0.0483 - val_mape: 203653136.0000\n",
            "Epoch 30/1000\n",
            "28/28 [==============================] - 0s 3ms/step - loss: 0.0181 - mape: 27403638.0000 - val_loss: 0.0476 - val_mape: 201768400.0000\n",
            "Epoch 31/1000\n",
            "28/28 [==============================] - 0s 3ms/step - loss: 0.0179 - mape: 27033082.0000 - val_loss: 0.0480 - val_mape: 202420288.0000\n",
            "Epoch 32/1000\n",
            "28/28 [==============================] - 0s 3ms/step - loss: 0.0178 - mape: 27095808.0000 - val_loss: 0.0479 - val_mape: 201945872.0000\n",
            "Epoch 33/1000\n",
            "28/28 [==============================] - 0s 3ms/step - loss: 0.0176 - mape: 26754060.0000 - val_loss: 0.0487 - val_mape: 203711712.0000\n",
            "Epoch 34/1000\n",
            "28/28 [==============================] - 0s 3ms/step - loss: 0.0175 - mape: 27274908.0000 - val_loss: 0.0476 - val_mape: 200690896.0000\n",
            "Epoch 35/1000\n",
            "28/28 [==============================] - 0s 3ms/step - loss: 0.0174 - mape: 26847726.0000 - val_loss: 0.0478 - val_mape: 200906448.0000\n",
            "Epoch 36/1000\n",
            "28/28 [==============================] - 0s 3ms/step - loss: 0.0172 - mape: 26804208.0000 - val_loss: 0.0480 - val_mape: 201128560.0000\n",
            "Epoch 37/1000\n",
            "28/28 [==============================] - 0s 3ms/step - loss: 0.0171 - mape: 26815334.0000 - val_loss: 0.0478 - val_mape: 200539680.0000\n",
            "Epoch 38/1000\n",
            "28/28 [==============================] - 0s 3ms/step - loss: 0.0170 - mape: 26762828.0000 - val_loss: 0.0477 - val_mape: 200117472.0000\n",
            "Epoch 39/1000\n",
            "28/28 [==============================] - 0s 3ms/step - loss: 0.0169 - mape: 26716252.0000 - val_loss: 0.0477 - val_mape: 199735904.0000\n",
            "Epoch 40/1000\n",
            "28/28 [==============================] - 0s 3ms/step - loss: 0.0168 - mape: 26689690.0000 - val_loss: 0.0475 - val_mape: 199194704.0000\n",
            "Epoch 41/1000\n",
            "28/28 [==============================] - 0s 3ms/step - loss: 0.0167 - mape: 26727928.0000 - val_loss: 0.0471 - val_mape: 198001808.0000\n",
            "Epoch 42/1000\n",
            "28/28 [==============================] - 0s 3ms/step - loss: 0.0166 - mape: 26429108.0000 - val_loss: 0.0477 - val_mape: 199029152.0000\n",
            "Epoch 43/1000\n",
            "28/28 [==============================] - 0s 3ms/step - loss: 0.0165 - mape: 26511658.0000 - val_loss: 0.0478 - val_mape: 199095856.0000\n",
            "Epoch 44/1000\n",
            "28/28 [==============================] - 0s 3ms/step - loss: 0.0164 - mape: 26629996.0000 - val_loss: 0.0473 - val_mape: 197739872.0000\n",
            "Epoch 45/1000\n",
            "28/28 [==============================] - 0s 3ms/step - loss: 0.0164 - mape: 26479930.0000 - val_loss: 0.0473 - val_mape: 197487104.0000\n",
            "Epoch 46/1000\n",
            "28/28 [==============================] - 0s 3ms/step - loss: 0.0163 - mape: 26382512.0000 - val_loss: 0.0475 - val_mape: 197738832.0000\n",
            "Epoch 47/1000\n",
            "28/28 [==============================] - 0s 3ms/step - loss: 0.0162 - mape: 26607696.0000 - val_loss: 0.0468 - val_mape: 195832256.0000\n",
            "Epoch 48/1000\n",
            "28/28 [==============================] - 0s 3ms/step - loss: 0.0161 - mape: 26446358.0000 - val_loss: 0.0466 - val_mape: 195072336.0000\n",
            "Epoch 49/1000\n",
            "28/28 [==============================] - 0s 3ms/step - loss: 0.0160 - mape: 26152146.0000 - val_loss: 0.0474 - val_mape: 196736112.0000\n",
            "Epoch 50/1000\n",
            "28/28 [==============================] - 0s 3ms/step - loss: 0.0160 - mape: 26339418.0000 - val_loss: 0.0474 - val_mape: 196518336.0000\n",
            "Epoch 51/1000\n",
            "28/28 [==============================] - 0s 3ms/step - loss: 0.0159 - mape: 26296384.0000 - val_loss: 0.0474 - val_mape: 196407440.0000\n",
            "Epoch 00051: early stopping\n"
          ]
        },
        {
          "output_type": "display_data",
          "data": {
            "image/png": "[encoded data removed]",
            "text/plain": [
              "<Figure size 432x288 with 1 Axes>"
            ]
          },
          "metadata": {
            "needs_background": "light"
          }
        },
        {
          "output_type": "stream",
          "name": "stdout",
          "text": [
            "32/32 [==============================] - 0s 2ms/step - loss: 0.0064 - mape: 64.6051\n",
            "loss= 0.006419665180146694\n",
            "mape= 64.60513305664062\n"
          ]
        },
        {
          "output_type": "display_data",
          "data": {
            "image/png": "[encoded data removed]",
            "text/plain": [
              "<Figure size 432x288 with 1 Axes>"
            ]
          },
          "metadata": {
            "needs_background": "light"
          }
        }
      ]
    },
    {
      "cell_type": "code",
      "source": [
        ""
      ],
      "metadata": {
        "id": "2JaAzrUSB1hy"
      },
      "execution_count": null,
      "outputs": []
    }
  ]
}